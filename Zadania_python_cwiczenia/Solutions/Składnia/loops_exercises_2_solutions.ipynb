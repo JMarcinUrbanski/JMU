{
 "cells": [
  {
   "cell_type": "markdown",
   "metadata": {
    "toc": true
   },
   "source": [
    "<h1>Table of Contents<span class=\"tocSkip\"></span></h1>\n",
    "<div class=\"toc\"><ul class=\"toc-item\"><li><span><a href=\"#Zadanie-1---while\" data-toc-modified-id=\"Zadanie-1---while-1\">Zadanie 1 - while</a></span></li><li><span><a href=\"#Zadanie-2---for\" data-toc-modified-id=\"Zadanie-2---for-2\">Zadanie 2 - for</a></span></li><li><span><a href=\"#Zadanie-3---for\" data-toc-modified-id=\"Zadanie-3---for-3\">Zadanie 3 - for</a></span></li><li><span><a href=\"#Zadanie-4---for\" data-toc-modified-id=\"Zadanie-4---for-4\">Zadanie 4 - for</a></span></li><li><span><a href=\"#Zadanie-5\" data-toc-modified-id=\"Zadanie-5-5\">Zadanie 5</a></span></li><li><span><a href=\"#Zadanie-6\" data-toc-modified-id=\"Zadanie-6-6\">Zadanie 6</a></span></li></ul></div>"
   ]
  },
  {
   "cell_type": "markdown",
   "metadata": {},
   "source": [
    "#### Zadanie 1 - while\n",
    "\n",
    "Wypisz liczby należące do ciągu Fibonacciego mniejsze od 100\n",
    "\n",
    "https://pl.wikipedia.org/wiki/Ciąg_Fibonacciego"
   ]
  },
  {
   "cell_type": "code",
   "execution_count": 2,
   "metadata": {},
   "outputs": [
    {
     "name": "stdout",
     "output_type": "stream",
     "text": [
      "0\n",
      "1\n",
      "1\n",
      "2\n",
      "3\n",
      "5\n",
      "8\n",
      "13\n",
      "21\n",
      "34\n",
      "55\n",
      "89\n"
     ]
    }
   ],
   "source": [
    "previous = 0\n",
    "current = 1\n",
    "print(previous)\n",
    "while current < 100:\n",
    "    print(current)\n",
    "    next_num = current + previous\n",
    "    previous = current\n",
    "    current = next_num"
   ]
  },
  {
   "cell_type": "markdown",
   "metadata": {},
   "source": [
    "#### Zadanie 2 - for\n",
    "\n",
    "Dla liczb od 1 do 100 (włacznie)\n",
    "\n",
    "Jeśli podzielna tylko przez 3 to napisz Fizz oraz tą liczbę \n",
    "\n",
    "Jeśli podzilena tylko przez 5 to napisz Buzz oraz tą liczbę \n",
    "\n",
    "Jeśli podzielna przez 3 i przez 5 to napisz FizzBuzz oraz tą liczbę "
   ]
  },
  {
   "cell_type": "code",
   "execution_count": null,
   "metadata": {},
   "outputs": [],
   "source": [
    "for i in range(1, 101):\n",
    "    if i % 3 == 0 and i % 5 == 0:\n",
    "        print(\"FizzBuzz\", i)\n",
    "    elif i % 3 == 0:\n",
    "        print(\"Fizz\", i)\n",
    "    elif i % 5 == 0:\n",
    "        print(\"Buzz\",i)"
   ]
  },
  {
   "cell_type": "markdown",
   "metadata": {},
   "source": [
    "#### Zadanie 3 - for\n",
    "\n",
    "Napisz licznik litery \"a\" w tekscie\n",
    "\n",
    "Program powinien przyjąć od użytkownika dowolny tekst, a następnie wypisać liczbę wystąpień znaku \"a\" (tylko małej)\n",
    "\n",
    "Zadanie zrealizuj przy pomocy pętli `for`"
   ]
  },
  {
   "cell_type": "code",
   "execution_count": null,
   "metadata": {},
   "outputs": [],
   "source": []
  },
  {
   "cell_type": "markdown",
   "metadata": {},
   "source": [
    "#### Zadanie 4 - for\n",
    "\n",
    "Napisz program który zobrazuje indeksowanie stringów\n",
    "\n",
    "Program powinien przyjąć od użytkownika dowolny tekst, a następnie wypisać co linię kolejny znak w cudzysłowie, jego indeks dodatni i indeks ujemny\n",
    "\n",
    "Np.:\n",
    "\n",
    "Podaj tekst:\n",
    "```\n",
    "\n",
    "\"r\" 0 -5\n",
    "\"a\" 1 -4\n",
    "\"f\" 2 -3\n",
    "\"a\" 3 -2\n",
    "\"l\" 4 -1\n",
    "```"
   ]
  },
  {
   "cell_type": "code",
   "execution_count": null,
   "metadata": {},
   "outputs": [],
   "source": []
  },
  {
   "cell_type": "markdown",
   "metadata": {},
   "source": [
    "#### Zadanie 5\n",
    "\n",
    "Przyjmij dowolny tekst od użytkownika\n",
    "\n",
    "Policz ile jest samogłosek, a ile spółgłosek i wypisz wynik"
   ]
  },
  {
   "cell_type": "code",
   "execution_count": null,
   "metadata": {},
   "outputs": [],
   "source": []
  },
  {
   "cell_type": "markdown",
   "metadata": {},
   "source": [
    "#### Zadanie 6\n",
    "\n",
    "Pobierz liczbę od użytkownika (upewnij się, że faktycznie jest to liczba)\n",
    "Wymaluj piramidę tej wysokości z liter \"M\"\n",
    "\n",
    "Np.: dla liczby 4\n",
    "\n",
    "```\n",
    "   M\n",
    "  MMM\n",
    " MMMMM\n",
    "MMMMMMM\n",
    "```"
   ]
  },
  {
   "cell_type": "code",
   "execution_count": 1,
   "metadata": {},
   "outputs": [
    {
     "name": "stdin",
     "output_type": "stream",
     "text": [
      "Podaj wysokość choinki:  4\n"
     ]
    },
    {
     "name": "stdout",
     "output_type": "stream",
     "text": [
      "   M\n",
      "  MMM\n",
      " MMMMM\n",
      "MMMMMMM\n"
     ]
    }
   ],
   "source": [
    "liczba = int(input(\"Podaj wysokość choinki: \"))\n",
    "\n",
    "for i in range(1, liczba + 1):\n",
    "    row = \" \" * (liczba - i) + \"M\" * (2 * i - 1)\n",
    "    print(row)"
   ]
  },
  {
   "cell_type": "code",
   "execution_count": null,
   "metadata": {},
   "outputs": [],
   "source": []
  }
 ],
 "metadata": {
  "kernelspec": {
   "display_name": "Python 3",
   "language": "python",
   "name": "python3"
  },
  "language_info": {
   "codemirror_mode": {
    "name": "ipython",
    "version": 3
   },
   "file_extension": ".py",
   "mimetype": "text/x-python",
   "name": "python",
   "nbconvert_exporter": "python",
   "pygments_lexer": "ipython3",
   "version": "3.8.8"
  },
  "toc": {
   "base_numbering": 1,
   "nav_menu": {},
   "number_sections": false,
   "sideBar": false,
   "skip_h1_title": false,
   "title_cell": "Table of Contents",
   "title_sidebar": "Contents",
   "toc_cell": true,
   "toc_position": {},
   "toc_section_display": true,
   "toc_window_display": false
  }
 },
 "nbformat": 4,
 "nbformat_minor": 4
}
