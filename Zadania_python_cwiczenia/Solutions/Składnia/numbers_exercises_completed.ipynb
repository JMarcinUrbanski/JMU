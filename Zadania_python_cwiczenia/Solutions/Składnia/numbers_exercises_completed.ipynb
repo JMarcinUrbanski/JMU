{
 "cells": [
  {
   "cell_type": "markdown",
   "metadata": {},
   "source": [
    "#### Zadanie 1\n",
    "\n",
    "Trójkąt ma podstawę równą 10 i wysokość równą 8.\n",
    "\n",
    "Zapisz te wartości odpowiednio do zmiennych `a` i `h`"
   ]
  },
  {
   "cell_type": "code",
   "execution_count": null,
   "metadata": {},
   "outputs": [],
   "source": [
    "a = 10\n",
    "h = 8"
   ]
  },
  {
   "cell_type": "markdown",
   "metadata": {},
   "source": [
    "#### Zadanie 2\n",
    "\n",
    "Drugi trójkąt ma podstawę o 4 dłuższą\n",
    "\n",
    "Wylicz jej wartość (użyj zmiennej `a`) i przypisz wynik do zmiennej `a_2`"
   ]
  },
  {
   "cell_type": "code",
   "execution_count": null,
   "metadata": {},
   "outputs": [],
   "source": [
    "a_2 = a + 4"
   ]
  },
  {
   "cell_type": "markdown",
   "metadata": {},
   "source": [
    "#### Zadanie 3\n",
    "\n",
    "Policz pole drugiego trójkąta i wynik zapisz do zmiennej `pole_2`"
   ]
  },
  {
   "cell_type": "code",
   "execution_count": null,
   "metadata": {},
   "outputs": [],
   "source": [
    "pole_2 = a_2 * h / 2\n",
    "\n",
    "print(pole_2)"
   ]
  },
  {
   "cell_type": "markdown",
   "metadata": {},
   "source": [
    "#### Zadanie 4\n",
    "\n",
    "Pierwsza kwota wynosi 14,23 zł, druga 10,50 zł\n",
    "\n",
    "Zapisz je jako zmienne typu float - `kwota_1` i `kwota_2`\n",
    "\n",
    "Dodaj je do siebie i zapisz wynik do zmiennej `suma`"
   ]
  },
  {
   "cell_type": "code",
   "execution_count": null,
   "metadata": {},
   "outputs": [],
   "source": [
    "kwota_1 = 14.23\n",
    "kwota_2 = 10.50\n",
    "\n",
    "suma = kwota_1 + kwota_2\n",
    "print(suma)"
   ]
  },
  {
   "cell_type": "markdown",
   "metadata": {},
   "source": [
    "#### Zadanie 5\n",
    "\n",
    "Boki prostkąta zapisane są w poniższych zmiennych. Korzystając z twierdzenia Pitagorasa wylicz jego przekątną.\n",
    "\n",
    "(pierwiastek drugiego stopnia to inaczej potęga 1/2)"
   ]
  },
  {
   "cell_type": "code",
   "execution_count": null,
   "metadata": {},
   "outputs": [],
   "source": [
    "a = 8\n",
    "b = 13\n",
    "\n",
    "przekatna = (a ** 2 + b ** 2) ** (1/2)\n",
    "print(przekatna)"
   ]
  },
  {
   "cell_type": "markdown",
   "metadata": {},
   "source": [
    "#### Zadanie 5\n",
    "\n",
    "Wylicz odległość pomiędzy poniższymi punktami."
   ]
  },
  {
   "cell_type": "code",
   "execution_count": null,
   "metadata": {},
   "outputs": [],
   "source": [
    "A_x = 30\n",
    "A_y = 150\n",
    "B_x = 120\n",
    "B_y = 100\n",
    "\n",
    "odleglosc = ((A_x - B_x) ** 2 + (A_y - B_y) ** 2) ** (1/2)\n",
    "print(odleglosc)"
   ]
  },
  {
   "cell_type": "markdown",
   "metadata": {},
   "source": [
    "#### Zadanie 6\n",
    "\n",
    "Wykorzystywanie float do liczenia pieniędzy nie jest dobrym pomysłem. Spróbujmy użyć zawsze precyzyjnych liczb całkowitych.\n",
    "\n",
    "Wykorzystaj poniższe zmienne, żeby policzyć sumę kwot. Wypisz wynik jako tekst `xx,yy zł`"
   ]
  },
  {
   "cell_type": "code",
   "execution_count": null,
   "metadata": {},
   "outputs": [],
   "source": [
    "zlotowki_1 = 14\n",
    "grosze_1 = 23\n",
    "zlotowki_2 = 10\n",
    "grosze_2 = 50\n",
    "\n",
    "suma_zl = zlotowki_1 + zlotowki_2\n",
    "suma_gr = grosze_1 + grosze_2\n",
    "\n",
    "# Wypisanie wyniku\n",
    "tekst_wyniku = str(suma_zl) + \",\" + str(suma_gr) + \" zł\"\n",
    "print(tekst_wyniku)"
   ]
  },
  {
   "cell_type": "markdown",
   "metadata": {},
   "source": [
    "#### Zadanie 7\n",
    "\n",
    "Wykonaj powyższe ćwiczenie (6, z liczbami całkowitymi), ale dla kwot 26,78 zł i 4,50 zł"
   ]
  },
  {
   "cell_type": "code",
   "execution_count": 1,
   "metadata": {},
   "outputs": [
    {
     "name": "stdout",
     "output_type": "stream",
     "text": [
      "31,28 zł\n"
     ]
    }
   ],
   "source": [
    "zlotowki_1 = 26\n",
    "grosze_1 = 78\n",
    "zlotowki_2 = 4\n",
    "grosze_2 = 50\n",
    "\n",
    "suma_gr = grosze_1 + grosze_2\n",
    "\n",
    "# Operator modulo (reszta z dzielenia) %\n",
    "reszta_gr = suma_gr % 100\n",
    "\n",
    "# Operator części całkowitej z dzielenia //\n",
    "nadwyzka_zl = suma_gr // 100\n",
    "\n",
    "suma_zl = zlotowki_1 + zlotowki_2 + nadwyzka_zl\n",
    "\n",
    "# Wypisanie wyniku\n",
    "tekst_wyniku = str(suma_zl) + \",\" + str(reszta_gr) + \" zł\"\n",
    "print(tekst_wyniku)"
   ]
  },
  {
   "cell_type": "code",
   "execution_count": null,
   "metadata": {},
   "outputs": [],
   "source": []
  }
 ],
 "metadata": {
  "kernelspec": {
   "display_name": "Python 3",
   "language": "python",
   "name": "python3"
  },
  "language_info": {
   "codemirror_mode": {
    "name": "ipython",
    "version": 3
   },
   "file_extension": ".py",
   "mimetype": "text/x-python",
   "name": "python",
   "nbconvert_exporter": "python",
   "pygments_lexer": "ipython3",
   "version": "3.8.8"
  }
 },
 "nbformat": 4,
 "nbformat_minor": 4
}
