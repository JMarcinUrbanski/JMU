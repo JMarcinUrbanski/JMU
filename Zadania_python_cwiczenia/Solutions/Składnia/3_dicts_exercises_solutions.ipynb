{
 "cells": [
  {
   "cell_type": "markdown",
   "metadata": {},
   "source": [
    "#### Zadanie 1\n",
    "\n",
    "Stwórz słownik w którym będą dane z poniższej krotki pod kluczami `imie`, `nazwisko`, `wiek`"
   ]
  },
  {
   "cell_type": "code",
   "execution_count": null,
   "metadata": {},
   "outputs": [],
   "source": [
    "dane = (\"Adam\", \"Nowak\", 35)\n",
    "\n",
    "# Klasyczne\n",
    "\n",
    "slownik = {\n",
    "    \"imie\": dane[0],\n",
    "    \"nazwisko\": dane[1],\n",
    "    \"wiek\": dane[2]\n",
    "}\n",
    "\n",
    "print(slownik)\n",
    "\n",
    "# Zipując klucze i wartości\n",
    "\n",
    "klucze = (\"imie\", \"nazwisko\", \"wiek\")\n",
    "\n",
    "slownik = dict(zip(klucze, dane))\n",
    "\n",
    "print(slownik)"
   ]
  },
  {
   "cell_type": "markdown",
   "metadata": {},
   "source": [
    "#### Zadanie 2\n",
    "\n",
    "Dodaj do słownika wartość \"programista\" pod kluczem `zawód`"
   ]
  },
  {
   "cell_type": "code",
   "execution_count": null,
   "metadata": {},
   "outputs": [],
   "source": [
    "slownik[\"zawód\"] = \"programista\"\n",
    "\n",
    "print(slownik)"
   ]
  },
  {
   "cell_type": "markdown",
   "metadata": {},
   "source": [
    "#### Zadanie 3\n",
    "\n",
    "Iterując przez listę słowników, wypisz wszystkie imiona"
   ]
  },
  {
   "cell_type": "code",
   "execution_count": null,
   "metadata": {},
   "outputs": [],
   "source": [
    "rekordy = [\n",
    "    {\"imie\": \"Adam\", \"nazwisko\": \"Nowak\", \"wiek\": 35},\n",
    "    {\"imie\": \"Anna\", \"nazwisko\": \"Nowak\", \"wiek\": 29},\n",
    "    {\"imie\": \"Artur\", \"nazwisko\": \"Nowakowski\", \"wiek\": 39},\n",
    "    {\"imie\": \"Alojzy\", \"nazwisko\": \"Kowalski\", \"wiek\": 19}\n",
    "]\n",
    "\n",
    "for osoba in rekordy:\n",
    "    print(osoba[\"imie\"])"
   ]
  },
  {
   "cell_type": "markdown",
   "metadata": {},
   "source": [
    "#### Zadanie 4\n",
    "\n",
    "Iterując przez listę słowników wypisz dane tych osób, które mają więcej niż 30 lat"
   ]
  },
  {
   "cell_type": "code",
   "execution_count": null,
   "metadata": {},
   "outputs": [],
   "source": [
    "rekordy = [\n",
    "    {\"imie\": \"Adam\", \"nazwisko\": \"Nowak\", \"wiek\": 35},\n",
    "    {\"imie\": \"Anna\", \"nazwisko\": \"Nowak\", \"wiek\": 29},\n",
    "    {\"imie\": \"Artur\", \"nazwisko\": \"Nowakowski\", \"wiek\": 39},\n",
    "    {\"imie\": \"Alojzy\", \"nazwisko\": \"Kowalski\", \"wiek\": 19}\n",
    "]\n",
    "\n",
    "for osoba in rekordy:\n",
    "    if osoba[\"wiek\"] > 30:\n",
    "        print(osoba)"
   ]
  },
  {
   "cell_type": "markdown",
   "metadata": {},
   "source": [
    "#### Zadanie 5\n",
    "\n",
    "Napisz funkcję, która przyjmie słownik i wypisze wszystkie elementy w formie `<klucz> : <wartość>`\n",
    "\n",
    "Np. dla `{\"id\": 1, \"marka\": \"Audi\"}`\n",
    "\n",
    "```\n",
    "id : 1\n",
    "marka : Audi\n",
    "```"
   ]
  },
  {
   "cell_type": "code",
   "execution_count": null,
   "metadata": {},
   "outputs": [],
   "source": [
    "test = {\"id\": 1, \"marka\": \"Audi\"}\n",
    "\n",
    "for klucz, wartosc in test.items():\n",
    "    print(f\"{klucz} : {wartosc}\")"
   ]
  },
  {
   "cell_type": "markdown",
   "metadata": {},
   "source": [
    "#### Zadanie 6\n",
    "\n",
    "Dopisz do każdego słownika z listy klucz `zawód` z odpowiednią wartością (zgodnie z kolejnością)"
   ]
  },
  {
   "cell_type": "code",
   "execution_count": null,
   "metadata": {},
   "outputs": [],
   "source": [
    "rekordy = [\n",
    "    {\"imie\": \"Adam\", \"nazwisko\": \"Nowak\", \"wiek\": 35},\n",
    "    {\"imie\": \"Anna\", \"nazwisko\": \"Nowak\", \"wiek\": 29},\n",
    "    {\"imie\": \"Artur\", \"nazwisko\": \"Nowakowski\", \"wiek\": 39},\n",
    "    {\"imie\": \"Alojzy\", \"nazwisko\": \"Kowalski\", \"wiek\": 19}\n",
    "]\n",
    "zawody = [\"Programista Java\", \"Programistka PHP\", \"Programista Python\", \"CEO startupu\"]\n",
    "\n",
    "# Klasycznie z indeksem\n",
    "\n",
    "for i in range(len(rekordy)):\n",
    "    osoba = rekordy[i]\n",
    "    osoba[\"zawód\"] = zawody[i]\n",
    "\n",
    "print(rekordy)"
   ]
  },
  {
   "cell_type": "code",
   "execution_count": null,
   "metadata": {},
   "outputs": [],
   "source": [
    "rekordy = [\n",
    "    {\"imie\": \"Adam\", \"nazwisko\": \"Nowak\", \"wiek\": 35},\n",
    "    {\"imie\": \"Anna\", \"nazwisko\": \"Nowak\", \"wiek\": 29},\n",
    "    {\"imie\": \"Artur\", \"nazwisko\": \"Nowakowski\", \"wiek\": 39},\n",
    "    {\"imie\": \"Alojzy\", \"nazwisko\": \"Kowalski\", \"wiek\": 19}\n",
    "]\n",
    "zawody = [\"Programista Java\", \"Programistka PHP\", \"Programista Python\", \"CEO startupu\"]\n",
    "\n",
    "# Zipując dwie listy\n",
    "\n",
    "for osoba, zawod in zip(rekordy, zawody):\n",
    "    osoba[\"zawód\"] = zawod\n",
    "\n",
    "for el in rekordy:\n",
    "    print(el)"
   ]
  },
  {
   "cell_type": "markdown",
   "metadata": {},
   "source": [
    "#### Zadanie 7\n",
    "\n",
    "Na podstawie listy słowników stwórz drugą listę, w której słowniki będą zawierały wyłącznie klucze `imie` i `nazwisko`"
   ]
  },
  {
   "cell_type": "code",
   "execution_count": null,
   "metadata": {},
   "outputs": [],
   "source": [
    "rekordy = [\n",
    "    {\"imie\": \"Adam\", \"nazwisko\": \"Nowak\", \"wiek\": 35},\n",
    "    {\"imie\": \"Anna\", \"nazwisko\": \"Nowak\", \"wiek\": 29},\n",
    "    {\"imie\": \"Artur\", \"nazwisko\": \"Nowakowski\", \"wiek\": 39},\n",
    "    {\"imie\": \"Alojzy\", \"nazwisko\": \"Kowalski\", \"wiek\": 19}\n",
    "]\n",
    "\n",
    "okrojone_rekordy = []\n",
    "for osoba in rekordy:\n",
    "    okrojona_osoba = {\"imie\": osoba[\"imie\"], \"nazwisko\": osoba[\"nazwisko\"]}\n",
    "    okrojone_rekordy.append(okrojona_osoba)\n",
    "\n",
    "print(okrojone_rekordy)"
   ]
  },
  {
   "cell_type": "code",
   "execution_count": null,
   "metadata": {},
   "outputs": [],
   "source": []
  }
 ],
 "metadata": {
  "kernelspec": {
   "display_name": "Python 3",
   "language": "python",
   "name": "python3"
  },
  "language_info": {
   "codemirror_mode": {
    "name": "ipython",
    "version": 3
   },
   "file_extension": ".py",
   "mimetype": "text/x-python",
   "name": "python",
   "nbconvert_exporter": "python",
   "pygments_lexer": "ipython3",
   "version": "3.7.6"
  }
 },
 "nbformat": 4,
 "nbformat_minor": 4
}
