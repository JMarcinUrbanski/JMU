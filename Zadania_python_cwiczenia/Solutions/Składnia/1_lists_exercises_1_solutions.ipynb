{
 "cells": [
  {
   "cell_type": "markdown",
   "metadata": {},
   "source": [
    "#### Zadanie 1\n",
    "\n",
    "Zadeklaruj listę `miasta` która będzie zawierała następujące stringi \"gdańsk\", \"kraków\", \"warszawa\", \"sopot\""
   ]
  },
  {
   "cell_type": "code",
   "execution_count": null,
   "metadata": {},
   "outputs": [],
   "source": [
    "miasta = [\"gdańsk\", \"kraków\", \"warszawa\", \"sopot\"]\n",
    "\n",
    "print(miasta)"
   ]
  },
  {
   "cell_type": "markdown",
   "metadata": {},
   "source": [
    "#### Zadanie 2\n",
    "\n",
    "Dodaj do listy `miasta` nastepujące wartości: \"gdynia\", \"poznań\""
   ]
  },
  {
   "cell_type": "code",
   "execution_count": null,
   "metadata": {},
   "outputs": [],
   "source": [
    "miasta.append(\"gdynia\")\n",
    "miasta.append(\"poznań\")\n",
    "\n",
    "print(miasta)"
   ]
  },
  {
   "cell_type": "markdown",
   "metadata": {},
   "source": [
    "#### Zadanie 3\n",
    "\n",
    "Dodaj do listy `miasta` elementy następującej listy:"
   ]
  },
  {
   "cell_type": "code",
   "execution_count": null,
   "metadata": {},
   "outputs": [],
   "source": [
    "inne_miasta = [\"wrocław\", \"łódź\"]\n",
    "\n",
    "miasta.extend(inne_miasta)\n",
    "\n",
    "print(miasta)"
   ]
  },
  {
   "cell_type": "markdown",
   "metadata": {},
   "source": [
    "#### Zadanie 4\n",
    "\n",
    "Wypisz wszystkie miasta z listy `miasta`, ale pisane wielką literą"
   ]
  },
  {
   "cell_type": "code",
   "execution_count": null,
   "metadata": {},
   "outputs": [],
   "source": [
    "for miasto in miasta:\n",
    "    print(miasto.capitalize())\n",
    "    \n",
    "for i in range(len(miasta)):\n",
    "    print(miasta[i].capitalize())"
   ]
  },
  {
   "cell_type": "markdown",
   "metadata": {},
   "source": [
    "#### Zadanie 5\n",
    "\n",
    "Stwórz nową listę w której będą miasta z listy `miasta`, ale pisane wielką literą"
   ]
  },
  {
   "cell_type": "code",
   "execution_count": null,
   "metadata": {},
   "outputs": [],
   "source": [
    "# a. klasycznie\n",
    "\n",
    "nowe_miasta = []\n",
    "for miasto in miasta:\n",
    "    nowe_miasta.append(miasto.capitalize())\n",
    "\n",
    "print(nowe_miasta)\n",
    "\n",
    "# b. list comprehension\n",
    "\n",
    "nowe_miasta = [miasto.capitalize() for miasto in miasta]\n",
    "\n",
    "print(nowe_miasta)"
   ]
  },
  {
   "cell_type": "markdown",
   "metadata": {},
   "source": [
    "#### Zadanie 6\n",
    "\n",
    "Zadeklaruj listę `liczby`, która będzie zawierała liczby od 1 do 10 (włącznie) na podane sposoby\n",
    "\n",
    "a. Podając wartości\n",
    "\n",
    "b. Konstruktorem `list()` i obiektem `range()`"
   ]
  },
  {
   "cell_type": "code",
   "execution_count": null,
   "metadata": {},
   "outputs": [],
   "source": [
    "# a.\n",
    "liczby = [1, 2, 3, 4, 5, 6, 7, 8, 9, 10]\n",
    "\n",
    "# b.\n",
    "liczby = list(range(1, 11))\n",
    "\n",
    "print(liczby)"
   ]
  },
  {
   "cell_type": "markdown",
   "metadata": {},
   "source": [
    "#### Zadanie 7\n",
    "\n",
    "Wypisz wszystkie liczby z listy `liczby`, ale powiększone o 10 - tzn. 11, 12 ... 20"
   ]
  },
  {
   "cell_type": "code",
   "execution_count": null,
   "metadata": {},
   "outputs": [],
   "source": [
    "for liczba in liczby:\n",
    "    print(liczba + 10)"
   ]
  },
  {
   "cell_type": "markdown",
   "metadata": {},
   "source": [
    "#### Zadanie 8\n",
    "\n",
    "Stwórz listę `do_kwadratu` w której znajdą się elementy listy `liczby`, ale podniesione do drugiej potęgi"
   ]
  },
  {
   "cell_type": "code",
   "execution_count": null,
   "metadata": {},
   "outputs": [],
   "source": [
    "# a. Klasycznie\n",
    "\n",
    "do_kwadratu = []\n",
    "for liczba in liczby:\n",
    "    do_kwadratu.append(liczba ** 2)\n",
    "\n",
    "print(do_kwadratu)\n",
    "\n",
    "# b. List comprehension\n",
    "do_kwadratu = [liczba ** 2 for liczba in liczby]\n",
    "\n",
    "print(do_kwadratu)"
   ]
  },
  {
   "cell_type": "markdown",
   "metadata": {},
   "source": [
    "#### Zadanie 9\n",
    "\n",
    "Stwórz listę `nieparzyste` w której znajdą się nieparzyste elementy listy `liczby`"
   ]
  },
  {
   "cell_type": "code",
   "execution_count": null,
   "metadata": {},
   "outputs": [],
   "source": [
    "# a. Klasycznie\n",
    "\n",
    "nieparzyste = []\n",
    "for liczba in liczby:\n",
    "    if liczba % 2 != 0:\n",
    "        nieparzyste.append(liczba)\n",
    "\n",
    "print(nieparzyste)\n",
    "\n",
    "# b. List comprehension\n",
    "\n",
    "nieparzyste = [liczba for liczba in liczby if liczba % 2 != 0]\n",
    "\n",
    "print(nieparzyste)"
   ]
  },
  {
   "cell_type": "markdown",
   "metadata": {},
   "source": [
    "#### Zadanie 10\n",
    "\n",
    "Stwórz listę `duzo_liczb`, która będzie zawierała liczby od 0 do 1000 (włącznie)\n",
    "\n",
    "Policz ile z tych liczb jest podzielnych przez 7 i wypisz wynik"
   ]
  },
  {
   "cell_type": "code",
   "execution_count": null,
   "metadata": {},
   "outputs": [],
   "source": [
    "# a. Klasycznie\n",
    "\n",
    "duzo_liczb = list(range(0, 1001))\n",
    "wynik = 0\n",
    "for liczba in duzo_liczb:\n",
    "    if liczba % 7 == 0:\n",
    "        wynik += 1\n",
    "\n",
    "print(wynik)\n",
    "        \n",
    "# b. List comprehension i sprawdzenie długości\n",
    "\n",
    "wynik = len([liczba for liczba in duzo_liczb if liczba % 7 == 0])\n",
    "\n",
    "print(wynik)"
   ]
  },
  {
   "cell_type": "code",
   "execution_count": null,
   "metadata": {},
   "outputs": [],
   "source": []
  }
 ],
 "metadata": {
  "kernelspec": {
   "display_name": "Python 3",
   "language": "python",
   "name": "python3"
  },
  "language_info": {
   "codemirror_mode": {
    "name": "ipython",
    "version": 3
   },
   "file_extension": ".py",
   "mimetype": "text/x-python",
   "name": "python",
   "nbconvert_exporter": "python",
   "pygments_lexer": "ipython3",
   "version": "3.7.6"
  }
 },
 "nbformat": 4,
 "nbformat_minor": 4
}
