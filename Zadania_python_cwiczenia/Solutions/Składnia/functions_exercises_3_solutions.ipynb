{
 "cells": [
  {
   "cell_type": "markdown",
   "metadata": {},
   "source": [
    "#### Zadanie 1\n",
    "\n",
    "Napisz funkcje `na_slowa`, która przyjmie tekst (string) i zwróci listę słów"
   ]
  },
  {
   "cell_type": "code",
   "execution_count": null,
   "metadata": {},
   "outputs": [],
   "source": [
    "def na_slowa(txt):\n",
    "    return txt.split()\n",
    "\n",
    "\n",
    "print(na_slowa(\"Ala ma kota\"))"
   ]
  },
  {
   "cell_type": "markdown",
   "metadata": {},
   "source": [
    "#### Zadanie 2\n",
    "\n",
    "Napisz funkcje `wielkie_slowa`, która przyjmie tekst (string) i zwróci listę słów pisanych z wielkiej litery"
   ]
  },
  {
   "cell_type": "code",
   "execution_count": null,
   "metadata": {},
   "outputs": [],
   "source": [
    "def wielkie_slowa(txt):\n",
    "    return [slowo.capitalize() for slowo in txt.split()]\n",
    "\n",
    "\n",
    "print(wielkie_slowa(\"Ala ma kota\"))"
   ]
  },
  {
   "cell_type": "markdown",
   "metadata": {},
   "source": [
    "#### Zadanie 3\n",
    "\n",
    "Ulepsz funkcje `wielkie_slowa` - zadbaj o usunięcie takich znaków: \".\" \",\" \"!\" \"?\""
   ]
  },
  {
   "cell_type": "code",
   "execution_count": null,
   "metadata": {},
   "outputs": [],
   "source": [
    "def wielkie_slowa_v2(txt):\n",
    "    niechciane_znaki = \".,!?\"\n",
    "    for znak in niechciane_znaki:\n",
    "        txt = txt.replace(znak, \"\")\n",
    "    return [slowo.capitalize() for slowo in txt.split()]\n",
    "\n",
    "\n",
    "print(wielkie_slowa(\"Ala, ma kota?!\"))\n",
    "print(wielkie_slowa_v2(\"Ala, ma kota?!\"))"
   ]
  },
  {
   "cell_type": "markdown",
   "metadata": {},
   "source": [
    "#### Zadanie 4\n",
    "\n",
    "Wykorzystaj funkcję `wielkie_slowa`, żeby dodać słowa tekstu do listy\n",
    "\n",
    "(ale nie modyfikuj tej funkcji)"
   ]
  },
  {
   "cell_type": "code",
   "execution_count": null,
   "metadata": {},
   "outputs": [],
   "source": [
    "tekst = \"Image not loading in python raspbian.\"\n",
    "slowa = [\"Convert\", \"A\", \"Tuple\", \"To\", \"A\", \"List\"]\n",
    "\n",
    "slowa.extend(wielkie_slowa_v2(tekst))\n",
    "print(slowa)"
   ]
  },
  {
   "cell_type": "markdown",
   "metadata": {},
   "source": [
    "#### Zadanie 5\n",
    "\n",
    "Napisz funkcję `dodaj_slowa`, która przyjmie tekst i listę, do której słowa tekstu zostaną dodane"
   ]
  },
  {
   "cell_type": "code",
   "execution_count": null,
   "metadata": {},
   "outputs": [],
   "source": [
    "tekst = \"Image not loading in python raspbian.\"\n",
    "slowa = [\"Convert\", \"A\", \"Tuple\", \"To\", \"A\", \"List\"]\n",
    "\n",
    "\n",
    "def dodaj_slowa(txt, lista):\n",
    "    lista.extend(wielkie_slowa_v2(txt))\n",
    "\n",
    "\n",
    "dodaj_slowa(tekst, slowa)\n",
    "print(slowa)"
   ]
  },
  {
   "cell_type": "markdown",
   "metadata": {},
   "source": [
    "#### Zadanie 6\n",
    "\n",
    "Napisz funkcję `preprocessing`, która przyjmie listę liczb i zwróci listę (**nową**) bez ujemnych elementów"
   ]
  },
  {
   "cell_type": "code",
   "execution_count": null,
   "metadata": {},
   "outputs": [],
   "source": [
    "dane = [10, 32, 454, 31, -3, 53, -31, -54, -9594, 31314, 53, 10]\n",
    "\n",
    "\n",
    "def preprocessing(data):\n",
    "    return [el for el in data if el >= 0]\n",
    "\n",
    "\n",
    "print(preprocessing(dane))"
   ]
  },
  {
   "cell_type": "markdown",
   "metadata": {},
   "source": [
    "#### Zadanie 7 - do powiczenia\n",
    "\n",
    "Napisz funkcję `sanitation`, która przyjmie listę liczb i usunie z niej elementy ujemne (**bez zwracania nowej listy**)"
   ]
  }
 ],
 "metadata": {
  "kernelspec": {
   "display_name": "Python 3",
   "language": "python",
   "name": "python3"
  },
  "language_info": {
   "codemirror_mode": {
    "name": "ipython",
    "version": 3
   },
   "file_extension": ".py",
   "mimetype": "text/x-python",
   "name": "python",
   "nbconvert_exporter": "python",
   "pygments_lexer": "ipython3",
   "version": "3.7.6"
  }
 },
 "nbformat": 4,
 "nbformat_minor": 4
}
