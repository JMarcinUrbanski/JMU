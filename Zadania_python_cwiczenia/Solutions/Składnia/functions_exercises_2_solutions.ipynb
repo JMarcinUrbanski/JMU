{
 "cells": [
  {
   "cell_type": "markdown",
   "metadata": {},
   "source": [
    "#### Zadanie 1\n",
    "\n",
    "Napisz funkcję `wypisz_powitanie`, która jako argument przyjmie imie i wypisze (wypisze, nie zwróci) tekst: \"Miło Cię widzieć `imie`!\"\n",
    "\n",
    "Zadbaj o wielką literę!\n",
    "\n",
    "Np. dla `imie=\"marian\"`\n",
    "\n",
    "```\n",
    "\"Miło Cię widzieć Marian!\"\n",
    "```"
   ]
  },
  {
   "cell_type": "code",
   "execution_count": null,
   "metadata": {},
   "outputs": [],
   "source": [
    "def wypisz_powitanie(imie):\n",
    "    print(f\"Miło Cię widzieć {imie.capitalize()}!\")\n",
    "\n",
    "\n",
    "wypisz_powitanie(\"rafał\")"
   ]
  },
  {
   "cell_type": "markdown",
   "metadata": {},
   "source": [
    "#### Zadanie 2\n",
    "\n",
    "Ulepsz funkcję `wypisz_powitanie` dodając zmienną opcjonalną `nieformalnie`, z domyślną wartością `False`\n",
    "\n",
    "Funkcja wywołana z opcją `nieformalnie=True` powinna wypisać \"Siemasz `imie`!\"\n",
    "\n",
    "Np. dla `imie=\"marian\"` i `nieformalnie=False`\n",
    "\n",
    "```\n",
    "\"Miło Cię widzieć Marian!\"\n",
    "```\n",
    "\n",
    "Np. dla `imie=\"marian\"` i `nieformalnie=True`\n",
    "\n",
    "```\n",
    "\"Siemasz Marian!\"\n",
    "```"
   ]
  },
  {
   "cell_type": "code",
   "execution_count": null,
   "metadata": {},
   "outputs": [],
   "source": [
    "def wypisz_powitanie_v2(imie, nieformalnie=False):\n",
    "    if nieformalnie:\n",
    "        print(f\"Siemasz {imie.capitalize()}!\")\n",
    "    else:\n",
    "        print(f\"Miło Cię widzieć {imie.capitalize()}!\")\n",
    "\n",
    "\n",
    "wypisz_powitanie_v2(\"rafał\")\n",
    "wypisz_powitanie_v2(\"rafał\", nieformalnie=True)"
   ]
  },
  {
   "cell_type": "markdown",
   "metadata": {},
   "source": [
    "#### Zadanie 3\n",
    "\n",
    "Napisz funkcję wyliczająca i zwracającą objętość stożka\n",
    "\n",
    "Wykonaj funkcję dla wszystkich par wartości r i h z listy `stozki`"
   ]
  },
  {
   "cell_type": "code",
   "execution_count": null,
   "metadata": {},
   "outputs": [],
   "source": [
    "stozki = [\n",
    "    (10, 5),\n",
    "    (15, 5),\n",
    "    (5, 10),\n",
    "    (5, 15)\n",
    "]\n",
    "\n",
    "\n",
    "def objetosc_stozka(r, h):\n",
    "    return (h * 3.1415 * r ** 2) / 3\n",
    "\n",
    "\n",
    "for values in stozki:\n",
    "    print(objetosc_stozka(values[0], values[1]))"
   ]
  },
  {
   "cell_type": "markdown",
   "metadata": {},
   "source": [
    "#### Zadanie 4\n",
    "\n",
    "Napisz funkcję sprawdzającą, czy podana liczba jest w wymaganym zakresie. Niech domyślny zakres wynosi (0, 100)\n",
    "\n",
    "Niech zwraca `True` albo `False`\n",
    "\n",
    "Liczbę pobierz od użytkownika, a następnie sprawdź dla zakresów z listy:"
   ]
  },
  {
   "cell_type": "code",
   "execution_count": null,
   "metadata": {},
   "outputs": [],
   "source": [
    "zakresy = [range(0, 10), range(0, 150), range(30, 50)]\n",
    "\n",
    "\n",
    "def czy_w_zakresie(x, zakres=range(0, 101)):\n",
    "    return x in zakres\n",
    "\n",
    "\n",
    "liczba = int(input(\"Podaj liczbę: \"))\n",
    "for z in zakresy:\n",
    "    print(czy_w_zakresie(liczba, zakres=z))"
   ]
  },
  {
   "cell_type": "markdown",
   "metadata": {},
   "source": [
    "#### Zadanie 5\n",
    "\n",
    "Napisz funkcję zwracającą ocenę jako typ string, na podstawie wyniku w postaci wartości liczbowej (0 .. 100)\n",
    "\n",
    "'bardzo dobry' od 90, 'dobry+' od 80, 'dobry' od 70, 'dostateczny+' od 60, 'dostateczny' od 50, 'niedostateczny' dla mniej niż 50\n",
    "\n",
    "Wypisz wartości dla wyników z listy"
   ]
  },
  {
   "cell_type": "code",
   "execution_count": null,
   "metadata": {},
   "outputs": [],
   "source": [
    "wyniki = [65, 76, 43, 10, 90, 94]\n",
    "\n",
    "\n",
    "def ocena(wynik):\n",
    "    if int(wynik) > 90:\n",
    "        return \"bardzo dobry\"\n",
    "    elif int(wynik) > 80:\n",
    "        return \"dobry+\"\n",
    "    elif int(wynik) > 70:\n",
    "        return \"dobry\"\n",
    "    elif int(wynik) > 60:\n",
    "        return \"dostateczny+\"\n",
    "    elif int(wynik) > 50:\n",
    "        return \"dostateczny\"\n",
    "    else:\n",
    "        return \"niedostateczny\"\n",
    "\n",
    "\n",
    "for w in wyniki:\n",
    "    print(ocena(w))"
   ]
  },
  {
   "cell_type": "markdown",
   "metadata": {},
   "source": [
    "#### Zadanie 6\n",
    "\n",
    "Lista `kursanci` zwiera imiona kursantów, a `sprawdzian` ich wyniki ze sprawdzianu\n",
    "\n",
    "Stwórz nową listę, której elementy będą tuplami z dwoma elementami - imieniem i słowną oceną\n",
    "\n",
    "Ocenę uzyskaj przy pomocy swojej funkcji z zadania 5\n",
    "\n",
    "Np. dla `imiona = [\"Anna\", \"Bartosz\"]` i `sprawdzian = [85, 45]`\n",
    "\n",
    "```\n",
    "[(\"Anna\", \"dobry+\"),\n",
    " (\"Bartosz\", \"niedostateczny\")]\n",
    "```"
   ]
  },
  {
   "cell_type": "code",
   "execution_count": null,
   "metadata": {},
   "outputs": [],
   "source": [
    "kursanci = [\"Anna\", \"Jurek\", \"Beata\", \"Jarek\", \"Patrycja\", \"Arkadiusz\"]\n",
    "sprawdzian = [35, 78, 92, 45, 55, 80]\n",
    "\n",
    "# Z indeksem\n",
    "raport = []\n",
    "for i in range(len(kursanci)):\n",
    "    raport.append((kursanci[i], ocena(sprawdzian[i])))\n",
    "\n",
    "print(raport)\n",
    "\n",
    "# Z zip\n",
    "raport = []\n",
    "for imie, wynik in zip(kursanci, sprawdzian):\n",
    "    raport.append((imie, ocena(wynik)))\n",
    "\n",
    "print(raport)\n",
    "\n",
    "# Z zip i list comprehension\n",
    "raport = [(imie, ocena(wynik)) for imie, wynik in zip(kursanci, sprawdzian)]\n",
    "print(raport)\n"
   ]
  },
  {
   "cell_type": "markdown",
   "metadata": {},
   "source": [
    "#### Zadanie 7\n",
    "\n",
    "Napisz funkcję `all_unique`, która przyjmie listę dowolnych elementów i zwróci wartość `True` jeżeli lista nie zawiera duplikatów lub `False` w przeciwnym wypadku\n",
    "\n",
    "Np. dla listy `[1, 3, \"a\"]` wynik będzie `True`\n",
    "\n",
    "a dla listy `[1, 3, \"a\", 1]` wynik będzie `False`\n",
    "\n",
    "Przetestuj dla poniższych list"
   ]
  },
  {
   "cell_type": "code",
   "execution_count": null,
   "metadata": {},
   "outputs": [],
   "source": [
    "lista_a = [23, 45, 67, 67, \"qw\", \"er\", \"ty\", \"qw\"]\n",
    "lista_b = [23, 23, 45, 67, \"qw\", \"er\", \"ty\"]\n",
    "lista_c = [23, 45, 67, \"qw\", \"er\", \"ty\"]\n",
    "\n",
    "\n",
    "# Ręcznie\n",
    "def all_unique(lista):\n",
    "    wartosci = []\n",
    "    for el in lista:\n",
    "        if el not in wartosci:\n",
    "            wartosci.append(el)\n",
    "        else:\n",
    "            return False\n",
    "    return True\n",
    "\n",
    "\n",
    "# Przy użyciu set()\n",
    "def all_unique_v2(lista):\n",
    "    return len(lista) == len(set(lista))\n",
    "\n",
    "\n",
    "print(\"Funkcja all_unique\")\n",
    "print(all_unique(lista_a))\n",
    "print(all_unique(lista_b))\n",
    "print(all_unique(lista_c))\n",
    "print(\"Funkcja all_unique_v2\")\n",
    "print(all_unique_v2(lista_a))\n",
    "print(all_unique_v2(lista_b))\n",
    "print(all_unique_v2(lista_c))"
   ]
  },
  {
   "cell_type": "markdown",
   "metadata": {},
   "source": [
    "#### Zadanie 8\n",
    "\n",
    "Napisz funkcję `cenzura`, która podmieni wszystkie wystąpienia danego słowa w tekście na \"###\"\n",
    "\n",
    "Tzn. funkcja powinna przyjmować jako argumenty: `tekst`, `slowo` i zwrócić nowy tekst ze slowem zamienionym na trzy kratki\n",
    "\n",
    "Np. dla tekstu `\"Lorem ipsum.\"` i slowa `\"ipsum\"`\n",
    "\n",
    "Nowy tekst to `\"Lorem ###.\"`"
   ]
  },
  {
   "cell_type": "code",
   "execution_count": null,
   "metadata": {},
   "outputs": [],
   "source": [
    "def cenzura(tekst, slowo):\n",
    "    return tekst.replace(slowo, \"###\")\n",
    "\n",
    "\n",
    "print(cenzura(\"Lorem ipsum.\", \"ipsum\"))"
   ]
  },
  {
   "cell_type": "markdown",
   "metadata": {},
   "source": [
    "#### Zadanie 9\n",
    "\n",
    "Ulepsz funkcję `cenzura`, tak aby liczba wstawionych kratek odpowiadała długości argumentu `slowo`\n",
    "\n",
    "Np. dla tekstu `\"Lorem ipsum.\"` i slowa `\"ipsum\"`\n",
    "\n",
    "Nowy tekst to `\"Lorem #####.\"`"
   ]
  },
  {
   "cell_type": "code",
   "execution_count": null,
   "metadata": {},
   "outputs": [],
   "source": [
    "def cenzura(tekst, slowo):\n",
    "    return tekst.replace(slowo, \"#\" * len(slowo))\n",
    "\n",
    "\n",
    "print(cenzura(\"Lorem ipsum.\", \"ipsum\"))"
   ]
  },
  {
   "cell_type": "markdown",
   "metadata": {},
   "source": [
    "#### Zadanie 10\n",
    "\n",
    "Dodaj kolejne ulepszenie funkcji `cenzura`\n",
    "\n",
    "Niech znak który zastępuje słowo będzie opcjonalnym argumentem funkcji z domyślną wartością `#`\n",
    "\n",
    "Np. dla tekstu `\"Lorem ipsum.\"` i slowa `\"ipsum\"` i bez podawania znaku\n",
    "\n",
    "Nowy tekst to `\"Lorem #####.\"`\n",
    "\n",
    "Np. dla tekstu `\"Lorem ipsum.\"` i slowa `\"ipsum\"` i z podaniem, że znak to `\"$\"`\n",
    "\n",
    "Nowy tekst to `\"Lorem $$$$$.\"`"
   ]
  },
  {
   "cell_type": "code",
   "execution_count": null,
   "metadata": {},
   "outputs": [],
   "source": [
    "def cenzura(tekst, slowo, znak=\"#\"):\n",
    "    return tekst.replace(slowo, znak * len(slowo))\n",
    "\n",
    "\n",
    "print(cenzura(\"Lorem ipsum.\", \"ipsum\"))\n",
    "print(cenzura(\"Lorem ipsum.\", \"ipsum\", znak=\"$\"))"
   ]
  },
  {
   "cell_type": "markdown",
   "metadata": {},
   "source": [
    "#### Zadanie 11\n",
    "\n",
    "Dodaj kolejne ulepszenie funkcji `cenzura`\n",
    "\n",
    "Niech będzie możliwość podania listy słów które mają zostać zastąpione\n",
    "\n",
    "Tzn. funkcja powinna przyjmować jako argumenty: `tekst`, `lista_slow`, (i opcjonalny `znak`) i zwrócić nowy tekst ze wszystkimi słowami z listy odpowiednio zamienionymi\n",
    "\n",
    "Np. dla tekstu `\"lorem ipsum dolor sit amet\"` i `lista_slow=[\"lorem\", \"sit\"]`\n",
    "\n",
    "Nowy tekst to `\"##### ipsum dolor ### amet\"`"
   ]
  },
  {
   "cell_type": "code",
   "execution_count": null,
   "metadata": {},
   "outputs": [],
   "source": [
    "def cenzura(tekst, lista_slow, znak=\"#\"):\n",
    "    for slowo in lista_slow:\n",
    "        tekst = tekst.replace(slowo, znak * len(slowo))\n",
    "    return tekst\n",
    "\n",
    "\n",
    "oryginal = \"lorem ipsum dolor sit amet\"\n",
    "print(cenzura(oryginal, [\"lorem\", \"sit\"]))"
   ]
  },
  {
   "cell_type": "markdown",
   "metadata": {},
   "source": [
    "#### Zadanie 12\n",
    "\n",
    "Napisz funkcję `replace_many`, która podmieni wszystkie wystąpienia słów przekazanych jako lista\n",
    "\n",
    "Tzn. funkcja powinna przyjmować jako argumenty: `tekst`, `lista_starych`, `lista_nowych`, i zwrócić nowy tekst z dokonanymi podmianami\n",
    "\n",
    "Np. dla tekstu `\"Ala ma kota.\"`, list `stare=[\"Ala\", \"kota\"]` i `nowe=[\"Edyta\", \"psa\"]`\n",
    "\n",
    "Nowy tekst to : `\"Edyta ma psa.\"`"
   ]
  },
  {
   "cell_type": "code",
   "execution_count": null,
   "metadata": {},
   "outputs": [],
   "source": [
    "# Z wykorzystaniem indeksu\n",
    "\n",
    "def replace_many(tekst, lista_starych, lista_nowych):\n",
    "    for i in range(len(lista_starych)):\n",
    "        tekst = tekst.replace(lista_starych[i], lista_nowych[i])\n",
    "    return tekst\n",
    "\n",
    "\n",
    "print(replace_many(\"Ala ma kota\", [\"Ala\", \"kota\"], [\"Edyta\", \"psa\"]))\n",
    "\n",
    "\n",
    "# Z wykorzystaniem zip()\n",
    "\n",
    "def replace_many_v2(tekst, lista_starych, lista_nowych):\n",
    "    for stare, nowe in zip(lista_starych, lista_nowych):\n",
    "        tekst = tekst.replace(stare, nowe)\n",
    "    return tekst\n",
    "\n",
    "\n",
    "print(replace_many_v2(\"Ala ma kota\", [\"Ala\", \"kota\"], [\"Edyta\", \"psa\"]))"
   ]
  },
  {
   "cell_type": "markdown",
   "metadata": {},
   "source": [
    "#### Zadanie 13\n",
    "\n",
    "Ulepsz funkcję `replace_many` dodając sprawdzenie, czy listy są równej długości\n",
    "\n",
    "Jeżeli nie, wypisz komunikat i zwróć wartość `None`\n"
   ]
  },
  {
   "cell_type": "code",
   "execution_count": null,
   "metadata": {},
   "outputs": [],
   "source": [
    "def replace_many_v3(tekst, lista_starych, lista_nowych):\n",
    "    if len(lista_starych) != len(lista_nowych):\n",
    "        print(\"Listy nie są równej długości!\")\n",
    "        return None\n",
    "    for i in range(len(lista_starych)):\n",
    "        tekst = tekst.replace(lista_starych[i], lista_nowych[i])\n",
    "    return tekst\n",
    "\n",
    "\n",
    "print(replace_many_v3(\"Ala ma kota\", [\"Ala\", \"kota\"], [\"Edyta\", \"psa\"]))\n",
    "print(replace_many_v3(\"Ala ma kota\", [\"Ala\", \"kota\", \"butach\"], [\"Edyta\", \"psa\"]))"
   ]
  },
  {
   "cell_type": "code",
   "execution_count": null,
   "metadata": {},
   "outputs": [],
   "source": []
  }
 ],
 "metadata": {
  "kernelspec": {
   "display_name": "Python 3",
   "language": "python",
   "name": "python3"
  },
  "language_info": {
   "codemirror_mode": {
    "name": "ipython",
    "version": 3
   },
   "file_extension": ".py",
   "mimetype": "text/x-python",
   "name": "python",
   "nbconvert_exporter": "python",
   "pygments_lexer": "ipython3",
   "version": "3.7.6"
  }
 },
 "nbformat": 4,
 "nbformat_minor": 4
}
