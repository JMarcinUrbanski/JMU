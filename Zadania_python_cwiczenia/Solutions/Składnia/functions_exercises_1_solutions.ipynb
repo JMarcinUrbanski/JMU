{
 "cells": [
  {
   "cell_type": "markdown",
   "metadata": {},
   "source": [
    "#### Zadanie 1\n",
    "\n",
    "Zdefiniuj funkcję `separator`, która zwróci string \"-----#####-----\"\n",
    "\n",
    "(Zwróci, a nie wypisze)"
   ]
  },
  {
   "cell_type": "code",
   "execution_count": 1,
   "metadata": {},
   "outputs": [],
   "source": [
    "def separator():\n",
    "    return \"-----#####-----\""
   ]
  },
  {
   "cell_type": "markdown",
   "metadata": {},
   "source": [
    "#### Zadanie 2\n",
    "\n",
    "Wypisz liczby od 1 do 10 (włącznie) oddzielone separatorem (każdy element w nowej linii). Separator pobierz ze swojej funkcji.\n",
    "\n",
    "```\n",
    "1\n",
    "-----#####-----\n",
    "2\n",
    "-----#####-----\n",
    "...\n",
    "```"
   ]
  },
  {
   "cell_type": "code",
   "execution_count": null,
   "metadata": {},
   "outputs": [],
   "source": [
    "for i in range(1, 11):\n",
    "    print(i)\n",
    "    print(separator())"
   ]
  },
  {
   "cell_type": "markdown",
   "metadata": {},
   "source": [
    "#### Zadanie 3\n",
    "\n",
    "Zdefinuj funkcję `do_kwadratu`, która przyjmie liczbę i zwróci jej wartość podniesioną do drugiej potęgi"
   ]
  },
  {
   "cell_type": "code",
   "execution_count": null,
   "metadata": {},
   "outputs": [],
   "source": [
    "def do_kwadratu(x):\n",
    "    return x ** 2"
   ]
  },
  {
   "cell_type": "markdown",
   "metadata": {},
   "source": [
    "#### Zadanie 4\n",
    "\n",
    "Wypisz wyniki działania funkcji `do_kwadratu` na liczbach z listy"
   ]
  },
  {
   "cell_type": "code",
   "execution_count": null,
   "metadata": {},
   "outputs": [],
   "source": [
    "liczby = list(range(1, 6))\n",
    "\n",
    "for i in liczby:\n",
    "    print(do_kwadratu(i))"
   ]
  },
  {
   "cell_type": "markdown",
   "metadata": {},
   "source": [
    "#### Zadanie 5\n",
    "\n",
    "Zdefinuj funkcje `pole_trojkata`, która przyjmie wartość podstawy i wysokość trójkąta i zwróci jego pole.\n",
    "\n",
    "Wykorzystaj funkcję pole_trojkata dla wartości `a` i `h`"
   ]
  },
  {
   "cell_type": "code",
   "execution_count": null,
   "metadata": {},
   "outputs": [],
   "source": [
    "a = 10\n",
    "h = 8\n",
    "\n",
    "def pole_trojkata(podstawa, wysokosc):\n",
    "    return podstawa * wysokosc / 2\n",
    "\n",
    "wynik = pole_trojkata(a, h)\n",
    "print(wynik)"
   ]
  },
  {
   "cell_type": "markdown",
   "metadata": {},
   "source": [
    "#### Zadanie 6\n",
    "\n",
    "Wykorzystaj funkcję pole_trojkata dla danych w postaci pary (podstawa, wysokość)"
   ]
  },
  {
   "cell_type": "code",
   "execution_count": null,
   "metadata": {},
   "outputs": [],
   "source": [
    "dane = (10, 8)\n",
    "\n",
    "\n",
    "wynik = pole_trojkata(dane[0], dane[1])\n",
    "print(wynik)"
   ]
  },
  {
   "cell_type": "markdown",
   "metadata": {},
   "source": [
    "#### Zadanie 7\n",
    "\n",
    "Ulepsz funkcję `pole_trojkata` dodając sprawdzenie, czy podane liczby są większe od zera\n",
    "\n",
    "Jeżeli nie, wypisz komunikat i zwróć `None`\n",
    "\n",
    "Przetestuj na różnych wariantach"
   ]
  },
  {
   "cell_type": "code",
   "execution_count": null,
   "metadata": {},
   "outputs": [],
   "source": [
    "def pole_trojkata_v2(podstawa, wysokosc):\n",
    "    if podstawa > 0 and wysokosc > 0:\n",
    "        return podstawa * wysokosc / 2\n",
    "    else:\n",
    "        print(\"Argumenty muszą być > 0!\")\n",
    "        return None\n",
    "\n",
    "print(pole_trojkata_v2(10, 5))\n",
    "print(pole_trojkata_v2(-10, 5))\n",
    "print(pole_trojkata_v2(10, -5))\n",
    "print(pole_trojkata_v2(-10, -5))\n",
    "print(pole_trojkata_v2(10, 0))\n",
    "print(pole_trojkata_v2(0, 5))"
   ]
  },
  {
   "cell_type": "markdown",
   "metadata": {},
   "source": [
    "#### Zadanie 8\n",
    "\n",
    "Ulepsz funkcje `pole_trojkata` raz jeszcze:\n",
    "\n",
    "Dodaj opcjonalny argument `verbose` o domyślnej wartości `False`.\n",
    "\n",
    "Użyj go do sprawdzenia, czy w przypadku liczb mniejszych od zera wypisać komunikat, czy nie.\n",
    "\n",
    "Uwaga - jeżeli mniejsze od zera, dalej zwróć `None`, ale bez wypisywania komunikatu."
   ]
  },
  {
   "cell_type": "code",
   "execution_count": 3,
   "metadata": {},
   "outputs": [
    {
     "name": "stdout",
     "output_type": "stream",
     "text": [
      "25.0\n",
      "verbose domyślne\n",
      "None\n",
      "None\n",
      "None\n",
      "None\n",
      "None\n",
      "verbose = True\n",
      "Argumenty muszą być > 0!\n",
      "None\n",
      "Argumenty muszą być > 0!\n",
      "None\n",
      "Argumenty muszą być > 0!\n",
      "None\n",
      "Argumenty muszą być > 0!\n",
      "None\n",
      "Argumenty muszą być > 0!\n",
      "None\n"
     ]
    }
   ],
   "source": [
    "def pole_trojkata_v2(podstawa, wysokosc, verbose=False):\n",
    "    if podstawa > 0 and wysokosc > 0:\n",
    "        return podstawa * wysokosc / 2\n",
    "    else:\n",
    "        if verbose:\n",
    "            print(\"Argumenty muszą być > 0!\")\n",
    "        return None\n",
    "\n",
    "print(pole_trojkata_v2(10, 5))\n",
    "print(\"verbose domyślne\")\n",
    "print(pole_trojkata_v2(-10, 5))\n",
    "print(pole_trojkata_v2(10, -5))\n",
    "print(pole_trojkata_v2(-10, -5))\n",
    "print(pole_trojkata_v2(10, 0))\n",
    "print(pole_trojkata_v2(0, 5))\n",
    "print(\"verbose = True\")\n",
    "print(pole_trojkata_v2(-10, 5, verbose=True))\n",
    "print(pole_trojkata_v2(10, -5, verbose=True))\n",
    "print(pole_trojkata_v2(-10, -5, verbose=True))\n",
    "print(pole_trojkata_v2(10, 0, verbose=True))\n",
    "print(pole_trojkata_v2(0, 5, verbose=True))"
   ]
  },
  {
   "cell_type": "code",
   "execution_count": null,
   "metadata": {},
   "outputs": [],
   "source": []
  }
 ],
 "metadata": {
  "kernelspec": {
   "display_name": "Python [conda env:base] *",
   "language": "python",
   "name": "conda-base-py"
  },
  "language_info": {
   "codemirror_mode": {
    "name": "ipython",
    "version": 3
   },
   "file_extension": ".py",
   "mimetype": "text/x-python",
   "name": "python",
   "nbconvert_exporter": "python",
   "pygments_lexer": "ipython3",
   "version": "3.12.7"
  }
 },
 "nbformat": 4,
 "nbformat_minor": 4
}
