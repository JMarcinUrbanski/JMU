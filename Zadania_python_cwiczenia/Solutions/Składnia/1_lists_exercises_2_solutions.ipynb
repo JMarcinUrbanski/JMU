{
 "cells": [
  {
   "cell_type": "markdown",
   "metadata": {},
   "source": [
    "#### Zadanie 1\n",
    "\n",
    "Napisz program, który policzy stringi o długości min. 2, w których pierwsza i ostatnia litera jest taka sama"
   ]
  },
  {
   "cell_type": "code",
   "execution_count": null,
   "metadata": {},
   "outputs": [],
   "source": [
    "lista_slow = [\"abba\", \"ala\", \"xyzzyxy\", \"kayak\", \"koło\"]\n",
    "\n",
    "wynik = 0\n",
    "for slowo_test in lista_slow:\n",
    "    if len(slowo_test) >= 2 and slowo_test[0] == slowo_test[-1]:\n",
    "        wynik += 1\n",
    "\n",
    "print(wynik)"
   ]
  },
  {
   "cell_type": "markdown",
   "metadata": {},
   "source": [
    "#### Zadanie 2\n",
    "\n",
    "Napisz program, który sprawdzi, czy dwie listy mają przynajmniej jeden element wspólny"
   ]
  },
  {
   "cell_type": "code",
   "execution_count": null,
   "metadata": {},
   "outputs": [],
   "source": [
    "lista_a = [1, 23, 94, \"kot\", \"pies\", [2, 3]]\n",
    "lista_b = [54, [2, 3], \"kot\"]\n",
    "\n",
    "wynik = False\n",
    "for el in lista_a:\n",
    "    if el in lista_b:\n",
    "        wynik = True\n",
    "        break\n",
    "\n",
    "print(\"Czy listy mają wspólny element?\", wynik)"
   ]
  },
  {
   "cell_type": "markdown",
   "metadata": {},
   "source": [
    "#### Zadanie 3\n",
    "\n",
    "Napisz program, który stworzy listę zawierającą elmenty wspólne dwóch list"
   ]
  },
  {
   "cell_type": "code",
   "execution_count": null,
   "metadata": {},
   "outputs": [],
   "source": [
    "lista_a = [1, 23, 94, \"kot\", \"pies\", [2, 3]]\n",
    "lista_b = [54, [2, 3], \"kot\"]\n",
    "\n",
    "# a. Klasycznie\n",
    "\n",
    "wspolne = []\n",
    "for el in lista_a:\n",
    "    if el in lista_b:\n",
    "        wspolne.append(el)\n",
    "\n",
    "print(wspolne)        \n",
    "\n",
    "# b. List comprehension\n",
    "wspolne = [el for el in lista_a if el in lista_b]\n",
    "\n",
    "print(wspolne)"
   ]
  },
  {
   "cell_type": "markdown",
   "metadata": {},
   "source": [
    "#### Zadanie 4\n",
    "\n",
    "Stwórz nową listę, w której imiona będą miały dopisane \" TAK\" lub \" NIE\" w zależności od tego czy znajdują się na liście obecności\n",
    "\n",
    "Np. dla `wszyscy = [\"Anna\", \"Bartosz\"]` i `obecni = [\"Anna\"]`\n",
    "\n",
    "```\n",
    "[\"Anna TAK\", \"Bartosz NIE\"]\n",
    "```"
   ]
  },
  {
   "cell_type": "code",
   "execution_count": null,
   "metadata": {},
   "outputs": [],
   "source": [
    "wszyscy = [\"Anna\", \"Jurek\", \"Beata\", \"Jarek\", \"Patrycja\", \"Arkadiusz\"]\n",
    "obecni = [\"Jurek\", \"Patrycja\", \"Beata\"]\n",
    "\n",
    "# a.\n",
    "\n",
    "raport = []\n",
    "for imie in wszyscy:\n",
    "    if imie in obecni:\n",
    "        raport.append(imie + \" TAK\")\n",
    "    else:\n",
    "        raport.append(imie + \" NIE\")\n",
    "\n",
    "print(raport)\n",
    "\n",
    "# b.\n",
    "\n",
    "raport = [imie + \" TAK\" if imie in obecni else imie + \" NIE\" for imie in wszyscy]\n",
    "\n",
    "print(raport)"
   ]
  },
  {
   "cell_type": "markdown",
   "metadata": {},
   "source": [
    "#### Zadanie 5\n",
    "\n",
    "Stwórz nową listę, której elementy będą listami z dwoma elementami - imieniem i statusem obecności, w zależności od tego czy dane imie znajduje się na liście obecności\n",
    "\n",
    "Np. dla `wszyscy = [\"Anna\", \"Bartosz\"]` i `obecni = [\"Anna\"]`\n",
    "\n",
    "```\n",
    "[[\"Anna\", \"TAK\"],\n",
    " [\"Bartosz\", \"NIE\"]]\n",
    "```"
   ]
  },
  {
   "cell_type": "code",
   "execution_count": null,
   "metadata": {},
   "outputs": [],
   "source": [
    "wszyscy = [\"Anna\", \"Jurek\", \"Beata\", \"Jarek\", \"Patrycja\", \"Arkadiusz\"]\n",
    "obecni = [\"Jurek\", \"Patrycja\", \"Beata\"]\n",
    "\n",
    "# a.\n",
    "\n",
    "raport = []\n",
    "for imie in wszyscy:\n",
    "    if imie in obecni:\n",
    "        raport.append([imie, \"TAK\"])\n",
    "    else:\n",
    "        raport.append([imie, \"NIE\"])\n",
    "\n",
    "print(raport)\n",
    "\n",
    "# b.\n",
    "\n",
    "raport = [[imie, \"TAK\"] if imie in obecni else [imie, \"NIE\"] for imie in wszyscy]\n",
    "\n",
    "print(raport)"
   ]
  },
  {
   "cell_type": "markdown",
   "metadata": {},
   "source": [
    "#### Zadanie 6\n",
    "\n",
    "Lista `kursanci` zwiera imiona kursantów, a `wyniki` ich wyniki ze sprawdzianu\n",
    "\n",
    "Stwórz trzecią listę która będzie zawierała \"ZDAŁ\" lub \"NIEZDAŁ\" w zależności od tego, czy wynik jest większy niż 50\n",
    "\n",
    "Np. dla `imiona = [\"Anna\", \"Bartosz\"]` i `wyniki = [90, 45]`\n",
    "\n",
    "```\n",
    "[\"ZDAŁ\", \"NIEZDAŁ\"]\n",
    "```"
   ]
  },
  {
   "cell_type": "code",
   "execution_count": null,
   "metadata": {},
   "outputs": [],
   "source": [
    "kursanci = [\"Anna\", \"Jurek\", \"Beata\", \"Jarek\", \"Patrycja\", \"Arkadiusz\"]\n",
    "wyniki = [35, 78, 92, 45, 55, 80]\n",
    "\n",
    "# a.\n",
    "\n",
    "rezultat = []\n",
    "for w in wyniki:\n",
    "    if w > 50:\n",
    "        rezultat.append(\"ZDAŁ\")\n",
    "    else:\n",
    "        rezultat.append(\"NIE\")\n",
    "\n",
    "print(rezultat)\n",
    "\n",
    "# b.\n",
    "\n",
    "rezultat = [\"ZDAŁ\" if w > 50 else \"NIE\" for w in wyniki]\n",
    "\n",
    "print(rezultat)"
   ]
  },
  {
   "cell_type": "markdown",
   "metadata": {},
   "source": [
    "#### Zadanie 7\n",
    "\n",
    "Zwróć nową listę bez duplikatów\n",
    "\n",
    "(nie korzystając ze zbioru - `set()`)"
   ]
  },
  {
   "cell_type": "code",
   "execution_count": null,
   "metadata": {},
   "outputs": [],
   "source": [
    "lista = [10, 20, 10, 30, 40, 40, 40, 50, 20, 20, 10, 50, 60, 60]\n",
    "\n",
    "nowa_lista = []\n",
    "for el in lista:\n",
    "    if el not in nowa_lista:\n",
    "        nowa_lista.append(el)\n",
    "\n",
    "print(nowa_lista)\n",
    "\n",
    "# z set()\n",
    "\n",
    "nowa_lista = list(set(lista))\n",
    "\n",
    "print(nowa_lista)"
   ]
  },
  {
   "cell_type": "markdown",
   "metadata": {},
   "source": [
    "#### Zadanie 8\n",
    "\n",
    "Napisz program sumujący wszystkie elementy listy liczb\n",
    "\n",
    "(nie korzystając z `sum()`)"
   ]
  },
  {
   "cell_type": "code",
   "execution_count": null,
   "metadata": {},
   "outputs": [],
   "source": [
    "liczby = [12, 23, 41, 53, 121, 535, 11]\n",
    "\n",
    "suma = 0\n",
    "for el in liczby:\n",
    "    suma += el\n",
    "\n",
    "print(suma)\n",
    "\n",
    "suma = sum(liczby)\n",
    "\n",
    "print(suma)"
   ]
  },
  {
   "cell_type": "markdown",
   "metadata": {},
   "source": [
    "#### Zadanie 9\n",
    "\n",
    "Napisz program znajdujący największy i najmniejszy element listy liczb\n",
    "\n",
    "(nie korzystając z `max()` i `min()`)"
   ]
  },
  {
   "cell_type": "code",
   "execution_count": null,
   "metadata": {},
   "outputs": [],
   "source": [
    "liczby = [12, 23, 41, 53, 121, 535, 11]\n",
    "\n",
    "maksimum = liczby[0]\n",
    "minimum = liczby[0]\n",
    "\n",
    "for el in liczby:\n",
    "    if el > maksimum:\n",
    "        maksimum = el\n",
    "    if el < minimum:\n",
    "        minimum = el\n",
    "\n",
    "print(maksimum, minimum)\n",
    "\n",
    "maksimum, minimum = max(liczby), min(liczby)\n",
    "\n",
    "print(maksimum, minimum)"
   ]
  },
  {
   "cell_type": "markdown",
   "metadata": {},
   "source": [
    "#### Zadanie 10\n",
    "\n",
    "Napisz program, który zmieni zdanie w listę wyrazów (na razie rozbijmy tylko po spacji, pomińmy inne znaki)\n",
    "\n",
    "(nie korzystając z metody `split()` typu string)"
   ]
  },
  {
   "cell_type": "code",
   "execution_count": null,
   "metadata": {},
   "outputs": [],
   "source": [
    "zdanie = \"Ala ma kota w butach\"\n",
    "\n",
    "# a. budowanie stringów\n",
    "\n",
    "slowo = \"\"\n",
    "lista_slow = []\n",
    "\n",
    "for znak in zdanie:\n",
    "    if znak != \" \":\n",
    "        slowo += znak\n",
    "    else:\n",
    "        lista_slow.append(slowo)\n",
    "        slowo = \"\"\n",
    "\n",
    "if slowo != \"\":\n",
    "    lista_slow.append(slowo)\n",
    "\n",
    "print(lista_slow)"
   ]
  },
  {
   "cell_type": "code",
   "execution_count": null,
   "metadata": {},
   "outputs": [],
   "source": [
    "zdanie = \"Ala ma kota w butach\"\n",
    "\n",
    "# b. liczenie indeksów\n",
    "\n",
    "lista_slow = []\n",
    "start = 0\n",
    "\n",
    "for i in range(len(zdanie)):\n",
    "    if zdanie[i] == \" \":\n",
    "        lista_slow.append(zdanie[start:i])\n",
    "        start = i + 1\n",
    "\n",
    "if i > start:\n",
    "    lista_slow.append(zdanie[start:i+1])\n",
    "\n",
    "print(lista_slow)"
   ]
  },
  {
   "cell_type": "code",
   "execution_count": null,
   "metadata": {},
   "outputs": [],
   "source": [
    "zdanie = \"Ala ma kota w butach\"\n",
    "\n",
    "# korzystając z metody split()\n",
    "\n",
    "lista_slow = zdanie.split()\n",
    "print(lista_slow)"
   ]
  }
 ],
 "metadata": {
  "kernelspec": {
   "display_name": "Python 3",
   "language": "python",
   "name": "python3"
  },
  "language_info": {
   "codemirror_mode": {
    "name": "ipython",
    "version": 3
   },
   "file_extension": ".py",
   "mimetype": "text/x-python",
   "name": "python",
   "nbconvert_exporter": "python",
   "pygments_lexer": "ipython3",
   "version": "3.7.6"
  }
 },
 "nbformat": 4,
 "nbformat_minor": 4
}
