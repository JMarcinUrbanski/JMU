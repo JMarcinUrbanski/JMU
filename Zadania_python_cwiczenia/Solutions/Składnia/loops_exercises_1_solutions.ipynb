{
 "cells": [
  {
   "cell_type": "markdown",
   "metadata": {
    "toc": true
   },
   "source": [
    "<h1>Table of Contents<span class=\"tocSkip\"></span></h1>\n",
    "<div class=\"toc\"><ul class=\"toc-item\"><li><span><a href=\"#Zadanie-1---while\" data-toc-modified-id=\"Zadanie-1---while-1\">Zadanie 1 - while</a></span></li><li><span><a href=\"#Zadanie-2---while\" data-toc-modified-id=\"Zadanie-2---while-2\">Zadanie 2 - while</a></span></li><li><span><a href=\"#Zadanie-3---for\" data-toc-modified-id=\"Zadanie-3---for-3\">Zadanie 3 - for</a></span></li><li><span><a href=\"#Zadanie-4---for\" data-toc-modified-id=\"Zadanie-4---for-4\">Zadanie 4 - for</a></span></li></ul></div>"
   ]
  },
  {
   "cell_type": "markdown",
   "metadata": {},
   "source": [
    "#### Zadanie 1 - while\n",
    "\n",
    "Wyliczaj i wypisuj kolejne potęgi liczby 2 (od pierwszej)\n",
    "\n",
    "Przerwij, gdy wyliczona wartość jest większa niż 3000 (nie wypisuj jej już)\n",
    "\n",
    "Zrób to na dwa sposoby: (a) bez break, (b) z break"
   ]
  },
  {
   "cell_type": "code",
   "execution_count": 1,
   "metadata": {},
   "outputs": [
    {
     "name": "stdout",
     "output_type": "stream",
     "text": [
      "2\n",
      "4\n",
      "8\n",
      "16\n",
      "32\n",
      "64\n",
      "128\n",
      "256\n",
      "512\n",
      "1024\n",
      "2048\n"
     ]
    }
   ],
   "source": [
    "# (a)\n",
    "\n",
    "numer = 2\n",
    "while numer < 3000:\n",
    "    print(numer)\n",
    "    numer *= 2"
   ]
  },
  {
   "cell_type": "code",
   "execution_count": 2,
   "metadata": {},
   "outputs": [
    {
     "name": "stdout",
     "output_type": "stream",
     "text": [
      "2\n",
      "4\n",
      "8\n",
      "16\n",
      "32\n",
      "64\n",
      "128\n",
      "256\n",
      "512\n",
      "1024\n",
      "2048\n"
     ]
    }
   ],
   "source": [
    "# (b)\n",
    "\n",
    "numer = 2\n",
    "while True:\n",
    "    if numer >= 3000:\n",
    "        break\n",
    "    print(numer)\n",
    "    numer = numer * 2"
   ]
  },
  {
   "cell_type": "code",
   "execution_count": 3,
   "metadata": {},
   "outputs": [
    {
     "name": "stdout",
     "output_type": "stream",
     "text": [
      "2\n",
      "4\n",
      "8\n",
      "16\n",
      "32\n",
      "64\n",
      "128\n",
      "256\n",
      "512\n",
      "1024\n",
      "2048\n"
     ]
    }
   ],
   "source": [
    "# alternatywnie:\n",
    "\n",
    "number = 2\n",
    "while 1:\n",
    "    if not (number < 3000):\n",
    "        break\n",
    "    print(number)\n",
    "    number *= 2"
   ]
  },
  {
   "cell_type": "markdown",
   "metadata": {},
   "source": [
    "#### Zadanie 2 - while\n",
    "\n",
    "Pobieraj w kółko tekst od użytkownika\n",
    "\n",
    "Wypisz to co wpisał, ale wielkimi literami\n",
    "\n",
    "Przerwij, gdy wpisze \"quit\" lub \"q\"\n",
    "\n",
    "Zrób to na dwa sposoby: (a) bez break, (b) z break"
   ]
  },
  {
   "cell_type": "code",
   "execution_count": 3,
   "metadata": {},
   "outputs": [
    {
     "name": "stdin",
     "output_type": "stream",
     "text": [
      " q\n"
     ]
    }
   ],
   "source": [
    "# (a)\n",
    "\n",
    "komenda = input()\n",
    "while komenda != \"quit\" and komenda != \"q\":\n",
    "    print(komenda.upper())\n",
    "    komenda = input()"
   ]
  },
  {
   "cell_type": "code",
   "execution_count": null,
   "metadata": {},
   "outputs": [],
   "source": [
    "# Rozwinięcie komend pętli (a)\n",
    "\n",
    "# komenda = input()\n",
    "# SPRAWDZENIE CZY DZIAŁAĆ\n",
    "# print(komenda.upper())\n",
    "# komenda = input()\n",
    "# SPRAWDZENIE CZY DZIAŁAĆ\n",
    "# print(komenda.upper())\n",
    "# komenda = input()\n",
    "# SPRAWDZENIE CZY DZIAŁAĆ\n",
    "# print(komenda.upper())\n",
    "# komenda = input()\n",
    "# SPRAWDZENIE CZY DZIAŁAĆ\n",
    "# print(komenda.upper())\n",
    "# komenda = input()\n",
    "# ..."
   ]
  },
  {
   "cell_type": "code",
   "execution_count": 4,
   "metadata": {},
   "outputs": [
    {
     "name": "stdin",
     "output_type": "stream",
     "text": [
      " q\n"
     ]
    }
   ],
   "source": [
    "# (b)\n",
    "\n",
    "while True:\n",
    "    komenda = input()\n",
    "    if komenda == \"quit\" or komenda == \"q\":\n",
    "        break\n",
    "    print(komenda.upper())"
   ]
  },
  {
   "cell_type": "code",
   "execution_count": null,
   "metadata": {},
   "outputs": [],
   "source": [
    "# Rozwinięcie komend pętli (b) - to samo co (a)!\n",
    "\n",
    "# komenda = input()\n",
    "# SPRAWDZENIE CZY DZIAŁAĆ\n",
    "# print(komenda.upper())\n",
    "# komenda = input()\n",
    "# SPRAWDZENIE CZY DZIAŁAĆ\n",
    "# print(komenda.upper())\n",
    "# komenda = input()\n",
    "# SPRAWDZENIE CZY DZIAŁAĆ\n",
    "# print(komenda.upper())\n",
    "# komenda = input()\n",
    "# SPRAWDZENIE CZY DZIAŁAĆ\n",
    "# print(komenda.upper())\n",
    "# ..."
   ]
  },
  {
   "cell_type": "markdown",
   "metadata": {},
   "source": [
    "#### Zadanie 3 - for\n",
    "\n",
    "Przejdź przez zmienną `tekst` znak po znaku\n",
    "\n",
    "Za każdym razem gdy natrafisz na spację, wypisz \"Spacja!\""
   ]
  },
  {
   "cell_type": "code",
   "execution_count": 5,
   "metadata": {},
   "outputs": [
    {
     "name": "stdout",
     "output_type": "stream",
     "text": [
      "Spacja!\n",
      "Spacja!\n",
      "Spacja!\n",
      "Spacja!\n",
      "Spacja!\n",
      "Spacja!\n",
      "Spacja!\n"
     ]
    }
   ],
   "source": [
    "tekst = \"Lorem ipsum dolor sit amet, consectetur adipiscing elit.\"\n",
    "\n",
    "for znak in tekst:\n",
    "    if znak == \" \":\n",
    "        print(\"Spacja!\")"
   ]
  },
  {
   "cell_type": "code",
   "execution_count": 4,
   "metadata": {},
   "outputs": [
    {
     "name": "stdout",
     "output_type": "stream",
     "text": [
      "Znak: L\n",
      "Znak: o\n",
      "Znak: r\n",
      "Znak: e\n",
      "Znak: m\n",
      "Spacja!\n",
      "Znak: i\n",
      "Znak: p\n",
      "Znak: s\n",
      "Znak: u\n",
      "Znak: m\n",
      "Spacja!\n",
      "Znak: d\n",
      "Znak: o\n",
      "Znak: l\n",
      "Znak: o\n",
      "Znak: r\n",
      "Spacja!\n",
      "Znak: s\n",
      "Znak: i\n",
      "Znak: t\n",
      "Spacja!\n",
      "Znak: a\n",
      "Znak: m\n",
      "Znak: e\n",
      "Znak: t\n",
      "Znak: ,\n",
      "Spacja!\n",
      "Znak: c\n",
      "Znak: o\n",
      "Znak: n\n",
      "Znak: s\n",
      "Znak: e\n",
      "Znak: c\n",
      "Znak: t\n",
      "Znak: e\n",
      "Znak: t\n",
      "Znak: u\n",
      "Znak: r\n",
      "Spacja!\n",
      "Znak: a\n",
      "Znak: d\n",
      "Znak: i\n",
      "Znak: p\n",
      "Znak: i\n",
      "Znak: s\n",
      "Znak: c\n",
      "Znak: i\n",
      "Znak: n\n",
      "Znak: g\n",
      "Spacja!\n",
      "Znak: e\n",
      "Znak: l\n",
      "Znak: i\n",
      "Znak: t\n",
      "Znak: .\n"
     ]
    }
   ],
   "source": [
    "tekst = \"Lorem ipsum dolor sit amet, consectetur adipiscing elit.\"\n",
    "\n",
    "for znak in tekst:\n",
    "    if znak == ' ':\n",
    "        print('Spacja!')\n",
    "    else:\n",
    "        print('Znak:', znak)"
   ]
  },
  {
   "cell_type": "markdown",
   "metadata": {},
   "source": [
    "#### Zadanie 4 - for\n",
    "\n",
    "Dla liczb z zakresu od 1 do 15 (włącznie)\n",
    "\n",
    "Wypisz ich wartość do drugiej potęgi"
   ]
  },
  {
   "cell_type": "code",
   "execution_count": 6,
   "metadata": {},
   "outputs": [
    {
     "name": "stdout",
     "output_type": "stream",
     "text": [
      "1\n",
      "4\n",
      "9\n",
      "16\n",
      "25\n",
      "36\n",
      "49\n",
      "64\n",
      "81\n",
      "100\n",
      "121\n",
      "144\n",
      "169\n",
      "196\n",
      "225\n"
     ]
    }
   ],
   "source": [
    "for i in range(1, 16):\n",
    "    print(i ** 2)"
   ]
  },
  {
   "cell_type": "code",
   "execution_count": null,
   "metadata": {},
   "outputs": [],
   "source": []
  }
 ],
 "metadata": {
  "kernelspec": {
   "display_name": "Python 3",
   "language": "python",
   "name": "python3"
  },
  "language_info": {
   "codemirror_mode": {
    "name": "ipython",
    "version": 3
   },
   "file_extension": ".py",
   "mimetype": "text/x-python",
   "name": "python",
   "nbconvert_exporter": "python",
   "pygments_lexer": "ipython3",
   "version": "3.8.8"
  },
  "toc": {
   "base_numbering": 1,
   "nav_menu": {},
   "number_sections": false,
   "sideBar": false,
   "skip_h1_title": false,
   "title_cell": "Table of Contents",
   "title_sidebar": "Contents",
   "toc_cell": true,
   "toc_position": {},
   "toc_section_display": true,
   "toc_window_display": false
  }
 },
 "nbformat": 4,
 "nbformat_minor": 4
}
