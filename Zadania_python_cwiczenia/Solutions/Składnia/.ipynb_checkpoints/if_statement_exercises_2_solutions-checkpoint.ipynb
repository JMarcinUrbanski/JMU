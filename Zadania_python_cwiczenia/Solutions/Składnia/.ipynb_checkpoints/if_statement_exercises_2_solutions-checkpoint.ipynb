{
 "cells": [
  {
   "cell_type": "markdown",
   "metadata": {},
   "source": [
    "#### Zadanie 1\n",
    "\n",
    "Napisz algorytm, który sprawdzi, czy liczba jest parzysta\n",
    "\n",
    "Pobierz liczbę od użytkownika"
   ]
  },
  {
   "cell_type": "code",
   "execution_count": null,
   "metadata": {},
   "outputs": [],
   "source": [
    "liczba = input(\"Podaj liczbe całkowitą: \")\n",
    "if int(liczba) % 2 == 0:\n",
    "    print(\"Parzysta\")\n",
    "else:\n",
    "    print(\"Nieparzysta\")"
   ]
  },
  {
   "cell_type": "markdown",
   "metadata": {},
   "source": [
    "#### Zadanie 2\n",
    "\n",
    "Poproś użytkownika o login\n",
    "\n",
    "Sprawdź, czy zgadza się z \"adamnowak\" i wypisz informację\n",
    "\n",
    "(Dla loginów nie ma znaczenia wielkość liter - AdaMNowak też powinno zadziałać)"
   ]
  },
  {
   "cell_type": "code",
   "execution_count": null,
   "metadata": {},
   "outputs": [],
   "source": [
    "login = input(\"Podaj login: \")\n",
    "if login.lower() == \"adamnowak\":\n",
    "    print(\"Witam!\")\n",
    "else:\n",
    "    print(\"Błąd\")"
   ]
  },
  {
   "cell_type": "markdown",
   "metadata": {},
   "source": [
    "#### Zadanie 3\n",
    "\n",
    "Poproś użytkownika \"adamnowak\" o nowe hasło\n",
    "\n",
    "Sprawdź, czy jego login (\"adamnowak\") się w nim zawiera (wielkimi lub małymi literami) i wypisz informację"
   ]
  },
  {
   "cell_type": "code",
   "execution_count": null,
   "metadata": {},
   "outputs": [],
   "source": [
    "login = \"adamnowak\"\n",
    "password = input(\"Podaj nowe hasło: \")\n",
    "\n",
    "if login in password.lower():\n",
    "    print(\"Słabe hasło!\")\n",
    "else:\n",
    "    print(\"Ok\")"
   ]
  },
  {
   "cell_type": "markdown",
   "metadata": {},
   "source": [
    "#### Zadanie 4\n",
    "\n",
    "Poproś użytkownika o nowe hasło i sprawdź czy jest bezpieczne, tzn. spełnia wszystkie poniższe warunki:\n",
    "\n",
    "* Ma 8 znaków lub więcej\n",
    "* Nie zawiera roku: 2021, ani miesiąca (obecnego, słownie, czyli \"luty\", niezależnie od wielkości liter)\n",
    "* Zawiera przynajmniej jeden znak specjalny \"#\", \"@\" lub \"&\""
   ]
  },
  {
   "cell_type": "code",
   "execution_count": null,
   "metadata": {},
   "outputs": [],
   "source": [
    "# Opcja 1 - wszystko w jednym if - sprawdzam czy dobre\n",
    "haslo = input(\"Podaj nowe hasło: \")\n",
    "if (len(haslo) >= 8 and\n",
    "        \"2021\" not in haslo and\n",
    "        \"luty\" not in haslo.lower() and\n",
    "        (\"#\" in haslo or \"@\" in haslo or \"&\" in haslo)):\n",
    "    print(\"Mocne hasło!\")\n",
    "else:\n",
    "    print(\"Słabe hasło!\")\n"
   ]
  },
  {
   "cell_type": "code",
   "execution_count": null,
   "metadata": {},
   "outputs": [],
   "source": [
    "# Opcja 2 - szczegółowa z elifami - sprawdzam czy złe kolejne warunki!\n",
    "if len(haslo) < 8:\n",
    "    print(\"Słabe bo krótkie!\")\n",
    "elif \"2021\" in haslo:\n",
    "    print(\"Słabe bo zawiera rok!\")\n",
    "elif \"luty\" in haslo.lower():\n",
    "    print(\"Słabe bo zawiera miesiąc!\")\n",
    "elif \"#\" not in haslo and \"@\" not in haslo and \"&\" not in haslo:\n",
    "    print(\"Słabe bo bez znaku specjalnego!\")\n",
    "else:\n",
    "    print(\"Mocne hasło!\")\n"
   ]
  },
  {
   "cell_type": "markdown",
   "metadata": {},
   "source": [
    "#### Zadanie 5\n",
    "\n",
    "Poproś użytkownika o fragment tekstu, a następnie o słowo\n",
    "\n",
    "Określ na której pozycji rozpoczyna się dane słowo w danym tekscie używając metody `find`\n",
    "\n",
    "Wypisz odpowiedni komunikat - jeden w przypadku sukcesu, drugi w przypadku porażki (braku słowa w tekscie)\n",
    "\n",
    "Np.:\n",
    "Dla tekstu \"Ala ma kota\" i słowa \"kot\"\n",
    "\n",
    "\"Słowo \"kot\" znajduje się na 7 pozycji.\"\n",
    "\n",
    "Dla tekstu \"Ala ma kota\" i słowa \"pies\"\n",
    "\n",
    "\"Słowo \"pies\" nie znajduje się w tekscie.\""
   ]
  },
  {
   "cell_type": "code",
   "execution_count": null,
   "metadata": {},
   "outputs": [],
   "source": [
    "tekst = input(\"Podaj tekst:\\n\")\n",
    "slowo = input(\"Podaj slowo:\\n\")\n",
    "\n",
    "indeks = tekst.find(slowo)\n",
    "\n",
    "if indeks >= 0:\n",
    "    print(f\"Słowo \\\"{slowo}\\\" znajduje się na {indeks} pozycji.\")\n",
    "else:\n",
    "    print(f\"Słowo \\\"{slowo}\\\" nie znajduje się w tekście\")"
   ]
  },
  {
   "cell_type": "markdown",
   "metadata": {},
   "source": [
    "#### Zadanie 6\n",
    "\n",
    "Rozwiń powyższy program dodając do komunikatu wizualizację: wszystkie elementy tekstu które nie są pierwszym wystąpieniem słowa zamień na \"_\"\n",
    "\n",
    "Np.:\n",
    "\n",
    "Dla tekstu \"Ala ma kota\" i słowa \"kot\"\n",
    "\n",
    "\"Słowo \"kot\" znajduje się na 7 pozycji.\"\n",
    "\n",
    "`_______kot_`\n",
    "\n",
    "Dla tekstu \"Ala ma kota\" i słowa \"pies\"\n",
    "\n",
    "\"Słowo \"pies\" nie znajduje się w tekscie.\"\n",
    "\n",
    "`___________`\n",
    "\n",
    "Uwaga! Zależy nam na wizualizacji, a nie wartości - użyj mądrego tworzenia stringa i indeksowania, a nie podmiany wartości."
   ]
  },
  {
   "cell_type": "code",
   "execution_count": null,
   "metadata": {},
   "outputs": [],
   "source": [
    "tekst = input(\"Podaj tekst:\\n\")\n",
    "slowo = input(\"Podaj slowo:\\n\")\n",
    "\n",
    "indeks = tekst.find(slowo)\n",
    "\n",
    "if indeks >= 0:\n",
    "    print(f\"Słowo \\\"{slowo}\\\" znajduje się na {indeks} pozycji.\")\n",
    "    print(\"_\" * indeks + slowo + \"_\" * (len(tekst) - indeks - len(slowo)))\n",
    "else:\n",
    "    print(f\"Słowo \\\"{slowo}\\\" nie znajduje się w tekście\")\n",
    "    print(\"_\" * len(tekst))"
   ]
  },
  {
   "cell_type": "markdown",
   "metadata": {},
   "source": [
    "#### Zadanie 7\n",
    "\n",
    "Pobierz liczbę od użytkownika\n",
    "\n",
    "Sprawdź czy użytkownik faktycznie podał liczbę (metoda `isdigit` typu string)\n",
    "\n",
    "Jeżeli tak to sprawdź podzielność przez kolejno 3, 5 i 7 (nie jednocześnie)\n",
    "\n",
    "Wypisz rezultat dla każdego sprawdzenia\n",
    "\n",
    "Np. dla liczby 21\n",
    "\n",
    "\"Liczba 21 jest podzielna przez 3!\"\n",
    "\n",
    "\"Liczba 21 jest podzielna przez 7!\""
   ]
  },
  {
   "cell_type": "code",
   "execution_count": null,
   "metadata": {},
   "outputs": [],
   "source": [
    "liczba = input(\"Podaj liczbę: \")\n",
    "if liczba.isdigit():\n",
    "    if int(liczba) % 3 == 0:\n",
    "        print(f\"Liczba {liczba} jest podzielna przez 3!\")\n",
    "    if int(liczba) % 5 == 0:\n",
    "        print(f\"Liczba {liczba} jest podzielna przez 5!\")\n",
    "    if int(liczba) % 7 == 0:\n",
    "        print(f\"Liczba {liczba} jest podzielna przez 7!\")\n",
    "else:\n",
    "    print(f\"{liczba} to nie liczba...\")"
   ]
  },
  {
   "cell_type": "markdown",
   "metadata": {},
   "source": [
    "#### Zadanie 8\n",
    "\n",
    "Pobierz wynik sprawdzianu od użytkownika\n",
    "\n",
    "Sprawdź czy jest to liczba i czy jest z zakresu 0 do 100\n",
    "\n",
    "Wypisz ocenę na podstawie progu procentowego\n",
    "\n",
    "\"5\" od 90, \"4+\" od 80, \"4\" od 70, \"3+\" od 60, \"3\" od 50, \"2\" dla mniej niż 50"
   ]
  },
  {
   "cell_type": "code",
   "execution_count": null,
   "metadata": {},
   "outputs": [],
   "source": [
    "wynik = input(\"Podaj wynik: \")\n",
    "if wynik.isdigit() and 0 <= int(wynik) <= 100:\n",
    "    if int(wynik) > 90:\n",
    "        print(\"5\")\n",
    "    elif int(wynik) > 80:\n",
    "        print(\"4+\")\n",
    "    elif int(wynik) > 70:\n",
    "        print(\"4\")\n",
    "    elif int(wynik) > 60:\n",
    "        print(\"3+\")\n",
    "    elif int(wynik) > 50:\n",
    "        print(\"3\")\n",
    "    else:\n",
    "        print(\"2\")\n",
    "else:\n",
    "    print(f\"{wynik} to nie wynik...\")"
   ]
  },
  {
   "cell_type": "markdown",
   "metadata": {},
   "source": [
    "#### Zadanie 9\n",
    "\n",
    "Sprawdź czy jest wygrana w kółko i krzyżyk\n",
    "\n",
    "Wejście to 9 znaków oznaczających stan planszy w kolejnych wierszach - \"x\", \"o\", lub puste \"-\"\n",
    "\n",
    "Wypisz czy jest wygrana i czyja\n",
    "\n",
    "Sprawdź kilka planszy"
   ]
  },
  {
   "cell_type": "code",
   "execution_count": null,
   "metadata": {},
   "outputs": [],
   "source": [
    "plansza_1 = \"xoo-xo--x\"\n",
    "plansza_2 = \"xooxoo--x\"\n",
    "plansza_3 = \"xooxoooxx\""
   ]
  }
 ],
 "metadata": {
  "kernelspec": {
   "display_name": "Python 3",
   "language": "python",
   "name": "python3"
  },
  "language_info": {
   "codemirror_mode": {
    "name": "ipython",
    "version": 3
   },
   "file_extension": ".py",
   "mimetype": "text/x-python",
   "name": "python",
   "nbconvert_exporter": "python",
   "pygments_lexer": "ipython3",
   "version": "3.7.6"
  }
 },
 "nbformat": 4,
 "nbformat_minor": 4
}
