{
 "cells": [
  {
   "cell_type": "markdown",
   "metadata": {},
   "source": [
    "#### Zadanie 1\n",
    "\n",
    "Napisz kod, który sprawdzi, czy zmienna `number` ma wartość większą niż 3\n",
    "\n",
    "Jeżeli tak, wypisz \"TAK!\", jeżeli nie, wypisz \"NIE!\""
   ]
  },
  {
   "cell_type": "code",
   "execution_count": null,
   "metadata": {},
   "outputs": [],
   "source": [
    "number = 5\n",
    "\n",
    "if number > 3:\n",
    "    print(\"TAK!\")\n",
    "else:\n",
    "    print(\"NIE!\")"
   ]
  },
  {
   "cell_type": "markdown",
   "metadata": {},
   "source": [
    "#### Zadanie 2\n",
    "\n",
    "Dla tej samej zmiennej `number`, sprawdź, czy ma wartość mniejszą lub równą 3\n",
    "\n",
    "Wypisz analogiczne komunikaty"
   ]
  },
  {
   "cell_type": "code",
   "execution_count": null,
   "metadata": {},
   "outputs": [],
   "source": [
    "if number <= 3:\n",
    "    print(\"TAK!\")\n",
    "else:\n",
    "    print(\"NIE!\")"
   ]
  },
  {
   "cell_type": "markdown",
   "metadata": {},
   "source": [
    "#### Zadanie 3\n",
    "\n",
    "Dla tej samej zmiennej `number`, sprawdź, czy należy do zakresu od 0 do 11 włącznie\n",
    "\n",
    "Wypisz analogiczne komunikaty"
   ]
  },
  {
   "cell_type": "code",
   "execution_count": null,
   "metadata": {},
   "outputs": [],
   "source": [
    "if 0 <= number <= 11:\n",
    "    print(\"TAK!\")\n",
    "else:\n",
    "    print(\"NIE!\")"
   ]
  },
  {
   "cell_type": "markdown",
   "metadata": {},
   "source": [
    "#### Zadanie 4\n",
    "\n",
    "Dla tej samej zmiennej `number`, sprawdź, czy jest mniejsza od 0 lub większa od 3\n",
    "\n",
    "Wypisz analogiczne komunikaty"
   ]
  },
  {
   "cell_type": "code",
   "execution_count": null,
   "metadata": {},
   "outputs": [],
   "source": [
    "if number < 0 or number > 3:\n",
    "    print(\"TAK!\")\n",
    "else:\n",
    "    print(\"NIE!\")"
   ]
  },
  {
   "cell_type": "markdown",
   "metadata": {},
   "source": [
    "#### Zadanie 5\n",
    "\n",
    "Napisz kod, który sprawdzi wartość zmiennej `number` i wypisze odpowiedni komunikat:\n",
    "\n",
    "\"Większa niż lub równa 5!\" jeżeli jest większe niż lub równe 5\n",
    "\n",
    "\"Pomiędzy 2, a 5!\" jeżeli należy do zakresu od 2 do 5 (przedział otwarty)\n",
    "\n",
    "\"Mniejsza niż lub równa 2!\" jeżeli jest mniejsze niż lub równe 2"
   ]
  },
  {
   "cell_type": "code",
   "execution_count": null,
   "metadata": {},
   "outputs": [],
   "source": [
    "if number >= 5:\n",
    "    print(\"Większa niż lub równa 5!\")\n",
    "elif 2 < number < 5:\n",
    "    print(\"Pomiędzy 2, a 5!\")\n",
    "else:\n",
    "    print(\"Mniejsza niż lub równa 2!\")"
   ]
  },
  {
   "cell_type": "markdown",
   "metadata": {},
   "source": [
    "#### Zadanie 6\n",
    "\n",
    "Sprawdź, czy zmienna `wynik` ma wartość większą niż 50\n",
    "\n",
    "Jeżeli tak, podnieś ją do drugiej potęgi (rezultat zapisz w tej samej zmiennej)\n",
    "\n",
    "Jeżeli nie, dodaj do niej 1975 (rezultat zapisz w tej samej zmiennej)\n",
    "\n",
    "Następnie, sprawdź, czy po operacjach jej wartość jest większa niż 2000\n",
    "\n",
    "Jezeli tak, wypisz \"Większa niż 2000!\"\n",
    "\n",
    "Jeżeli nie, wypisz \"Mniejsza lub równa 2000!\"\n",
    "\n",
    "Przetestuj dla różnych wartości zmiennej `wynik`"
   ]
  },
  {
   "cell_type": "code",
   "execution_count": null,
   "metadata": {},
   "outputs": [],
   "source": [
    "wynik = 99\n",
    "\n",
    "if wynik > 50:\n",
    "    wynik **= 2\n",
    "else:\n",
    "    wynik += 1975\n",
    "\n",
    "if wynik > 2000:\n",
    "    print(\"Większa niż 2000!\")\n",
    "else:\n",
    "    print(\"Mniejsza lub równa 2000!\")"
   ]
  },
  {
   "cell_type": "markdown",
   "metadata": {},
   "source": [
    "#### Zadanie 7\n",
    "\n",
    "Nowe hasło podane przez użytkownika zawiera się w zmiennej `haslo`\n",
    "\n",
    "Napisz kod, który sprawdza, czy haslo zawiera w sobie znak \"@\""
   ]
  },
  {
   "cell_type": "code",
   "execution_count": null,
   "metadata": {},
   "outputs": [],
   "source": [
    "haslo = \"QWerTY%$#@!\"\n",
    "\n",
    "if \"@\" in haslo:\n",
    "    print(\"Jest @!\")\n",
    "else:\n",
    "    print(\"Nie ma @!\")"
   ]
  },
  {
   "cell_type": "markdown",
   "metadata": {},
   "source": [
    "#### Zadanie 8\n",
    "\n",
    "Napisz kod sprawdzajacy, czy zmienna `tekst` ma więcej niż 15 znaków i zawiera fragment \"Adam\""
   ]
  },
  {
   "cell_type": "code",
   "execution_count": null,
   "metadata": {},
   "outputs": [],
   "source": [
    "tekst = \"Ala ma kota, a Adam ma psa, hi hi hi, ha ha ha - Własne\"\n",
    "\n",
    "if len(tekst) > 15 and \"Adam\" in tekst:\n",
    "    print(\"Dobrze!\")\n",
    "else:\n",
    "    print(\"Źle!\")"
   ]
  },
  {
   "cell_type": "markdown",
   "metadata": {},
   "source": [
    "#### Zadanie 9\n",
    "\n",
    "Skomplikujmy zadanie 8\n",
    "\n",
    "Jeżeli spełniony jest tylko warunek: tekst ma więcej niż 15 znaków, wypisz \"Cóż za epopeja!\"\n",
    "\n",
    "Jeżeli spełniony jest tylko warunek: zawiera fragment \"Adam\", wypisz \"Wspaniała postać!\"\n",
    "\n",
    "Jeżeli spełnione są oba, wypisz (jako jedyny komunikat!) \"Mój ulubiony wiersz, gratulacje Panie Własne!\""
   ]
  },
  {
   "cell_type": "code",
   "execution_count": null,
   "metadata": {},
   "outputs": [],
   "source": [
    "# Opcja a. korzystam z odpowiedniej kolejności\n",
    "# Skoro nie są spełnione oba na raz, to potem mogę sprawdzać pojedynczo\n",
    "\n",
    "if len(tekst) > 15 and \"Adam\" in tekst:\n",
    "    print(\"Mój ulubiony wiersz, gratulacje Panie Własne!\")\n",
    "elif len(tekst) > 15:\n",
    "    print(\"Cóż za epopeja!\").fdafsDadfrF()\n",
    "elif \"Adam\" in tekst:\n",
    "    print(\"Wspaniała postać!\")\n",
    "\n",
    "\n",
    "# Opcja b. precyzyjnie definiuję warianty, więc kolejność nie ma znaczenia\n",
    "\n",
    "if len(tekst) > 15 and \"Adam\" not in tekst:\n",
    "    print(\"Cóż za epopeja!\")\n",
    "elif len(tekst) <= 15 and \"Adam\" in tekst:\n",
    "    print(\"Wspaniała postać!\")\n",
    "elif len(tekst) > 15 and \"Adam\" in tekst:\n",
    "    print(\"Mój ulubiony wiersz, gratulacje Panie Własne!\")\n",
    "    "
   ]
  },
  {
   "cell_type": "code",
   "execution_count": null,
   "metadata": {},
   "outputs": [],
   "source": []
  }
 ],
 "metadata": {
  "kernelspec": {
   "display_name": "Python 3",
   "language": "python",
   "name": "python3"
  },
  "language_info": {
   "codemirror_mode": {
    "name": "ipython",
    "version": 3
   },
   "file_extension": ".py",
   "mimetype": "text/x-python",
   "name": "python",
   "nbconvert_exporter": "python",
   "pygments_lexer": "ipython3",
   "version": "3.7.6"
  }
 },
 "nbformat": 4,
 "nbformat_minor": 4
}
