{
 "cells": [
  {
   "cell_type": "markdown",
   "id": "1caa720f-8fb7-4408-b78c-f889d7d76a66",
   "metadata": {},
   "source": [
    "# Typy skalarne"
   ]
  },
  {
   "cell_type": "markdown",
   "id": "60f7653b-10f7-447c-9e67-080439157bfc",
   "metadata": {},
   "source": [
    "## Prostokąt\n",
    "\n",
    "Dany jest prostokąt o wymiarach 2.5x7. Oblicz jego pole i obwód."
   ]
  },
  {
   "cell_type": "code",
   "execution_count": null,
   "id": "0fcad723-f51d-4181-83d6-54e5ba50333e",
   "metadata": {},
   "outputs": [],
   "source": [
    "x = 2.5\n",
    "y = 7\n",
    "\n",
    "# pole = ...\n",
    "# obwod = ...\n",
    "\n",
    "print('Pole =', pole)\n",
    "print('Obwód =', obwod)"
   ]
  },
  {
   "cell_type": "markdown",
   "id": "6e69acc2-89de-4d7c-a3d2-f3474b1d074b",
   "metadata": {},
   "source": [
    "## Efektywność pracy\n",
    "\n",
    "Firmy `A` i `B` zajmują się produkcją nakrętek.\n",
    "\n",
    "Firma `A` zatrudnia 120 pracowników i dziennie produkuje 10426 nakrętek.\n",
    "\n",
    "Firma `B` zatrudnia 156 pracowników i dziennie produkuje 13721 nakrętek.\n",
    "\n",
    "W której firmie pracownicy pracują efektywniej?"
   ]
  },
  {
   "cell_type": "code",
   "execution_count": null,
   "id": "71dc7fe5-3375-4305-a865-e8f3f6b598d5",
   "metadata": {},
   "outputs": [],
   "source": []
  },
  {
   "cell_type": "markdown",
   "id": "d033422f-7bf4-4097-8c8b-bc2f12ed56d5",
   "metadata": {},
   "source": [
    "536 nakrętek wyprodukowanych przez firmę `A` w ciągu dnia jest wadliwych.\n",
    "\n",
    "580 nakrętek wyprodukowanych przez firmę `B` w ciągu dnia jest wadliwych.\n",
    "\n",
    "Nakrętkę której firmy powinien kupić klient, żeby mieć większą pewność, że kupiona nakrętka nie będzie wadliwa?"
   ]
  },
  {
   "cell_type": "code",
   "execution_count": null,
   "id": "047bb334-c5db-4214-8a37-282e126a2eec",
   "metadata": {},
   "outputs": [],
   "source": []
  },
  {
   "cell_type": "markdown",
   "id": "a9a918f1-491b-4fe3-916f-1948f6dbb695",
   "metadata": {},
   "source": [
    "Pracownik której firmy produkuje dziennie mniej wadliwych nakrętek?"
   ]
  },
  {
   "cell_type": "code",
   "execution_count": null,
   "id": "d431c531-9b49-47d2-a112-e6aafbeff9d5",
   "metadata": {},
   "outputs": [],
   "source": []
  },
  {
   "cell_type": "markdown",
   "id": "0c878f9f-23ca-4a6a-94c6-5784193b274d",
   "metadata": {},
   "source": [
    "## Komunikat\n",
    "\n",
    "Wyświetl komunikat dla prezesa, z którego dowie się jaki przychód uzyskała firma z podanego regionu.\n",
    "\n",
    "oczekiwany wynik:\n",
    "\n",
    "> Prezesie Smith!\n",
    ">\n",
    "> Oddział XYZ uzyskał przychód 1500 EUR."
   ]
  },
  {
   "cell_type": "code",
   "execution_count": null,
   "id": "1b9e0e75-330e-4ee4-8ded-bfaead307c85",
   "metadata": {},
   "outputs": [],
   "source": [
    "nazwisko_prezesa = 'Smith'\n",
    "\n",
    "oddzial = 'XYZ'\n",
    "kwota = 1500\n",
    "waluta = 'EUR'\n",
    "\n"
   ]
  },
  {
   "cell_type": "markdown",
   "id": "87c513e3-60a6-4040-a469-ebc046143d43",
   "metadata": {},
   "source": [
    "## Logika\n",
    "\n",
    "Sprawdź poniższe warunki."
   ]
  },
  {
   "cell_type": "code",
   "execution_count": null,
   "id": "5803c234-e85f-43b0-bef6-8976150e4e6a",
   "metadata": {},
   "outputs": [],
   "source": [
    "a = 12\n",
    "b = -23\n",
    "c = 1.0\n",
    "d = '12'\n",
    "e = False"
   ]
  },
  {
   "cell_type": "markdown",
   "id": "d9525850-13e7-4178-af9a-2d15b0fe25a3",
   "metadata": {},
   "source": [
    "Czy `a` i `b` są ujemne?"
   ]
  },
  {
   "cell_type": "code",
   "execution_count": null,
   "id": "2311b729-9f2b-4fc3-ab9b-f2a567ddaaf3",
   "metadata": {},
   "outputs": [],
   "source": []
  },
  {
   "cell_type": "markdown",
   "id": "2a8b41fb-52e2-459c-ba7a-46f6b57276fe",
   "metadata": {},
   "source": [
    "Czy `a` jest równe `d`?"
   ]
  },
  {
   "cell_type": "code",
   "execution_count": null,
   "id": "2ea51a37-4b2c-471c-9bb2-18dad1e7125a",
   "metadata": {},
   "outputs": [],
   "source": []
  },
  {
   "cell_type": "markdown",
   "id": "7f44447a-34fa-4617-9633-7e001e4ca503",
   "metadata": {},
   "source": [
    "Czy `a` albo `c` jest ujemne?"
   ]
  },
  {
   "cell_type": "code",
   "execution_count": null,
   "id": "2d57ee75-095d-42b1-8e68-168283864df0",
   "metadata": {},
   "outputs": [],
   "source": []
  },
  {
   "cell_type": "markdown",
   "id": "b8c63aee-f770-479e-9038-1ff1da25deba",
   "metadata": {},
   "source": [
    "Czy prawdą jest, że zaprzeczenie `e` jest fałszem?"
   ]
  },
  {
   "cell_type": "code",
   "execution_count": null,
   "id": "003b3dc8-7022-4baa-87ab-51f49093cf2f",
   "metadata": {},
   "outputs": [],
   "source": []
  },
  {
   "cell_type": "markdown",
   "id": "f181f895-040f-4c86-8ea3-f5756a9faa26",
   "metadata": {},
   "source": [
    "**Zadanie z gwiazdką.**\n",
    "\n",
    "Napisz w Pythonie prawo rozdzielności alternatywy względem koniunkcji.\n",
    "\n",
    "$$ p \\lor (q \\land r) \\Leftrightarrow (p \\lor q) \\land (p \\lor r) $$\n",
    "\n",
    "* $\\lor$ - alternatywa - `or`\n",
    "* $\\land$ - koniunkcja - `and`\n",
    "\n",
    "> Przykład:\n",
    "\n",
    "> Prawo podwójnego zaprzeczenia\n",
    "\n",
    "$$ \\neg ( \\neg p ) \\Leftrightarrow p $$\n",
    "\n",
    "\n",
    "```python\n",
    "not (not p) == p\n",
    "```"
   ]
  },
  {
   "cell_type": "code",
   "execution_count": null,
   "id": "9e4492d0-f3aa-4353-9307-af1d7cf8a1fe",
   "metadata": {},
   "outputs": [],
   "source": [
    "p = True #or False\n",
    "q = True #or False\n",
    "r = True #or False\n"
   ]
  },
  {
   "cell_type": "markdown",
   "id": "9fcc26f8-6ff2-4fe6-a520-280b11fda3d7",
   "metadata": {},
   "source": [
    "# Typy sekwencyjne"
   ]
  },
  {
   "cell_type": "markdown",
   "id": "4966fba4-e350-402a-8905-52e8559e69ff",
   "metadata": {},
   "source": [
    "## Kraje\n",
    "\n",
    "Dana jest lista krajów."
   ]
  },
  {
   "cell_type": "code",
   "execution_count": null,
   "id": "206eb2c4-64fa-4b55-ab74-df545ba366a8",
   "metadata": {},
   "outputs": [],
   "source": [
    "kraje = ['Polska', 'Niemcy', 'Francja', 'Włochy', 'Brazylia', 'Japonia']"
   ]
  },
  {
   "cell_type": "markdown",
   "id": "84361667-f5c0-4c32-af7e-7349ccf8b6ca",
   "metadata": {},
   "source": [
    "Podaj liczbę krajów."
   ]
  },
  {
   "cell_type": "code",
   "execution_count": null,
   "id": "484855a3-82bd-4892-8495-8075d565ba9d",
   "metadata": {},
   "outputs": [],
   "source": []
  },
  {
   "cell_type": "markdown",
   "id": "0566f4d5-dd3d-4e71-a06b-69cfbcc14057",
   "metadata": {},
   "source": [
    "Dodaj do listy USA."
   ]
  },
  {
   "cell_type": "code",
   "execution_count": null,
   "id": "a8189583-4002-418f-956e-dee20d7dbbd2",
   "metadata": {},
   "outputs": [],
   "source": []
  },
  {
   "cell_type": "markdown",
   "id": "c23bd1be-3cef-4426-bb1d-c8ca0717e549",
   "metadata": {},
   "source": [
    "Posortuj listę alfabetycznie."
   ]
  },
  {
   "cell_type": "code",
   "execution_count": null,
   "id": "b4cfbc8e-a19b-4f60-b82a-602d7f5c4a38",
   "metadata": {},
   "outputs": [],
   "source": []
  },
  {
   "cell_type": "markdown",
   "id": "cc550b95-96db-4c11-9c66-0216935d2e39",
   "metadata": {},
   "source": [
    "Wskaż dwa pierwsze elementy."
   ]
  },
  {
   "cell_type": "code",
   "execution_count": null,
   "id": "f510e75e-a3e0-4f63-8da5-3c492285d46d",
   "metadata": {},
   "outputs": [],
   "source": []
  },
  {
   "cell_type": "markdown",
   "id": "06c0c990-16ed-4483-84bc-c671d4d96866",
   "metadata": {},
   "source": [
    "Wskaż ostatni element."
   ]
  },
  {
   "cell_type": "code",
   "execution_count": null,
   "id": "23e36351-c6ff-449c-9392-305c2ea9d450",
   "metadata": {},
   "outputs": [],
   "source": []
  },
  {
   "cell_type": "markdown",
   "id": "46e107c6-ef4f-4562-ad5a-0b4fe5549bb8",
   "metadata": {},
   "source": [
    "Sprawdź, czy na liście jest Kanada."
   ]
  },
  {
   "cell_type": "code",
   "execution_count": null,
   "id": "b600fa64-81d4-4f03-8928-67b270006c4b",
   "metadata": {},
   "outputs": [],
   "source": []
  },
  {
   "cell_type": "markdown",
   "id": "fc348eed-e733-468f-a566-818bcbf71143",
   "metadata": {},
   "source": [
    "Dodaj do listy dodatkowe kraje."
   ]
  },
  {
   "cell_type": "code",
   "execution_count": null,
   "id": "7e868977-472b-46a7-81f9-e4a6be165b6e",
   "metadata": {},
   "outputs": [],
   "source": [
    "dodatkowe_kraje = ['Litwa', 'Malta']\n",
    "\n"
   ]
  },
  {
   "cell_type": "markdown",
   "id": "7505991d-7669-4389-b948-134cc9121983",
   "metadata": {},
   "source": [
    "## Miasta\n",
    "\n",
    "Dane jest lista miast."
   ]
  },
  {
   "cell_type": "code",
   "execution_count": null,
   "id": "186dc1f2-562a-4bbd-b7c9-aafd68f804de",
   "metadata": {},
   "outputs": [],
   "source": [
    "miasta = ['Pekin', 'Porto', 'Lizbona', 'Katowice', 'Marsylia', 'Pilzno', 'Manchester']"
   ]
  },
  {
   "cell_type": "markdown",
   "id": "e39be51b-240e-4fc0-8dbb-6e92605e1df9",
   "metadata": {},
   "source": [
    "Sprawdź, czy jest więcej niż 5 miast."
   ]
  },
  {
   "cell_type": "code",
   "execution_count": null,
   "id": "8c00517c-b727-4810-b812-f83c40533004",
   "metadata": {},
   "outputs": [],
   "source": []
  },
  {
   "cell_type": "markdown",
   "id": "a809e8db-36fc-4e5a-a432-8a424a6bde2a",
   "metadata": {},
   "source": [
    "Dodaj do listy swoje miasto."
   ]
  },
  {
   "cell_type": "code",
   "execution_count": null,
   "id": "ec88dc72-b8c1-451a-b7e2-9ea483e87422",
   "metadata": {},
   "outputs": [],
   "source": []
  },
  {
   "cell_type": "markdown",
   "id": "46c71109-f083-4e76-ac76-2c42bfa58f01",
   "metadata": {},
   "source": [
    "Posortuj listę alfabetycznie."
   ]
  },
  {
   "cell_type": "code",
   "execution_count": null,
   "id": "6caca184-3bff-4daa-896b-b9c54c6190f3",
   "metadata": {},
   "outputs": [],
   "source": []
  },
  {
   "cell_type": "markdown",
   "id": "168daab8-c833-455d-9640-0fc782133107",
   "metadata": {},
   "source": [
    "Wskaż 3 ostatnie miasta."
   ]
  },
  {
   "cell_type": "code",
   "execution_count": null,
   "id": "cd28f350-ed6a-4b40-8c2b-58b4740cb3e9",
   "metadata": {},
   "outputs": [],
   "source": []
  },
  {
   "cell_type": "markdown",
   "id": "a60de683-93c4-43e7-8ef4-fef67d571b27",
   "metadata": {},
   "source": [
    "Dodaj do listy Wilno i Kair."
   ]
  },
  {
   "cell_type": "code",
   "execution_count": null,
   "id": "2959b0a1-7d93-4029-8654-7534e2e7c2da",
   "metadata": {},
   "outputs": [],
   "source": []
  },
  {
   "cell_type": "markdown",
   "id": "c23d77ad-2873-4670-a595-bd34cdc6da13",
   "metadata": {},
   "source": [
    "Sprawdź, czy na liście jest Pilzno."
   ]
  },
  {
   "cell_type": "code",
   "execution_count": null,
   "id": "e13f306e-5d5f-4c0d-acc4-d47f2a663463",
   "metadata": {},
   "outputs": [],
   "source": []
  },
  {
   "cell_type": "markdown",
   "id": "41953252-6e04-43bc-b81e-985ea0d572e3",
   "metadata": {},
   "source": [
    "## Listy zagnieżdzone\n",
    "\n",
    "Dana jest lista."
   ]
  },
  {
   "cell_type": "code",
   "execution_count": null,
   "id": "70318ef3-5b8f-46d4-96cf-d0eb9fa657e1",
   "metadata": {},
   "outputs": [],
   "source": [
    "lista = [['jeden'], ['one', 'two'], ['uno', 'due', 'tre'], [1, 2, 3, 5]]"
   ]
  },
  {
   "cell_type": "markdown",
   "id": "e75c88a6-d4a5-472a-8380-454d7a067dec",
   "metadata": {},
   "source": [
    "Wydobądź element 'tre'."
   ]
  },
  {
   "cell_type": "code",
   "execution_count": null,
   "id": "499e8223-75a3-43c6-9f80-ebdbef36563c",
   "metadata": {},
   "outputs": [],
   "source": []
  },
  {
   "cell_type": "markdown",
   "id": "a03bfd97-e8f2-4c18-a1e0-8c8027d9f539",
   "metadata": {},
   "source": [
    "Nadpisz ostatni element ostatniego elementu listy wartością 4."
   ]
  },
  {
   "cell_type": "code",
   "execution_count": null,
   "id": "a983f254-a05f-400b-bf2e-5a2b4e3fc4fc",
   "metadata": {},
   "outputs": [],
   "source": []
  },
  {
   "cell_type": "markdown",
   "id": "883c78b6-801b-4a4f-b5b9-d132aaa3ad2f",
   "metadata": {},
   "source": [
    "Podaj liczbę elementów trzeciego elementu listy."
   ]
  },
  {
   "cell_type": "code",
   "execution_count": null,
   "id": "20bdcff9-992f-4cb0-a60c-c7d76ca26707",
   "metadata": {},
   "outputs": [],
   "source": []
  },
  {
   "cell_type": "markdown",
   "id": "10badaad-059c-4c10-ab71-2da9ebfe2dae",
   "metadata": {},
   "source": [
    "## Listy zagnieżdzone 2"
   ]
  },
  {
   "cell_type": "code",
   "execution_count": null,
   "id": "01b53331-55bc-47e3-99c7-cfcced876018",
   "metadata": {},
   "outputs": [],
   "source": [
    "l = [[14], [], 1, ['a', 'ab' , 'ba']]"
   ]
  },
  {
   "cell_type": "markdown",
   "id": "a83e7a35-d40b-4506-8f95-3a7f021bdc40",
   "metadata": {},
   "source": [
    "Wydobądź element 14"
   ]
  },
  {
   "cell_type": "code",
   "execution_count": null,
   "id": "05019dc8-ff93-4a4f-9f47-7d316f65b0a3",
   "metadata": {},
   "outputs": [],
   "source": []
  },
  {
   "cell_type": "markdown",
   "id": "91f205e1-b93a-4496-bb8c-6dd48a5fddf6",
   "metadata": {},
   "source": [
    "Sprawdź jakiego typu danych jest drugi element czwartego elementu listy."
   ]
  },
  {
   "cell_type": "code",
   "execution_count": null,
   "id": "854bfabf-1245-4120-9755-ac4d7c674a97",
   "metadata": {},
   "outputs": [],
   "source": []
  },
  {
   "cell_type": "markdown",
   "id": "89bc88a3-bb0f-4b5f-bfa1-f66561c815fc",
   "metadata": {},
   "source": [
    "Dodaj element (swoje imię) do drugiego elementu listy. (obecnie jest tam pusta lista)."
   ]
  },
  {
   "cell_type": "code",
   "execution_count": null,
   "id": "4c3d4e44-e403-4dc5-a224-438486aef8cd",
   "metadata": {},
   "outputs": [],
   "source": []
  },
  {
   "cell_type": "markdown",
   "id": "cfae7516-8636-486d-8fca-4d08920fcd2f",
   "metadata": {},
   "source": [
    "## Liczby pierwsze\n",
    "\n",
    "Dana jest kolekcja (w tym przypadku krotka) zawierająca kilka początkowych liczb pierwszych."
   ]
  },
  {
   "cell_type": "code",
   "execution_count": null,
   "id": "cb31ea6a-db47-486e-b185-7083a643c086",
   "metadata": {},
   "outputs": [],
   "source": [
    "prime = (2, 3, 5, 7, 11, 13, 17, 19, 23, 29, 31, 37, 41, 43, 47, 53, 59)"
   ]
  },
  {
   "cell_type": "markdown",
   "id": "b80f5ce4-a12c-4179-bdd9-d6c3d8926419",
   "metadata": {},
   "source": [
    "Oblicz średnią podanych liczb."
   ]
  },
  {
   "cell_type": "code",
   "execution_count": null,
   "id": "dfa09b54-2c81-4f1f-b14d-c0c1fb458bfa",
   "metadata": {},
   "outputs": [],
   "source": []
  },
  {
   "cell_type": "markdown",
   "id": "10dd4fd7-0e8f-422c-940f-544c05a284a6",
   "metadata": {},
   "source": [
    "Oblicz minimum podanych liczb."
   ]
  },
  {
   "cell_type": "code",
   "execution_count": null,
   "id": "22245872-d9a6-4fdc-a3f0-e69afaacd630",
   "metadata": {},
   "outputs": [],
   "source": []
  },
  {
   "cell_type": "markdown",
   "id": "433d2e2c-d1d4-4989-97ba-1f64d1e2e14f",
   "metadata": {},
   "source": [
    "Sprawdź, czy ostatnia wartość jest równa maksimum liczb."
   ]
  },
  {
   "cell_type": "code",
   "execution_count": null,
   "id": "6ed93217-cea3-4890-9df5-e345a06ede5e",
   "metadata": {},
   "outputs": [],
   "source": []
  },
  {
   "cell_type": "markdown",
   "id": "bcd36117-7611-4b95-a404-7a7bf4b36e28",
   "metadata": {},
   "source": [
    "Sprawdź, czy w kolekcji jest liczba 47."
   ]
  },
  {
   "cell_type": "code",
   "execution_count": null,
   "id": "bd83569c-acd5-457a-bde2-e5118197374d",
   "metadata": {},
   "outputs": [],
   "source": []
  },
  {
   "cell_type": "markdown",
   "id": "0414a0f1-1393-4ca9-a9cf-b72ce7ec4d08",
   "metadata": {},
   "source": [
    "**Zadanie z gwiazdką**\n",
    "\n",
    "Oblicz sumę liczb, których indeksy są parzyste "
   ]
  },
  {
   "cell_type": "code",
   "execution_count": null,
   "id": "7d1bdd58-93ee-4469-9aec-f9bbad18196d",
   "metadata": {},
   "outputs": [],
   "source": []
  },
  {
   "cell_type": "markdown",
   "id": "238312f2-cd42-463f-bcec-fb6f688c6cf2",
   "metadata": {},
   "source": [
    "## Zakres\n",
    "\n",
    "Oblicz sumę pierwszych 100 liczb naturalnych."
   ]
  },
  {
   "cell_type": "code",
   "execution_count": null,
   "id": "4ceda287-ece7-4527-a994-33656e252d1c",
   "metadata": {},
   "outputs": [],
   "source": []
  },
  {
   "cell_type": "markdown",
   "id": "7867a245-3349-4394-ac57-b5d727e20349",
   "metadata": {},
   "source": [
    "# Słowniki i zbiory"
   ]
  },
  {
   "cell_type": "markdown",
   "id": "81e6c521-95e3-41ff-bfca-b35498390154",
   "metadata": {},
   "source": [
    "## Zbiory\n",
    "\n",
    "Dana jest lista liczb."
   ]
  },
  {
   "cell_type": "code",
   "execution_count": null,
   "id": "22e0a14e-6ef6-4a44-a584-5b2484233118",
   "metadata": {},
   "outputs": [],
   "source": [
    "liczby_lista = [3, 5, -2, 7, 4, 2, 7, 1, 6, 3, 2, 1, 8, 612]"
   ]
  },
  {
   "cell_type": "markdown",
   "id": "29847a04-0894-42be-9356-a6f8ae18b53b",
   "metadata": {},
   "source": [
    "Stwórz zbiór na podstawie listy `liczby`. Nazwij go \"liczby_zbior\""
   ]
  },
  {
   "cell_type": "code",
   "execution_count": null,
   "id": "25bbb41a-9ffb-435d-a76a-0fb9983c751a",
   "metadata": {},
   "outputs": [],
   "source": []
  },
  {
   "cell_type": "markdown",
   "id": "f5c28e99-08a2-4df8-9e26-6183cd4dcb02",
   "metadata": {},
   "source": [
    "Sprawdź, czy lista i zbiór mają taką samą liczbę elementów."
   ]
  },
  {
   "cell_type": "code",
   "execution_count": null,
   "id": "beaa450a-fb5f-4786-8f93-d4c46d771c80",
   "metadata": {},
   "outputs": [],
   "source": []
  },
  {
   "cell_type": "markdown",
   "id": "f09255d8-fbb9-4761-86d0-07ac41b1bba1",
   "metadata": {},
   "source": [
    "## Stolice\n",
    "\n",
    "Dany jest słownik stolic"
   ]
  },
  {
   "cell_type": "code",
   "execution_count": null,
   "id": "8f3e0e48-5f3e-4f48-bfd6-7a4c1e54f1da",
   "metadata": {},
   "outputs": [],
   "source": [
    "stolice = {\n",
    "    'Polska': 'Warszawa',\n",
    "    'Niemcy': 'Berlin',\n",
    "    'Chiny': 'Pekin',\n",
    "    'Japonia': 'Tokio',\n",
    "    'Czechy': 'Praga',\n",
    "    'Francja': 'Paryż',\n",
    "    'USA': 'Nowy Jork'\n",
    "}"
   ]
  },
  {
   "cell_type": "markdown",
   "id": "eefa85d8-5565-4cb5-b84d-4064ab1ab3c4",
   "metadata": {},
   "source": [
    "Zmień stolicę USA na Waszyngton."
   ]
  },
  {
   "cell_type": "code",
   "execution_count": null,
   "id": "135a6d07-f998-43fc-8024-aa958607374c",
   "metadata": {},
   "outputs": [],
   "source": []
  },
  {
   "cell_type": "markdown",
   "id": "1b5b1e78-8b2c-4ba1-ae61-3a8abf539136",
   "metadata": {},
   "source": [
    "Dodaj stolicę Włoch."
   ]
  },
  {
   "cell_type": "code",
   "execution_count": null,
   "id": "e36300ff-bdb0-4ef7-bd01-0eba479dd283",
   "metadata": {},
   "outputs": [],
   "source": []
  },
  {
   "cell_type": "markdown",
   "id": "911933b9-16c4-4bb3-8424-82dcee6fa656",
   "metadata": {},
   "source": [
    "Wyświetl wszystkie klucze (kraje)."
   ]
  },
  {
   "cell_type": "code",
   "execution_count": null,
   "id": "a9c30647-8029-42b1-a019-89fbe9a3f636",
   "metadata": {},
   "outputs": [],
   "source": []
  },
  {
   "cell_type": "markdown",
   "id": "cefd0695-9079-4c07-95c8-902e28a857d6",
   "metadata": {},
   "source": [
    "Wyświetl wszystkie wartości (stolice)."
   ]
  },
  {
   "cell_type": "code",
   "execution_count": null,
   "id": "c6ad0e9e-902e-4028-9ac3-d133d724819b",
   "metadata": {},
   "outputs": [],
   "source": []
  },
  {
   "cell_type": "markdown",
   "id": "6968a48c-7fc7-4170-9849-bf1984a962d8",
   "metadata": {},
   "source": [
    "\\* na podstawie kluczy stwórz listę i nazwij ją `klucze_lista`."
   ]
  },
  {
   "cell_type": "code",
   "execution_count": null,
   "id": "441c6379-a738-4d41-8198-f69e900e9ee3",
   "metadata": {},
   "outputs": [],
   "source": []
  },
  {
   "cell_type": "markdown",
   "id": "6983caea-892c-4f2d-99fc-87f5ae014c07",
   "metadata": {},
   "source": [
    "Na podstawie danych ze słownika wyciągnij stolicę Czech, następnie stwórz zmienną `stolica_czech` i nadaj jej wyciągniętą wcześniej wartość."
   ]
  },
  {
   "cell_type": "code",
   "execution_count": null,
   "id": "aa9c3e13-0689-49bb-9d93-c15458c54b0f",
   "metadata": {},
   "outputs": [],
   "source": []
  },
  {
   "cell_type": "markdown",
   "id": "40abebbf-4188-4236-8e50-4d109331a492",
   "metadata": {},
   "source": [
    "Na podstawie danych ze słownika spróbuj wyciągnąć stolicę Chorwacji, następnie stwórz zmienną `stolica_chorwacji` i nadaj jej wcześniej wyciągniętą wartość.\n",
    "\n",
    "> UWAGA\n",
    ">\n",
    "> Takiej wartości nie ma w słowniku, natomiast Twój kod nie może wywołać błędu."
   ]
  },
  {
   "cell_type": "code",
   "execution_count": null,
   "id": "ac095afe-b5b1-4d6c-b381-d6c5a29f15cd",
   "metadata": {},
   "outputs": [],
   "source": []
  },
  {
   "cell_type": "markdown",
   "id": "f8b7c7ae-4873-4e1e-8708-6a2da8f5d95e",
   "metadata": {},
   "source": [
    "# Instrukcje sterujące"
   ]
  },
  {
   "cell_type": "markdown",
   "id": "03c9b67a-b6ed-465e-8d4e-0d5f35f98767",
   "metadata": {},
   "source": [
    "## Na rozgrzewkę."
   ]
  },
  {
   "cell_type": "markdown",
   "id": "eb36f037-473e-4996-b209-5ecffa4afd40",
   "metadata": {},
   "source": [
    "Jeśli 2342351241 dzieli się bez reszty przez 3, to wyświetl swoje imię, w przeciwnym razie wyświetl swoje nazwisko."
   ]
  },
  {
   "cell_type": "code",
   "execution_count": null,
   "id": "6f3383d9-a3f8-4005-bd8f-04d1946f10ef",
   "metadata": {},
   "outputs": [],
   "source": []
  },
  {
   "cell_type": "markdown",
   "id": "69b14609-d2f4-420b-856e-e207c58320c9",
   "metadata": {},
   "source": [
    "## Algorytm\n",
    "\n",
    "Napisz kod, który będzie odwzorowaniem rozwiązywanie funkcji kwadratowej.\n",
    "\n",
    "![](https://4.bp.blogspot.com/-Nfrp1IfqkXE/WOSp5eo73VI/AAAAAAAAAFY/sEc5bIjiKU4YpC-AXHnINpbeoLAxx3wFgCLcB/s1600/blok.jpg)"
   ]
  },
  {
   "cell_type": "code",
   "execution_count": null,
   "id": "5857c4f3-354c-48c7-b20d-0df347e81d52",
   "metadata": {},
   "outputs": [],
   "source": []
  },
  {
   "cell_type": "markdown",
   "id": "7b5c2c3a-071f-4a5d-9af6-fd3efcf56526",
   "metadata": {},
   "source": [
    "## Pętle"
   ]
  },
  {
   "cell_type": "markdown",
   "id": "40cc235e-2390-40e6-8fcf-6e558c81d66c",
   "metadata": {},
   "source": [
    "Wypisz liczby o 1 do 30 za pomocą pętli `while`"
   ]
  },
  {
   "cell_type": "code",
   "execution_count": null,
   "id": "cb2d3a14-fca0-40ee-9b4e-ff1dbfcfaa2b",
   "metadata": {},
   "outputs": [],
   "source": []
  },
  {
   "cell_type": "markdown",
   "id": "574ec450-8183-495d-ac54-9e51add13a0f",
   "metadata": {},
   "source": [
    "Wypisz liczby od 1 do 30 za pomocą pętli `for`"
   ]
  },
  {
   "cell_type": "code",
   "execution_count": null,
   "id": "f38d102b-7e39-483a-a1ac-dae69caf6f4f",
   "metadata": {},
   "outputs": [],
   "source": []
  },
  {
   "cell_type": "markdown",
   "id": "14de9b07-3778-43a2-a99f-4361184199f1",
   "metadata": {},
   "source": [
    "Wypisz wszystkie liczby czterocyfrowe, ale tylko te, które dzielą się przez 101 ale nie dzielą się przez 3."
   ]
  },
  {
   "cell_type": "code",
   "execution_count": null,
   "id": "4c14cf74-55e2-4db2-b0da-a81083a9cb27",
   "metadata": {},
   "outputs": [],
   "source": []
  },
  {
   "cell_type": "markdown",
   "id": "c717a8ee-20dc-4478-9092-7e0cb9e447a3",
   "metadata": {},
   "source": [
    "Dana jest lista miast. Stwórz listę `miasta_z_o`, która będzie zawierać jedynie miasta, które zawierają w nazwie literę \"o\"."
   ]
  },
  {
   "cell_type": "code",
   "execution_count": null,
   "id": "6b95b9bf-faf0-4525-9cf6-d380d693f7a6",
   "metadata": {},
   "outputs": [],
   "source": [
    "miasta = ['Pekin', 'Porto', 'Lizbona', 'Katowice', 'Marsylia', 'Pilzno', 'Manchester']"
   ]
  },
  {
   "cell_type": "code",
   "execution_count": null,
   "id": "83b22dbf-4f98-4d5e-81b5-a27faad86a95",
   "metadata": {},
   "outputs": [],
   "source": [
    "miasta_z_o = []\n"
   ]
  },
  {
   "cell_type": "markdown",
   "id": "2afa5f92-7d98-48fe-8cd4-635f27df402d",
   "metadata": {},
   "source": [
    "**Zadanie z gwiazdką**\n",
    "\n",
    "Sprawdź, czy liczba 548648671 jest liczbą pierwszą."
   ]
  },
  {
   "cell_type": "code",
   "execution_count": null,
   "id": "ac96d9d8-20d4-4cbc-819f-0dd4cd6170e0",
   "metadata": {},
   "outputs": [],
   "source": [
    "x = 548648671\n"
   ]
  },
  {
   "cell_type": "markdown",
   "id": "9b71350f-05c9-48b3-8a57-15b274d38e24",
   "metadata": {},
   "source": [
    "**Liczba doskonała**\n",
    "\n",
    "Wyznacz wszystkie liczby doskonałe mniejsze od 10000.\n",
    "\n",
    "> liczba doskonała - liczba naturalna, która jest sumą wszystkich swych dzielników właściwych (to znaczy od niej mniejszych)"
   ]
  },
  {
   "cell_type": "code",
   "execution_count": null,
   "id": "664de693-d507-4395-8341-cc4de79f795b",
   "metadata": {},
   "outputs": [],
   "source": []
  },
  {
   "cell_type": "markdown",
   "id": "2be615a2-215b-4734-9309-40aebe2cebc8",
   "metadata": {},
   "source": [
    "**Dzielenie przez 7**\n",
    "\n",
    "https://www.youtube.com/watch?v=UDQjn_-pDSs\n",
    "\n",
    "Sprawdzić, czy algorytm działa dla każdej liczby mniej od 10000."
   ]
  },
  {
   "cell_type": "markdown",
   "id": "f9e2570b-27f0-4e86-96c0-7dac1b982488",
   "metadata": {},
   "source": [
    "# Funkcje"
   ]
  },
  {
   "cell_type": "markdown",
   "id": "b6bdb920-00d7-4dc8-a064-5ab97b1655e9",
   "metadata": {},
   "source": [
    "## Pierwszy znak\n",
    "\n",
    "Napisz funkcję zwracającą pierwszy znak z podanego argumentu."
   ]
  },
  {
   "cell_type": "code",
   "execution_count": null,
   "id": "849641c2-4aaa-426a-b303-d7d9f17bf576",
   "metadata": {},
   "outputs": [],
   "source": []
  },
  {
   "cell_type": "markdown",
   "id": "59c63c32-87cd-45b6-92c9-a2d459ec3672",
   "metadata": {},
   "source": [
    "## Pierwsze znaki\n",
    "\n",
    "Napisz funkcję zwracającą n pierwszych znaków (domyślnie n=1)"
   ]
  },
  {
   "cell_type": "code",
   "execution_count": null,
   "id": "d4252468-e72d-4c4e-af8a-b0439afc1723",
   "metadata": {},
   "outputs": [],
   "source": []
  },
  {
   "cell_type": "markdown",
   "id": "454a0cd8-c821-4790-9394-98d473f87c10",
   "metadata": {},
   "source": [
    "## Średnia\n",
    "\n",
    "Napisz funkcję, która będzie przyjmować jako argument listę i policzy jej średnią. Stwórz przykładową listę i sprawdź działanie funkcji."
   ]
  },
  {
   "cell_type": "code",
   "execution_count": null,
   "id": "5e63fcd6-9792-4b48-97f9-83abcbd0c133",
   "metadata": {},
   "outputs": [],
   "source": []
  },
  {
   "cell_type": "markdown",
   "id": "bb79cca8-9332-4926-a65d-bb333e83c17c",
   "metadata": {},
   "source": [
    "## Mediana\n",
    "\n",
    "Napisz funkcję, która będzie przyjmować jako argument listę i policzy jej średnią. Stwórz przykładową listę i sprawdź działanie funkcji."
   ]
  },
  {
   "cell_type": "code",
   "execution_count": null,
   "id": "bebc5d00-f600-4d67-abff-35feb7dd918d",
   "metadata": {},
   "outputs": [],
   "source": []
  },
  {
   "cell_type": "markdown",
   "id": "4cb4a797-a11b-40a5-988d-d99ffbb5521c",
   "metadata": {},
   "source": [
    "## Suma liczb naturalnych\n",
    "\n",
    "Napisz funkcję zwracającą sumę n pierwszych liczb naturalnych."
   ]
  },
  {
   "cell_type": "code",
   "execution_count": null,
   "id": "6e826c5f-cb37-4ae9-9da5-ac6bdf3affea",
   "metadata": {},
   "outputs": [],
   "source": []
  },
  {
   "cell_type": "markdown",
   "id": "362e5898-0976-49f0-ae84-de95300d7d78",
   "metadata": {},
   "source": [
    "## Czy doskonała\n",
    "\n",
    "Napisz funkcję, która będzie sprawdzać, czy podana liczba jest liczbą doskonałą."
   ]
  },
  {
   "cell_type": "code",
   "execution_count": null,
   "id": "7b82309c-4098-47c6-bada-2422e8d22694",
   "metadata": {},
   "outputs": [],
   "source": []
  },
  {
   "cell_type": "markdown",
   "id": "c7688edf-5fdc-4272-8475-d39b5c27f8e6",
   "metadata": {},
   "source": [
    "## Ile dni w roku\n",
    "\n",
    "Napisz funkcję, która przyjmować będzie rok a zwracać liczbę dni w tym roku.\n",
    "\n",
    "**Kiedy jest rok przestępny?**\n",
    "\n",
    "* jest podzielny przez 4 i niepodzielny przez 100 lub\n",
    "* jest podzielny przez 400"
   ]
  },
  {
   "cell_type": "code",
   "execution_count": null,
   "id": "c0c34185-f2b8-4bd2-8532-81540de184d7",
   "metadata": {},
   "outputs": [],
   "source": []
  },
  {
   "cell_type": "markdown",
   "id": "0038a04c-b8b5-46ca-9c27-2f0a63189dd4",
   "metadata": {},
   "source": [
    "## Unikatowe wartości\n",
    "\n",
    "Napisz funkcję, która będzie przyjmować w argumencie listę a zwracać będzie krotkę z unikatowymi elementami danej listy."
   ]
  },
  {
   "cell_type": "code",
   "execution_count": null,
   "id": "44dc0331-6c7f-4de1-9f78-24e4f80e5663",
   "metadata": {},
   "outputs": [],
   "source": []
  },
  {
   "cell_type": "markdown",
   "id": "691cd1b5-23c5-4c02-a5b6-5818f9600730",
   "metadata": {},
   "source": [
    "## Papier, kamień, nożyce\n",
    "\n",
    "Napisz funkcję, która będzie roztrzygać, kto jest zwycięzcą pojedynku w papier kamień, nożyce."
   ]
  },
  {
   "cell_type": "code",
   "execution_count": null,
   "id": "74db82ab-fb49-45bb-822e-557b884721d9",
   "metadata": {},
   "outputs": [],
   "source": [
    "gracz1 = 'papier'\n",
    "gracz2 = 'kamień'\n",
    "\n",
    "def pkn(gracz1, gracz2):\n",
    "    # tutaj kod\n",
    "    \n",
    "\n",
    "pkn(gracz1, gracz2)"
   ]
  },
  {
   "cell_type": "markdown",
   "id": "051e896f-bf5d-4b54-ac76-5bd6c44fd58c",
   "metadata": {},
   "source": [
    "## Zliczanie powtórzeń\n",
    "\n",
    "Napisz funkcję, która będzie przyjmować listę i będzie zwracać słownik, gdzie kluczami będą elementy listy, a wartościami będzie liczba powtórzeń elementu w liście."
   ]
  },
  {
   "cell_type": "code",
   "execution_count": null,
   "id": "6791b9df-5c3e-4d9d-b5fb-2ee833a5e3bf",
   "metadata": {},
   "outputs": [],
   "source": []
  },
  {
   "cell_type": "markdown",
   "id": "78e175e2-d7d7-4f25-8765-d663d09ae6d5",
   "metadata": {},
   "source": [
    "## Zliczanie typów\n",
    "\n",
    "Napisz funkcję, która będzie przyjmować listę i będzie zwracać słownik, gdzie kluczami będą typy elementów listy, a wartościami będzie liczba powtórzeń tych typów w liście."
   ]
  },
  {
   "cell_type": "code",
   "execution_count": null,
   "id": "06b99a78-78b9-424c-9f05-96d1aeae9f86",
   "metadata": {},
   "outputs": [],
   "source": []
  },
  {
   "cell_type": "markdown",
   "id": "ed5df17f-bced-4466-b965-2821e9173fed",
   "metadata": {},
   "source": [
    "## Macierz jednostkowa\n",
    "\n",
    "Napisz funkcję która zwróci macierz (w tym wypadku listę, w której będą listy odzwierciedlające wiersze macierzy) jednostkową o podanym wymiarze.\n",
    "\n",
    "Na przyklad:\n",
    "\n",
    "Wywołanie `macierz_jednostkowa(3)` powinna zwrócić taki wynik:\n",
    "\n",
    "```python\n",
    "[[1, 0, 0], [0, 1, 0], [0, 0, 1]]\n",
    "```"
   ]
  },
  {
   "cell_type": "code",
   "execution_count": null,
   "id": "71af412c-a794-4208-b729-a5227beb402c",
   "metadata": {},
   "outputs": [],
   "source": []
  },
  {
   "cell_type": "markdown",
   "id": "5c0e3960-66ae-4bbb-a6ca-927c550af6df",
   "metadata": {},
   "source": [
    "## Usuń parzyste\n",
    "\n",
    "Napisz funkcję, któraprzyjmie jako parametr listę liczb, a zwróci listę z usuniętymi liczbami parzystymi."
   ]
  },
  {
   "cell_type": "code",
   "execution_count": null,
   "id": "37e8452e-5810-4ad8-b457-c397abe9dc56",
   "metadata": {},
   "outputs": [],
   "source": []
  },
  {
   "cell_type": "markdown",
   "id": "12b7247e-ae32-4a40-b064-f1f5c8a11d8c",
   "metadata": {},
   "source": [
    "## Podsumowanie\n",
    "\n",
    "Nalezy napisać funkcje, ktora będzie zwracać z listy int-ow:\n",
    "\n",
    "* dlugosc listy\n",
    "* sume jej wartosci\n",
    "* najwyzsza wartosc\n",
    "* pierwszy i ostatni element"
   ]
  },
  {
   "cell_type": "code",
   "execution_count": null,
   "id": "2946de88-665e-4941-9176-81d8f32dba10",
   "metadata": {},
   "outputs": [],
   "source": []
  },
  {
   "cell_type": "markdown",
   "id": "56a6c4f5-95a2-4b25-8a2c-4c32fe82c0dd",
   "metadata": {},
   "source": [
    "## EVEN ODD\n",
    "\n",
    "Napisz funkcję o nazwie show_numbers, która przyjmuje parametr o nazwie limit. Powinien wydrukować wszystkie liczby od 0 do limitu z etykietą, aby zidentyfikować liczby parzyste i nieparzyste. Na przykład, jeśli limit wynosi 3, powinien wydrukować:\n",
    "<br> 0 EVEN\n",
    "<br> 1 ODD \n",
    "<br> 2 EVEN \n",
    "<br> 3 ODD"
   ]
  },
  {
   "cell_type": "code",
   "execution_count": null,
   "id": "729e4a6f-b55e-4bd2-8fa6-7d1b6770e948",
   "metadata": {},
   "outputs": [],
   "source": []
  },
  {
   "cell_type": "markdown",
   "id": "9da001e6-e344-4625-ac3c-7dc61dfbae9e",
   "metadata": {},
   "source": [
    "## Słownik kwadratów\n",
    "\n",
    "Napisz funkcję, która ma przyjąć paramatr limit i ma drukować słownik, w którym klucze są liczbami, a wartości są kwadratami tych kluczy."
   ]
  },
  {
   "cell_type": "code",
   "execution_count": null,
   "id": "89fe3f49-11bc-46dc-971c-5ea66f26ee5d",
   "metadata": {},
   "outputs": [],
   "source": []
  },
  {
   "cell_type": "markdown",
   "id": "b3ca674d-7e87-4be7-a840-db7cd5ccfb89",
   "metadata": {},
   "source": [
    "## Tabliczka mnożenia"
   ]
  },
  {
   "cell_type": "markdown",
   "id": "1874980a-5960-4660-8923-56fba6a62eda",
   "metadata": {},
   "source": [
    "Napisz pętlę, która wyświetli, po podaniu liczby, tabliczkę mnożenia.\n",
    "<br> Przykładowo:\n",
    "<br> \n",
    "<br>`tab_mnozenia(6)`\n",
    "<br>6x1 = 6\n",
    "<br>6x2 = 12\n",
    "<br>6x3 = 18\n",
    "<br>6x4 = 24\n",
    "<br>6x5 = 30\n",
    "<br>6x6 = 36\n",
    "<br>6x7 = 42\n",
    "<br>6x8 = 48\n",
    "<br>6x9 = 54\n",
    "<br>6x10 = 60"
   ]
  },
  {
   "cell_type": "code",
   "execution_count": null,
   "id": "961607ce-2176-4377-af3f-8123670b4508",
   "metadata": {},
   "outputs": [],
   "source": []
  },
  {
   "cell_type": "markdown",
   "id": "d0d2c2dc-b99e-491b-a088-3adf47e99c6e",
   "metadata": {},
   "source": [
    "# Ćwiczenia"
   ]
  },
  {
   "cell_type": "markdown",
   "id": "08d45bc5-2b40-4c5d-9b13-d42506cff93c",
   "metadata": {},
   "source": [
    "Proszę za pomocą pętli i instrukcji if wyświetlić następujący ciąg:\n",
    "<br> 1\n",
    "<br> 2\n",
    "<br> 3\n",
    "<br> 4\n",
    "<br> Znalazłem 5! \n",
    "<br> 6\n",
    "<br> 7"
   ]
  },
  {
   "cell_type": "code",
   "execution_count": null,
   "id": "15c9d83d-76a7-4d08-821d-5ec64eda262e",
   "metadata": {},
   "outputs": [],
   "source": []
  },
  {
   "cell_type": "markdown",
   "id": "6861d9d4-a117-475e-b8af-6447b8ee2901",
   "metadata": {},
   "source": [
    "Za pomoca petli wydrukuj nastepujacy wzorzec:\n",
    "\n",
    "```\n",
    "1\n",
    "22\n",
    "333\n",
    "4444\n",
    "55555\n",
    "666666\n",
    "7777777\n",
    "88888888\n",
    "999999999\n",
    "```"
   ]
  },
  {
   "cell_type": "code",
   "execution_count": null,
   "id": "591e3b29-f159-4e8d-b046-5653acf6cd4d",
   "metadata": {},
   "outputs": [],
   "source": []
  },
  {
   "cell_type": "markdown",
   "id": "7e1a2718-f317-4aa5-b43f-3a4af45958b9",
   "metadata": {},
   "source": [
    "treepersqkm to słownik pokazujący liczbę drzew na metr kwadratowy w wybranych krajach. Napisz instrukcje if, która zwraca listę nazw krajów z ponad 20 000 drzew na kilometr kwadratowy."
   ]
  },
  {
   "cell_type": "code",
   "execution_count": 41,
   "id": "ed0afabe-827a-4531-8b17-2f1fc87a07c5",
   "metadata": {},
   "outputs": [],
   "source": [
    "treepersqkm = {\n",
    "    \"Finland\": 90652, \"Taiwan\": 69593,\n",
    "    \"Japan\": 49894, \"Russia\": 41396,\n",
    "    \"Brazil\": 39542, \"Canada\": 36388,\n",
    "    \"Bulgaria\": 24987, \"France\": 24436,\n",
    "    \"Greece\": 24323, \"United States\": 23513,\n",
    "    \"Turkey\": 11126, \"India\": 11109,\n",
    "    \"Denmark\": 6129, \"Syria\": 534,\n",
    "    \"Saudi Arabia\": 1\n",
    "}"
   ]
  },
  {
   "cell_type": "code",
   "execution_count": null,
   "id": "ee73ea4f-0af2-4869-8b22-38d9095aa93a",
   "metadata": {},
   "outputs": [],
   "source": []
  },
  {
   "cell_type": "code",
   "execution_count": null,
   "id": "93a50b02-cfd5-41a6-a065-31fdf0a5bba1",
   "metadata": {},
   "outputs": [],
   "source": []
  },
  {
   "cell_type": "code",
   "execution_count": 29,
   "id": "a08fdb46-27e8-4731-98a3-4b3eba9883db",
   "metadata": {},
   "outputs": [],
   "source": [
    "import random # biblioteka dająca opcje losowania wartości"
   ]
  },
  {
   "cell_type": "code",
   "execution_count": 30,
   "id": "9bbfba80-9c03-4078-92f4-db1f5d1f416d",
   "metadata": {},
   "outputs": [
    {
     "data": {
      "text/plain": [
       "0.38707740113410727"
      ]
     },
     "execution_count": 30,
     "metadata": {},
     "output_type": "execute_result"
    }
   ],
   "source": [
    "random.random() # losowa wartość z przedziału 0 do 1"
   ]
  },
  {
   "cell_type": "code",
   "execution_count": 31,
   "id": "9a18eb97-ca28-462e-b50e-ec5178a9819e",
   "metadata": {},
   "outputs": [
    {
     "data": {
      "text/plain": [
       "76.51378502683791"
      ]
     },
     "execution_count": 31,
     "metadata": {},
     "output_type": "execute_result"
    }
   ],
   "source": [
    "random.uniform(56, 81) # losowa wartość z podanego zakresu  "
   ]
  },
  {
   "cell_type": "code",
   "execution_count": 33,
   "id": "085c2214-ab52-46d6-8ce2-3fa97da820ec",
   "metadata": {},
   "outputs": [
    {
     "data": {
      "text/plain": [
       "5"
      ]
     },
     "execution_count": 33,
     "metadata": {},
     "output_type": "execute_result"
    }
   ],
   "source": [
    "random.randint(5, 8) # losowa wartość całkowita z zakresu"
   ]
  },
  {
   "cell_type": "markdown",
   "id": "464a986c-9a14-4159-a77e-30b4810a8208",
   "metadata": {},
   "source": [
    "## Zgadnij liczbę\n",
    "\n",
    "Napisz program w którym użytkownik będzie musiał odgadnąć wylosowaną liczbę z podanego zakresu. Użytkownik powinien dostać informacje czy podana przez niego liczba jest większa, mniejsza czy równa wylosowanej. Użytkownik powinien próbować tak długo, aż zgadnie. Na końcu powinien też zobacz liczbę swoich prób.\n",
    "\n",
    "przydatne funkcje: `input`, `int`, `random.randint`"
   ]
  },
  {
   "cell_type": "markdown",
   "id": "bf9ca1b6-b5fc-4361-ba74-4a79b3d6eb5e",
   "metadata": {},
   "source": [
    "## Wisielec\n",
    "\n",
    "Napisz funkcję, która będzie imitować grę w wisielca."
   ]
  },
  {
   "cell_type": "code",
   "execution_count": null,
   "id": "8381c3d8-efea-49a4-b7cb-35b31a5b8a65",
   "metadata": {},
   "outputs": [],
   "source": []
  }
 ],
 "metadata": {
  "kernelspec": {
   "display_name": "Python 3 (ipykernel)",
   "language": "python",
   "name": "python3"
  },
  "language_info": {
   "codemirror_mode": {
    "name": "ipython",
    "version": 3
   },
   "file_extension": ".py",
   "mimetype": "text/x-python",
   "name": "python",
   "nbconvert_exporter": "python",
   "pygments_lexer": "ipython3",
   "version": "3.9.12"
  },
  "toc-autonumbering": true
 },
 "nbformat": 4,
 "nbformat_minor": 5
}
