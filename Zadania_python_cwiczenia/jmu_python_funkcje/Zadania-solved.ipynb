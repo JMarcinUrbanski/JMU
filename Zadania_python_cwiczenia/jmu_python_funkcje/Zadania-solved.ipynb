{
 "cells": [
  {
   "cell_type": "markdown",
   "id": "1caa720f-8fb7-4408-b78c-f889d7d76a66",
   "metadata": {},
   "source": [
    "# Typy skalarne"
   ]
  },
  {
   "cell_type": "markdown",
   "id": "60f7653b-10f7-447c-9e67-080439157bfc",
   "metadata": {},
   "source": [
    "## Prostokąt\n",
    "\n",
    "Dany jest prostokąt o wymiarach 2.5x7. Oblicz jego pole i obwód."
   ]
  },
  {
   "cell_type": "code",
   "execution_count": 1,
   "id": "0fcad723-f51d-4181-83d6-54e5ba50333e",
   "metadata": {},
   "outputs": [
    {
     "name": "stdout",
     "output_type": "stream",
     "text": [
      "Pole = 17.5\n",
      "Obwód = 19.0\n"
     ]
    }
   ],
   "source": [
    "x = 2.5\n",
    "y = 7\n",
    "\n",
    "pole = x*y\n",
    "obwod = 2*(x+y)\n",
    "\n",
    "print('Pole =', pole)\n",
    "print('Obwód =', obwod)"
   ]
  },
  {
   "cell_type": "markdown",
   "id": "6e69acc2-89de-4d7c-a3d2-f3474b1d074b",
   "metadata": {},
   "source": [
    "## Efektywność pracy\n",
    "\n",
    "Firmy `A` i `B` zajmują się produkcją nakrętek.\n",
    "\n",
    "Firma `A` zatrudnia 120 pracowników i dziennie produkuje 10426 nakrętek.\n",
    "\n",
    "Firma `B` zatrudnia 156 pracowników i dziennie produkuje 13721 nakrętek.\n",
    "\n",
    "W której firmie pracownicy pracują efektywniej?"
   ]
  },
  {
   "cell_type": "code",
   "execution_count": 2,
   "id": "71dc7fe5-3375-4305-a865-e8f3f6b598d5",
   "metadata": {},
   "outputs": [
    {
     "name": "stdout",
     "output_type": "stream",
     "text": [
      "Efektywność firmy A: 86.88333333333334\n",
      "Efektywność firmy B: 114.34166666666667\n"
     ]
    }
   ],
   "source": [
    "pracownicy_A = 120\n",
    "pracownicy_B = 156\n",
    "\n",
    "nakretki_A = 10426\n",
    "nakretki_B = 13721\n",
    "\n",
    "efektywnosc_A = nakretki_A / pracownicy_A\n",
    "efektywnosc_B = nakretki_B / pracownicy_A\n",
    "\n",
    "print('Efektywność firmy A:', efektywnosc_A)\n",
    "print('Efektywność firmy B:', efektywnosc_B)"
   ]
  },
  {
   "cell_type": "markdown",
   "id": "d033422f-7bf4-4097-8c8b-bc2f12ed56d5",
   "metadata": {},
   "source": [
    "536 nakrętek wyprodukowanych przez firmę `A` w ciągu dnia jest wadliwych.\n",
    "\n",
    "580 nakrętek wyprodukowanych przez firmę `B` w ciągu dnia jest wadliwych.\n",
    "\n",
    "Nakrętkę której firmy powinien kupić klient, żeby mieć większą pewność, że kupiona nakrętka nie będzie wadliwa?"
   ]
  },
  {
   "cell_type": "code",
   "execution_count": 3,
   "id": "047bb334-c5db-4214-8a37-282e126a2eec",
   "metadata": {},
   "outputs": [
    {
     "name": "stdout",
     "output_type": "stream",
     "text": [
      "Procent dobrych nakretek firmy A: 0.9485900633032802\n",
      "Procent dobrych nakretek firmy B: 0.9577290284964652\n"
     ]
    }
   ],
   "source": [
    "wadliwe_nakretki_A = 536\n",
    "wadliwe_nakretki_B = 580\n",
    "dobre_nakretki_pct_A = ( nakretki_A - wadliwe_nakretki_A ) / nakretki_A\n",
    "dobre_nakretki_pct_B = ( nakretki_B - wadliwe_nakretki_B ) / nakretki_B\n",
    "\n",
    "print('Procent dobrych nakretek firmy A:', dobre_nakretki_pct_A)\n",
    "print('Procent dobrych nakretek firmy B:', dobre_nakretki_pct_B)"
   ]
  },
  {
   "cell_type": "markdown",
   "id": "a9a918f1-491b-4fe3-916f-1948f6dbb695",
   "metadata": {},
   "source": [
    "Pracownik której firmy produkuje dziennie mniej wadliwych nakrętek?"
   ]
  },
  {
   "cell_type": "code",
   "execution_count": 4,
   "id": "d431c531-9b49-47d2-a112-e6aafbeff9d5",
   "metadata": {},
   "outputs": [
    {
     "name": "stdout",
     "output_type": "stream",
     "text": [
      "Liczba wadliwych nakrętek na pracownika firmy A: 4.466666666666667\n",
      "Liczba wadliwych nakrętek na pracownika firmy B: 3.4358974358974357\n"
     ]
    }
   ],
   "source": [
    "wadliwe_nakretki_pracownik_A = wadliwe_nakretki_A / pracownicy_A\n",
    "wadliwe_nakretki_pracownik_B = wadliwe_nakretki_A / pracownicy_B\n",
    "\n",
    "print('Liczba wadliwych nakrętek na pracownika firmy A:', wadliwe_nakretki_pracownik_A)\n",
    "print('Liczba wadliwych nakrętek na pracownika firmy B:', wadliwe_nakretki_pracownik_B)\n"
   ]
  },
  {
   "cell_type": "markdown",
   "id": "0c878f9f-23ca-4a6a-94c6-5784193b274d",
   "metadata": {},
   "source": [
    "## Komunikat\n",
    "\n",
    "Wyświetl komunikat dla prezesa, z którego dowie się jaki przychód uzyskała firma z podanego regionu.\n",
    "\n",
    "oczekiwany wynik:\n",
    "\n",
    "> Prezesie Smith!\n",
    ">\n",
    "> Oddział XYZ uzyskał przychód 1500 EUR."
   ]
  },
  {
   "cell_type": "code",
   "execution_count": 5,
   "id": "1b9e0e75-330e-4ee4-8ded-bfaead307c85",
   "metadata": {},
   "outputs": [
    {
     "name": "stdout",
     "output_type": "stream",
     "text": [
      "\n",
      "Prezesie Smith!\n",
      "\n",
      "Oddział XYZ uzyskał przychód 1500 EUR.\n",
      "\n"
     ]
    }
   ],
   "source": [
    "nazwisko_prezesa = 'Smith'\n",
    "\n",
    "oddzial = 'XYZ'\n",
    "kwota = 1500\n",
    "waluta = 'EUR'\n",
    "\n",
    "komunikat = f'''\n",
    "Prezesie {nazwisko_prezesa}!\n",
    "\n",
    "Oddział {oddzial} uzyskał przychód {kwota} {waluta}.\n",
    "'''\n",
    "\n",
    "print(komunikat)"
   ]
  },
  {
   "cell_type": "markdown",
   "id": "87c513e3-60a6-4040-a469-ebc046143d43",
   "metadata": {},
   "source": [
    "## Logika\n",
    "\n",
    "Sprawdź poniższe warunki."
   ]
  },
  {
   "cell_type": "code",
   "execution_count": 6,
   "id": "5803c234-e85f-43b0-bef6-8976150e4e6a",
   "metadata": {},
   "outputs": [],
   "source": [
    "a = 12\n",
    "b = -23\n",
    "c = 1.0\n",
    "d = '12'\n",
    "e = False"
   ]
  },
  {
   "cell_type": "markdown",
   "id": "d9525850-13e7-4178-af9a-2d15b0fe25a3",
   "metadata": {},
   "source": [
    "Czy `a` i `b` są ujemne?"
   ]
  },
  {
   "cell_type": "code",
   "execution_count": 7,
   "id": "2311b729-9f2b-4fc3-ab9b-f2a567ddaaf3",
   "metadata": {},
   "outputs": [
    {
     "data": {
      "text/plain": [
       "False"
      ]
     },
     "execution_count": 7,
     "metadata": {},
     "output_type": "execute_result"
    }
   ],
   "source": [
    "(a < 0) and (b < 0)"
   ]
  },
  {
   "cell_type": "markdown",
   "id": "2a8b41fb-52e2-459c-ba7a-46f6b57276fe",
   "metadata": {},
   "source": [
    "Czy `a` jest równe `d`?"
   ]
  },
  {
   "cell_type": "code",
   "execution_count": 8,
   "id": "2ea51a37-4b2c-471c-9bb2-18dad1e7125a",
   "metadata": {},
   "outputs": [
    {
     "data": {
      "text/plain": [
       "False"
      ]
     },
     "execution_count": 8,
     "metadata": {},
     "output_type": "execute_result"
    }
   ],
   "source": [
    "a == d"
   ]
  },
  {
   "cell_type": "markdown",
   "id": "7f44447a-34fa-4617-9633-7e001e4ca503",
   "metadata": {},
   "source": [
    "Czy `a` albo `c` jest ujemne?"
   ]
  },
  {
   "cell_type": "code",
   "execution_count": 9,
   "id": "2d57ee75-095d-42b1-8e68-168283864df0",
   "metadata": {},
   "outputs": [
    {
     "data": {
      "text/plain": [
       "False"
      ]
     },
     "execution_count": 9,
     "metadata": {},
     "output_type": "execute_result"
    }
   ],
   "source": [
    "(a < 0) or (c < 0)"
   ]
  },
  {
   "cell_type": "markdown",
   "id": "b8c63aee-f770-479e-9038-1ff1da25deba",
   "metadata": {},
   "source": [
    "Czy prawdą jest, że zaprzeczenie `e` jest fałszem?"
   ]
  },
  {
   "cell_type": "code",
   "execution_count": 10,
   "id": "003b3dc8-7022-4baa-87ab-51f49093cf2f",
   "metadata": {},
   "outputs": [
    {
     "data": {
      "text/plain": [
       "False"
      ]
     },
     "execution_count": 10,
     "metadata": {},
     "output_type": "execute_result"
    }
   ],
   "source": [
    "not (not e)\n",
    "# (not e) == False"
   ]
  },
  {
   "cell_type": "markdown",
   "id": "f181f895-040f-4c86-8ea3-f5756a9faa26",
   "metadata": {},
   "source": [
    "**Zadanie z gwiazdką.**\n",
    "\n",
    "Napisz w Pythonie prawo rozdzielności alternatywy względem koniunkcji.\n",
    "\n",
    "$$ p \\lor (q \\land r) \\Leftrightarrow (p \\lor q) \\land (p \\lor r) $$\n",
    "\n",
    "* $\\lor$ - alternatywa - `or`\n",
    "* $\\land$ - koniunkcja - `and`\n",
    "\n",
    "> Przykład:\n",
    "\n",
    "> Prawo podwójnego zaprzeczenia\n",
    "\n",
    "$$ \\neg ( \\neg p ) \\Leftrightarrow p $$\n",
    "\n",
    "\n",
    "```python\n",
    "not (not p) == p\n",
    "```"
   ]
  },
  {
   "cell_type": "code",
   "execution_count": 11,
   "id": "9e4492d0-f3aa-4353-9307-af1d7cf8a1fe",
   "metadata": {},
   "outputs": [
    {
     "data": {
      "text/plain": [
       "True"
      ]
     },
     "execution_count": 11,
     "metadata": {},
     "output_type": "execute_result"
    }
   ],
   "source": [
    "p = True #or False\n",
    "q = True #or False\n",
    "r = True #or False\n",
    "\n",
    "( p or (q and r) ) == ( (p or q) and (p or r) )"
   ]
  },
  {
   "cell_type": "markdown",
   "id": "9fcc26f8-6ff2-4fe6-a520-280b11fda3d7",
   "metadata": {},
   "source": [
    "# Typy sekwencyjne"
   ]
  },
  {
   "cell_type": "markdown",
   "id": "4966fba4-e350-402a-8905-52e8559e69ff",
   "metadata": {},
   "source": [
    "## Kraje\n",
    "\n",
    "Dana jest lista krajów."
   ]
  },
  {
   "cell_type": "code",
   "execution_count": 12,
   "id": "206eb2c4-64fa-4b55-ab74-df545ba366a8",
   "metadata": {},
   "outputs": [],
   "source": [
    "kraje = ['Polska', 'Niemcy', 'Francja', 'Włochy', 'Brazylia', 'Japonia']"
   ]
  },
  {
   "cell_type": "markdown",
   "id": "84361667-f5c0-4c32-af7e-7349ccf8b6ca",
   "metadata": {},
   "source": [
    "Podaj liczbę krajów."
   ]
  },
  {
   "cell_type": "code",
   "execution_count": 13,
   "id": "484855a3-82bd-4892-8495-8075d565ba9d",
   "metadata": {},
   "outputs": [
    {
     "data": {
      "text/plain": [
       "6"
      ]
     },
     "execution_count": 13,
     "metadata": {},
     "output_type": "execute_result"
    }
   ],
   "source": [
    "len(kraje)"
   ]
  },
  {
   "cell_type": "markdown",
   "id": "0566f4d5-dd3d-4e71-a06b-69cfbcc14057",
   "metadata": {},
   "source": [
    "Dodaj do listy USA."
   ]
  },
  {
   "cell_type": "code",
   "execution_count": 14,
   "id": "a8189583-4002-418f-956e-dee20d7dbbd2",
   "metadata": {},
   "outputs": [
    {
     "data": {
      "text/plain": [
       "['Polska', 'Niemcy', 'Francja', 'Włochy', 'Brazylia', 'Japonia', 'USA']"
      ]
     },
     "execution_count": 14,
     "metadata": {},
     "output_type": "execute_result"
    }
   ],
   "source": [
    "kraje.append('USA')\n",
    "kraje"
   ]
  },
  {
   "cell_type": "markdown",
   "id": "c23bd1be-3cef-4426-bb1d-c8ca0717e549",
   "metadata": {},
   "source": [
    "Posortuj listę alfabetycznie."
   ]
  },
  {
   "cell_type": "code",
   "execution_count": 15,
   "id": "b4cfbc8e-a19b-4f60-b82a-602d7f5c4a38",
   "metadata": {},
   "outputs": [
    {
     "data": {
      "text/plain": [
       "['Brazylia', 'Francja', 'Japonia', 'Niemcy', 'Polska', 'USA', 'Włochy']"
      ]
     },
     "execution_count": 15,
     "metadata": {},
     "output_type": "execute_result"
    }
   ],
   "source": [
    "kraje.sort()\n",
    "kraje"
   ]
  },
  {
   "cell_type": "markdown",
   "id": "cc550b95-96db-4c11-9c66-0216935d2e39",
   "metadata": {},
   "source": [
    "Wskaż dwa pierwsze elementy."
   ]
  },
  {
   "cell_type": "code",
   "execution_count": 16,
   "id": "f510e75e-a3e0-4f63-8da5-3c492285d46d",
   "metadata": {},
   "outputs": [
    {
     "data": {
      "text/plain": [
       "['Brazylia', 'Francja']"
      ]
     },
     "execution_count": 16,
     "metadata": {},
     "output_type": "execute_result"
    }
   ],
   "source": [
    "kraje[:2]"
   ]
  },
  {
   "cell_type": "markdown",
   "id": "06c0c990-16ed-4483-84bc-c671d4d96866",
   "metadata": {},
   "source": [
    "Wskaż ostatni element."
   ]
  },
  {
   "cell_type": "code",
   "execution_count": 17,
   "id": "23e36351-c6ff-449c-9392-305c2ea9d450",
   "metadata": {},
   "outputs": [
    {
     "data": {
      "text/plain": [
       "'Włochy'"
      ]
     },
     "execution_count": 17,
     "metadata": {},
     "output_type": "execute_result"
    }
   ],
   "source": [
    "kraje[-1]"
   ]
  },
  {
   "cell_type": "markdown",
   "id": "46e107c6-ef4f-4562-ad5a-0b4fe5549bb8",
   "metadata": {},
   "source": [
    "Sprawdź, czy na liście jest Kanada."
   ]
  },
  {
   "cell_type": "code",
   "execution_count": 18,
   "id": "b600fa64-81d4-4f03-8928-67b270006c4b",
   "metadata": {},
   "outputs": [
    {
     "data": {
      "text/plain": [
       "False"
      ]
     },
     "execution_count": 18,
     "metadata": {},
     "output_type": "execute_result"
    }
   ],
   "source": [
    "'Kanada' in kraje"
   ]
  },
  {
   "cell_type": "markdown",
   "id": "fc348eed-e733-468f-a566-818bcbf71143",
   "metadata": {},
   "source": [
    "Dodaj do listy dodatkowe kraje."
   ]
  },
  {
   "cell_type": "code",
   "execution_count": 19,
   "id": "7e868977-472b-46a7-81f9-e4a6be165b6e",
   "metadata": {},
   "outputs": [
    {
     "data": {
      "text/plain": [
       "['Brazylia',\n",
       " 'Francja',\n",
       " 'Japonia',\n",
       " 'Niemcy',\n",
       " 'Polska',\n",
       " 'USA',\n",
       " 'Włochy',\n",
       " 'Litwa',\n",
       " 'Malta']"
      ]
     },
     "execution_count": 19,
     "metadata": {},
     "output_type": "execute_result"
    }
   ],
   "source": [
    "dodatkowe_kraje = ['Litwa', 'Malta']\n",
    "\n",
    "kraje.extend(dodatkowe_kraje)\n",
    "kraje"
   ]
  },
  {
   "cell_type": "markdown",
   "id": "7505991d-7669-4389-b948-134cc9121983",
   "metadata": {},
   "source": [
    "## Miasta\n",
    "\n",
    "Dane jest lista miast."
   ]
  },
  {
   "cell_type": "code",
   "execution_count": 20,
   "id": "186dc1f2-562a-4bbd-b7c9-aafd68f804de",
   "metadata": {},
   "outputs": [],
   "source": [
    "miasta = ['Pekin', 'Porto', 'Lizbona', 'Katowice', 'Marsylia', 'Pilzno', 'Manchester']"
   ]
  },
  {
   "cell_type": "markdown",
   "id": "e39be51b-240e-4fc0-8dbb-6e92605e1df9",
   "metadata": {},
   "source": [
    "Sprawdź, czy jest więcej niż 5 miast."
   ]
  },
  {
   "cell_type": "code",
   "execution_count": 21,
   "id": "8c00517c-b727-4810-b812-f83c40533004",
   "metadata": {},
   "outputs": [
    {
     "data": {
      "text/plain": [
       "True"
      ]
     },
     "execution_count": 21,
     "metadata": {},
     "output_type": "execute_result"
    }
   ],
   "source": [
    "len(miasta) > 5"
   ]
  },
  {
   "cell_type": "markdown",
   "id": "a809e8db-36fc-4e5a-a432-8a424a6bde2a",
   "metadata": {},
   "source": [
    "Dodaj do listy swoje miasto."
   ]
  },
  {
   "cell_type": "code",
   "execution_count": 22,
   "id": "ec88dc72-b8c1-451a-b7e2-9ea483e87422",
   "metadata": {},
   "outputs": [],
   "source": [
    "miasta.append('Moje Miasto')"
   ]
  },
  {
   "cell_type": "markdown",
   "id": "46c71109-f083-4e76-ac76-2c42bfa58f01",
   "metadata": {},
   "source": [
    "Posortuj listę alfabetycznie."
   ]
  },
  {
   "cell_type": "code",
   "execution_count": 23,
   "id": "6caca184-3bff-4daa-896b-b9c54c6190f3",
   "metadata": {},
   "outputs": [],
   "source": [
    "miasta.sort()"
   ]
  },
  {
   "cell_type": "markdown",
   "id": "168daab8-c833-455d-9640-0fc782133107",
   "metadata": {},
   "source": [
    "Wskaż 3 ostatnie miasta."
   ]
  },
  {
   "cell_type": "code",
   "execution_count": 24,
   "id": "cd28f350-ed6a-4b40-8c2b-58b4740cb3e9",
   "metadata": {},
   "outputs": [
    {
     "data": {
      "text/plain": [
       "['Pekin', 'Pilzno', 'Porto']"
      ]
     },
     "execution_count": 24,
     "metadata": {},
     "output_type": "execute_result"
    }
   ],
   "source": [
    "miasta[-3:]"
   ]
  },
  {
   "cell_type": "markdown",
   "id": "a60de683-93c4-43e7-8ef4-fef67d571b27",
   "metadata": {},
   "source": [
    "Dodaj do listy Wilno i Kair."
   ]
  },
  {
   "cell_type": "code",
   "execution_count": 25,
   "id": "2959b0a1-7d93-4029-8654-7534e2e7c2da",
   "metadata": {},
   "outputs": [],
   "source": [
    "miasta.extend(['Wilno', 'Kair'])"
   ]
  },
  {
   "cell_type": "markdown",
   "id": "c23d77ad-2873-4670-a595-bd34cdc6da13",
   "metadata": {},
   "source": [
    "Sprawdź, czy na liście jest Pilzno."
   ]
  },
  {
   "cell_type": "code",
   "execution_count": 26,
   "id": "e13f306e-5d5f-4c0d-acc4-d47f2a663463",
   "metadata": {},
   "outputs": [
    {
     "data": {
      "text/plain": [
       "True"
      ]
     },
     "execution_count": 26,
     "metadata": {},
     "output_type": "execute_result"
    }
   ],
   "source": [
    "'Pilzno' in miasta"
   ]
  },
  {
   "cell_type": "markdown",
   "id": "41953252-6e04-43bc-b81e-985ea0d572e3",
   "metadata": {},
   "source": [
    "## Listy zagnieżdzone\n",
    "\n",
    "Dana jest lista."
   ]
  },
  {
   "cell_type": "code",
   "execution_count": 27,
   "id": "70318ef3-5b8f-46d4-96cf-d0eb9fa657e1",
   "metadata": {},
   "outputs": [],
   "source": [
    "lista = [['jeden'], ['one', 'two'], ['uno', 'due', 'tre'], [1, 2, 3, 5]]"
   ]
  },
  {
   "cell_type": "markdown",
   "id": "e75c88a6-d4a5-472a-8380-454d7a067dec",
   "metadata": {},
   "source": [
    "Wydobądź element 'tre'."
   ]
  },
  {
   "cell_type": "code",
   "execution_count": 28,
   "id": "499e8223-75a3-43c6-9f80-ebdbef36563c",
   "metadata": {},
   "outputs": [
    {
     "data": {
      "text/plain": [
       "'tre'"
      ]
     },
     "execution_count": 28,
     "metadata": {},
     "output_type": "execute_result"
    }
   ],
   "source": [
    "lista[2][2]"
   ]
  },
  {
   "cell_type": "markdown",
   "id": "a03bfd97-e8f2-4c18-a1e0-8c8027d9f539",
   "metadata": {},
   "source": [
    "Nadpisz ostatni element ostatniego elementu listy wartością 4."
   ]
  },
  {
   "cell_type": "code",
   "execution_count": 29,
   "id": "a983f254-a05f-400b-bf2e-5a2b4e3fc4fc",
   "metadata": {},
   "outputs": [
    {
     "data": {
      "text/plain": [
       "[['jeden'], ['one', 'two'], ['uno', 'due', 'tre'], [1, 2, 3, 4]]"
      ]
     },
     "execution_count": 29,
     "metadata": {},
     "output_type": "execute_result"
    }
   ],
   "source": [
    "lista[-1][-1] = 4\n",
    "lista"
   ]
  },
  {
   "cell_type": "markdown",
   "id": "883c78b6-801b-4a4f-b5b9-d132aaa3ad2f",
   "metadata": {},
   "source": [
    "Podaj liczbę elementów trzeciego elementu listy."
   ]
  },
  {
   "cell_type": "code",
   "execution_count": 30,
   "id": "20bdcff9-992f-4cb0-a60c-c7d76ca26707",
   "metadata": {},
   "outputs": [
    {
     "data": {
      "text/plain": [
       "3"
      ]
     },
     "execution_count": 30,
     "metadata": {},
     "output_type": "execute_result"
    }
   ],
   "source": [
    "len(lista[2])"
   ]
  },
  {
   "cell_type": "markdown",
   "id": "10badaad-059c-4c10-ab71-2da9ebfe2dae",
   "metadata": {},
   "source": [
    "## Listy zagnieżdzone 2"
   ]
  },
  {
   "cell_type": "code",
   "execution_count": 31,
   "id": "01b53331-55bc-47e3-99c7-cfcced876018",
   "metadata": {},
   "outputs": [],
   "source": [
    "l = [[14], [], 1, ['a', 'ab' , 'ba']]"
   ]
  },
  {
   "cell_type": "markdown",
   "id": "a83e7a35-d40b-4506-8f95-3a7f021bdc40",
   "metadata": {},
   "source": [
    "Wydobądź element 14"
   ]
  },
  {
   "cell_type": "code",
   "execution_count": 32,
   "id": "05019dc8-ff93-4a4f-9f47-7d316f65b0a3",
   "metadata": {},
   "outputs": [
    {
     "data": {
      "text/plain": [
       "14"
      ]
     },
     "execution_count": 32,
     "metadata": {},
     "output_type": "execute_result"
    }
   ],
   "source": [
    "l[0][0]"
   ]
  },
  {
   "cell_type": "markdown",
   "id": "91f205e1-b93a-4496-bb8c-6dd48a5fddf6",
   "metadata": {},
   "source": [
    "Sprawdź jakiego typu danych jest drugi element czwartego elementu listy."
   ]
  },
  {
   "cell_type": "code",
   "execution_count": 33,
   "id": "854bfabf-1245-4120-9755-ac4d7c674a97",
   "metadata": {},
   "outputs": [
    {
     "data": {
      "text/plain": [
       "str"
      ]
     },
     "execution_count": 33,
     "metadata": {},
     "output_type": "execute_result"
    }
   ],
   "source": [
    "type(l[3][1])"
   ]
  },
  {
   "cell_type": "markdown",
   "id": "89bc88a3-bb0f-4b5f-bfa1-f66561c815fc",
   "metadata": {},
   "source": [
    "Dodaj element (swoje imię) do drugiego elementu listy. (obecnie jest tam pusta lista)."
   ]
  },
  {
   "cell_type": "code",
   "execution_count": 34,
   "id": "4c3d4e44-e403-4dc5-a224-438486aef8cd",
   "metadata": {},
   "outputs": [
    {
     "data": {
      "text/plain": [
       "[[14], ['Moje imię'], 1, ['a', 'ab', 'ba']]"
      ]
     },
     "execution_count": 34,
     "metadata": {},
     "output_type": "execute_result"
    }
   ],
   "source": [
    "l[1].append(\"Moje imię\")\n",
    "l"
   ]
  },
  {
   "cell_type": "markdown",
   "id": "cfae7516-8636-486d-8fca-4d08920fcd2f",
   "metadata": {},
   "source": [
    "## Liczby pierwsze\n",
    "\n",
    "Dana jest kolekcja (w tym przypadku krotka) zawierająca kilka początkowych liczb pierwszych."
   ]
  },
  {
   "cell_type": "code",
   "execution_count": 35,
   "id": "cb31ea6a-db47-486e-b185-7083a643c086",
   "metadata": {},
   "outputs": [],
   "source": [
    "prime = (2, 3, 5, 7, 11, 13, 17, 19, 23, 29, 31, 37, 41, 43, 47, 53, 59)"
   ]
  },
  {
   "cell_type": "markdown",
   "id": "b80f5ce4-a12c-4179-bdd9-d6c3d8926419",
   "metadata": {},
   "source": [
    "Oblicz średnią podanych liczb."
   ]
  },
  {
   "cell_type": "code",
   "execution_count": 36,
   "id": "dfa09b54-2c81-4f1f-b14d-c0c1fb458bfa",
   "metadata": {},
   "outputs": [
    {
     "data": {
      "text/plain": [
       "25.88235294117647"
      ]
     },
     "execution_count": 36,
     "metadata": {},
     "output_type": "execute_result"
    }
   ],
   "source": [
    "sum(prime) / len(prime)"
   ]
  },
  {
   "cell_type": "markdown",
   "id": "10dd4fd7-0e8f-422c-940f-544c05a284a6",
   "metadata": {},
   "source": [
    "Oblicz minimum podanych liczb."
   ]
  },
  {
   "cell_type": "code",
   "execution_count": 37,
   "id": "22245872-d9a6-4fdc-a3f0-e69afaacd630",
   "metadata": {},
   "outputs": [
    {
     "data": {
      "text/plain": [
       "2"
      ]
     },
     "execution_count": 37,
     "metadata": {},
     "output_type": "execute_result"
    }
   ],
   "source": [
    "min(prime)"
   ]
  },
  {
   "cell_type": "markdown",
   "id": "433d2e2c-d1d4-4989-97ba-1f64d1e2e14f",
   "metadata": {},
   "source": [
    "Sprawdź, czy ostatnia wartość jest równa maksimum liczb."
   ]
  },
  {
   "cell_type": "code",
   "execution_count": 38,
   "id": "6ed93217-cea3-4890-9df5-e345a06ede5e",
   "metadata": {},
   "outputs": [
    {
     "data": {
      "text/plain": [
       "True"
      ]
     },
     "execution_count": 38,
     "metadata": {},
     "output_type": "execute_result"
    }
   ],
   "source": [
    "prime[-1] == max(prime)"
   ]
  },
  {
   "cell_type": "markdown",
   "id": "bcd36117-7611-4b95-a404-7a7bf4b36e28",
   "metadata": {},
   "source": [
    "Sprawdź, czy w kolekcji jest liczba 47."
   ]
  },
  {
   "cell_type": "code",
   "execution_count": 39,
   "id": "bd83569c-acd5-457a-bde2-e5118197374d",
   "metadata": {},
   "outputs": [
    {
     "data": {
      "text/plain": [
       "True"
      ]
     },
     "execution_count": 39,
     "metadata": {},
     "output_type": "execute_result"
    }
   ],
   "source": [
    "47 in prime"
   ]
  },
  {
   "cell_type": "markdown",
   "id": "0414a0f1-1393-4ca9-a9cf-b72ce7ec4d08",
   "metadata": {},
   "source": [
    "**Zadanie z gwiazdką**\n",
    "\n",
    "Oblicz sumę liczb, których indeksy są parzyste "
   ]
  },
  {
   "cell_type": "code",
   "execution_count": 40,
   "id": "7d1bdd58-93ee-4469-9aec-f9bbad18196d",
   "metadata": {},
   "outputs": [
    {
     "data": {
      "text/plain": [
       "236"
      ]
     },
     "execution_count": 40,
     "metadata": {},
     "output_type": "execute_result"
    }
   ],
   "source": [
    "sum(prime[::2])"
   ]
  },
  {
   "cell_type": "markdown",
   "id": "238312f2-cd42-463f-bcec-fb6f688c6cf2",
   "metadata": {},
   "source": [
    "## Zakres\n",
    "\n",
    "Oblicz sumę pierwszych 100 liczb naturalnych."
   ]
  },
  {
   "cell_type": "code",
   "execution_count": 41,
   "id": "4ceda287-ece7-4527-a994-33656e252d1c",
   "metadata": {},
   "outputs": [
    {
     "data": {
      "text/plain": [
       "4950"
      ]
     },
     "execution_count": 41,
     "metadata": {},
     "output_type": "execute_result"
    }
   ],
   "source": [
    "sum(range(100))\n",
    "# sum(range(1,100+1))"
   ]
  },
  {
   "cell_type": "markdown",
   "id": "7867a245-3349-4394-ac57-b5d727e20349",
   "metadata": {},
   "source": [
    "# Słowniki i zbiory"
   ]
  },
  {
   "cell_type": "markdown",
   "id": "81e6c521-95e3-41ff-bfca-b35498390154",
   "metadata": {},
   "source": [
    "## Zbiory\n",
    "\n",
    "Dana jest lista liczb."
   ]
  },
  {
   "cell_type": "code",
   "execution_count": 42,
   "id": "22e0a14e-6ef6-4a44-a584-5b2484233118",
   "metadata": {},
   "outputs": [],
   "source": [
    "liczby_lista = [3, 5, -2, 7, 4, 2, 7, 1, 6, 3, 2, 1, 8, 612]"
   ]
  },
  {
   "cell_type": "markdown",
   "id": "29847a04-0894-42be-9356-a6f8ae18b53b",
   "metadata": {},
   "source": [
    "Stwórz zbiór na podstawie listy `liczby`. Nazwij go \"liczby_zbior\""
   ]
  },
  {
   "cell_type": "code",
   "execution_count": 43,
   "id": "25bbb41a-9ffb-435d-a76a-0fb9983c751a",
   "metadata": {},
   "outputs": [],
   "source": [
    "liczby_zbior = set(liczby_lista)"
   ]
  },
  {
   "cell_type": "markdown",
   "id": "f5c28e99-08a2-4df8-9e26-6183cd4dcb02",
   "metadata": {},
   "source": [
    "Sprawdź, czy lista i zbiór mają taką samą liczbę elementów."
   ]
  },
  {
   "cell_type": "code",
   "execution_count": 44,
   "id": "beaa450a-fb5f-4786-8f93-d4c46d771c80",
   "metadata": {},
   "outputs": [
    {
     "data": {
      "text/plain": [
       "False"
      ]
     },
     "execution_count": 44,
     "metadata": {},
     "output_type": "execute_result"
    }
   ],
   "source": [
    "len(liczby_lista) == len(liczby_zbior)"
   ]
  },
  {
   "cell_type": "markdown",
   "id": "f09255d8-fbb9-4761-86d0-07ac41b1bba1",
   "metadata": {},
   "source": [
    "## Stolice\n",
    "\n",
    "Dany jest słownik stolic"
   ]
  },
  {
   "cell_type": "code",
   "execution_count": 45,
   "id": "8f3e0e48-5f3e-4f48-bfd6-7a4c1e54f1da",
   "metadata": {},
   "outputs": [],
   "source": [
    "stolice = {\n",
    "    'Polska': 'Warszawa',\n",
    "    'Niemcy': 'Berlin',\n",
    "    'Chiny': 'Pekin',\n",
    "    'Japonia': 'Tokio',\n",
    "    'Czechy': 'Praga',\n",
    "    'Francja': 'Paryż',\n",
    "    'USA': 'Nowy Jork'\n",
    "}"
   ]
  },
  {
   "cell_type": "markdown",
   "id": "eefa85d8-5565-4cb5-b84d-4064ab1ab3c4",
   "metadata": {},
   "source": [
    "Zmień stolicę USA na Waszyngton."
   ]
  },
  {
   "cell_type": "code",
   "execution_count": 46,
   "id": "135a6d07-f998-43fc-8024-aa958607374c",
   "metadata": {},
   "outputs": [],
   "source": [
    "stolice['USA'] = 'Waszyngton'"
   ]
  },
  {
   "cell_type": "markdown",
   "id": "1b5b1e78-8b2c-4ba1-ae61-3a8abf539136",
   "metadata": {},
   "source": [
    "Dodaj stolicę Włoch."
   ]
  },
  {
   "cell_type": "code",
   "execution_count": 47,
   "id": "e36300ff-bdb0-4ef7-bd01-0eba479dd283",
   "metadata": {},
   "outputs": [],
   "source": [
    "stolice['Włochy'] = 'Rzym'"
   ]
  },
  {
   "cell_type": "markdown",
   "id": "911933b9-16c4-4bb3-8424-82dcee6fa656",
   "metadata": {},
   "source": [
    "Wyświetl wszystkie klucze (kraje)."
   ]
  },
  {
   "cell_type": "code",
   "execution_count": 48,
   "id": "a9c30647-8029-42b1-a019-89fbe9a3f636",
   "metadata": {},
   "outputs": [
    {
     "data": {
      "text/plain": [
       "dict_keys(['Polska', 'Niemcy', 'Chiny', 'Japonia', 'Czechy', 'Francja', 'USA', 'Włochy'])"
      ]
     },
     "execution_count": 48,
     "metadata": {},
     "output_type": "execute_result"
    }
   ],
   "source": [
    "stolice.keys()"
   ]
  },
  {
   "cell_type": "markdown",
   "id": "cefd0695-9079-4c07-95c8-902e28a857d6",
   "metadata": {},
   "source": [
    "Wyświetl wszystkie wartości (stolice)."
   ]
  },
  {
   "cell_type": "code",
   "execution_count": 49,
   "id": "c6ad0e9e-902e-4028-9ac3-d133d724819b",
   "metadata": {},
   "outputs": [
    {
     "data": {
      "text/plain": [
       "dict_values(['Warszawa', 'Berlin', 'Pekin', 'Tokio', 'Praga', 'Paryż', 'Waszyngton', 'Rzym'])"
      ]
     },
     "execution_count": 49,
     "metadata": {},
     "output_type": "execute_result"
    }
   ],
   "source": [
    "stolice.values()"
   ]
  },
  {
   "cell_type": "markdown",
   "id": "6968a48c-7fc7-4170-9849-bf1984a962d8",
   "metadata": {},
   "source": [
    "\\* na podstawie kluczy stwórz listę i nazwij ją `klucze_lista`."
   ]
  },
  {
   "cell_type": "code",
   "execution_count": 50,
   "id": "441c6379-a738-4d41-8198-f69e900e9ee3",
   "metadata": {},
   "outputs": [],
   "source": [
    "klucze_lista = list(stolice.keys())"
   ]
  },
  {
   "cell_type": "markdown",
   "id": "6983caea-892c-4f2d-99fc-87f5ae014c07",
   "metadata": {},
   "source": [
    "Na podstawie danych ze słownika wyciągnij stolicę Czech, następnie stwórz zmienną `stolica_czech` i nadaj jej wyciągniętą wcześniej wartość."
   ]
  },
  {
   "cell_type": "code",
   "execution_count": 51,
   "id": "aa9c3e13-0689-49bb-9d93-c15458c54b0f",
   "metadata": {},
   "outputs": [
    {
     "data": {
      "text/plain": [
       "'Praga'"
      ]
     },
     "execution_count": 51,
     "metadata": {},
     "output_type": "execute_result"
    }
   ],
   "source": [
    "stolica_czech = stolice['Czechy']\n",
    "stolica_czech"
   ]
  },
  {
   "cell_type": "markdown",
   "id": "40abebbf-4188-4236-8e50-4d109331a492",
   "metadata": {},
   "source": [
    "Na podstawie danych ze słownika spróbuj wyciągnąć stolicę Chorwacji, następnie stwórz zmienną `stolica_chorwacji` i nadaj jej wcześniej wyciągniętą wartość.\n",
    "\n",
    "> UWAGA\n",
    ">\n",
    "> Takiej wartości nie ma w słowniku, natomiast Twój kod nie może wywołać błędu."
   ]
  },
  {
   "cell_type": "code",
   "execution_count": 52,
   "id": "ac095afe-b5b1-4d6c-b381-d6c5a29f15cd",
   "metadata": {},
   "outputs": [],
   "source": [
    "stolica_chorwacji = stolice.get('Chorwacja')\n",
    "stolica_chorwacji"
   ]
  },
  {
   "cell_type": "markdown",
   "id": "f8b7c7ae-4873-4e1e-8708-6a2da8f5d95e",
   "metadata": {},
   "source": [
    "# Instrukcje sterujące"
   ]
  },
  {
   "cell_type": "markdown",
   "id": "03c9b67a-b6ed-465e-8d4e-0d5f35f98767",
   "metadata": {},
   "source": [
    "## Na rozgrzewkę."
   ]
  },
  {
   "cell_type": "markdown",
   "id": "eb36f037-473e-4996-b209-5ecffa4afd40",
   "metadata": {},
   "source": [
    "Jeśli 2342351241 dzieli się bez reszty przez 3, to wyświetl swoje imię, w przeciwnym razie wyświetl swoje nazwisko."
   ]
  },
  {
   "cell_type": "code",
   "execution_count": 53,
   "id": "6239f5f1-db90-4834-b972-3403e08143b9",
   "metadata": {},
   "outputs": [
    {
     "name": "stdout",
     "output_type": "stream",
     "text": [
      "Moje imię\n"
     ]
    }
   ],
   "source": [
    "x = 2342351241\n",
    "\n",
    "if x % 3 == 0:\n",
    "    print('Moje imię')\n",
    "else:\n",
    "    print('Moje nazwisko')"
   ]
  },
  {
   "cell_type": "markdown",
   "id": "69b14609-d2f4-420b-856e-e207c58320c9",
   "metadata": {},
   "source": [
    "## Algorytm\n",
    "\n",
    "Napisz kod, który będzie odwzorowaniem rozwiązywanie funkcji kwadratowej.\n",
    "\n",
    "![](https://4.bp.blogspot.com/-Nfrp1IfqkXE/WOSp5eo73VI/AAAAAAAAAFY/sEc5bIjiKU4YpC-AXHnINpbeoLAxx3wFgCLcB/s1600/blok.jpg)"
   ]
  },
  {
   "cell_type": "code",
   "execution_count": 54,
   "id": "917dcb73-8a29-4786-b6f9-0f8aadcb970e",
   "metadata": {},
   "outputs": [
    {
     "name": "stdout",
     "output_type": "stream",
     "text": [
      "Typy współczynników są OK\n",
      "-4.0 -1.0\n"
     ]
    }
   ],
   "source": [
    "a = 1\n",
    "b = 5\n",
    "c = 4\n",
    "\n",
    "if (type(a) in [int, float]) and (type(b) in [int, float]) and (type(c) in [int, float]):\n",
    "    print(\"Typy współczynników są OK\")\n",
    "    if a == 0:\n",
    "        print(\"a = 0, To nie jest trójmian kwadratowy.\")\n",
    "    else:\n",
    "        delta = b ** 2 - 4*a*c\n",
    "        if delta > 0:\n",
    "            x1 = (-b - delta ** 0.5) / (2*a)\n",
    "            x2 = (-b + delta ** 0.5) / (2*a)\n",
    "            print(x1, x2)\n",
    "        elif delta == 0:\n",
    "            x = -b / (2*a)\n",
    "            print(x)\n",
    "        else:\n",
    "            print(\"delta < 0, Nie ma pierwiastków rzeczywistych\")\n",
    "else:\n",
    "    print(\"Błędne typy współczynników\")"
   ]
  },
  {
   "cell_type": "markdown",
   "id": "7b5c2c3a-071f-4a5d-9af6-fd3efcf56526",
   "metadata": {},
   "source": [
    "## Pętle"
   ]
  },
  {
   "cell_type": "markdown",
   "id": "40cc235e-2390-40e6-8fcf-6e558c81d66c",
   "metadata": {},
   "source": [
    "Wypisz liczby o 1 do 30 za pomocą pętli `while`"
   ]
  },
  {
   "cell_type": "code",
   "execution_count": 55,
   "id": "cb2d3a14-fca0-40ee-9b4e-ff1dbfcfaa2b",
   "metadata": {},
   "outputs": [
    {
     "name": "stdout",
     "output_type": "stream",
     "text": [
      "1\n",
      "2\n",
      "3\n",
      "4\n",
      "5\n",
      "6\n",
      "7\n",
      "8\n",
      "9\n",
      "10\n",
      "11\n",
      "12\n",
      "13\n",
      "14\n",
      "15\n",
      "16\n",
      "17\n",
      "18\n",
      "19\n",
      "20\n",
      "21\n",
      "22\n",
      "23\n",
      "24\n",
      "25\n",
      "26\n",
      "27\n",
      "28\n",
      "29\n",
      "30\n"
     ]
    }
   ],
   "source": [
    "i = 1\n",
    "while i < 31:\n",
    "    print(i)\n",
    "    i += 1"
   ]
  },
  {
   "cell_type": "markdown",
   "id": "574ec450-8183-495d-ac54-9e51add13a0f",
   "metadata": {},
   "source": [
    "Wypisz liczby od 1 do 30 za pomocą pętli `for`"
   ]
  },
  {
   "cell_type": "code",
   "execution_count": 56,
   "id": "f38d102b-7e39-483a-a1ac-dae69caf6f4f",
   "metadata": {},
   "outputs": [
    {
     "name": "stdout",
     "output_type": "stream",
     "text": [
      "1\n",
      "2\n",
      "3\n",
      "4\n",
      "5\n",
      "6\n",
      "7\n",
      "8\n",
      "9\n",
      "10\n",
      "11\n",
      "12\n",
      "13\n",
      "14\n",
      "15\n",
      "16\n",
      "17\n",
      "18\n",
      "19\n",
      "20\n",
      "21\n",
      "22\n",
      "23\n",
      "24\n",
      "25\n",
      "26\n",
      "27\n",
      "28\n",
      "29\n",
      "30\n"
     ]
    }
   ],
   "source": [
    "for i in range(1, 30+1):\n",
    "    print(i)"
   ]
  },
  {
   "cell_type": "markdown",
   "id": "14de9b07-3778-43a2-a99f-4361184199f1",
   "metadata": {},
   "source": [
    "Wypisz wszystkie liczby czterocyfrowe, ale tylko te, które dzielą się przez 101 ale nie dzielą się przez 3."
   ]
  },
  {
   "cell_type": "code",
   "execution_count": 57,
   "id": "4c14cf74-55e2-4db2-b0da-a81083a9cb27",
   "metadata": {},
   "outputs": [
    {
     "name": "stdout",
     "output_type": "stream",
     "text": [
      "1010\n",
      "1111\n",
      "1313\n",
      "1414\n",
      "1616\n",
      "1717\n",
      "1919\n",
      "2020\n",
      "2222\n",
      "2323\n",
      "2525\n",
      "2626\n",
      "2828\n",
      "2929\n",
      "3131\n",
      "3232\n",
      "3434\n",
      "3535\n",
      "3737\n",
      "3838\n",
      "4040\n",
      "4141\n",
      "4343\n",
      "4444\n",
      "4646\n",
      "4747\n",
      "4949\n",
      "5050\n",
      "5252\n",
      "5353\n",
      "5555\n",
      "5656\n",
      "5858\n",
      "5959\n",
      "6161\n",
      "6262\n",
      "6464\n",
      "6565\n",
      "6767\n",
      "6868\n",
      "7070\n",
      "7171\n",
      "7373\n",
      "7474\n",
      "7676\n",
      "7777\n",
      "7979\n",
      "8080\n",
      "8282\n",
      "8383\n",
      "8585\n",
      "8686\n",
      "8888\n",
      "8989\n",
      "9191\n",
      "9292\n",
      "9494\n",
      "9595\n",
      "9797\n",
      "9898\n"
     ]
    }
   ],
   "source": [
    "for i in range(1000, 9999+1):\n",
    "    if (i % 101 == 0) and (i % 3 != 0):\n",
    "        print(i)"
   ]
  },
  {
   "cell_type": "markdown",
   "id": "c717a8ee-20dc-4478-9092-7e0cb9e447a3",
   "metadata": {},
   "source": [
    "Dana jest lista miast. Stwórz listę `miasta_z_o`, która będzie zawierać jedynie miasta, które zawierają w nazwie literę \"o\"."
   ]
  },
  {
   "cell_type": "code",
   "execution_count": 58,
   "id": "6b95b9bf-faf0-4525-9cf6-d380d693f7a6",
   "metadata": {},
   "outputs": [],
   "source": [
    "miasta = ['Pekin', 'Porto', 'Lizbona', 'Katowice', 'Marsylia', 'Pilzno', 'Manchester']"
   ]
  },
  {
   "cell_type": "code",
   "execution_count": 59,
   "id": "83b22dbf-4f98-4d5e-81b5-a27faad86a95",
   "metadata": {},
   "outputs": [
    {
     "data": {
      "text/plain": [
       "['Porto', 'Lizbona', 'Katowice', 'Pilzno']"
      ]
     },
     "execution_count": 59,
     "metadata": {},
     "output_type": "execute_result"
    }
   ],
   "source": [
    "miasta_z_o = []\n",
    "for miasto in miasta:\n",
    "    if 'o' in miasto:\n",
    "        miasta_z_o.append(miasto)\n",
    "        \n",
    "miasta_z_o"
   ]
  },
  {
   "cell_type": "code",
   "execution_count": 60,
   "id": "baa3dc33-46a6-4013-9789-3b59028d859b",
   "metadata": {},
   "outputs": [
    {
     "data": {
      "text/plain": [
       "['Porto', 'Lizbona', 'Katowice', 'Pilzno']"
      ]
     },
     "execution_count": 60,
     "metadata": {},
     "output_type": "execute_result"
    }
   ],
   "source": [
    "# List comprehension\n",
    "\n",
    "miasta_z_o = [miasto for miasto in miasta if 'o' in miasto]\n",
    "\n",
    "miasta_z_o"
   ]
  },
  {
   "cell_type": "markdown",
   "id": "2afa5f92-7d98-48fe-8cd4-635f27df402d",
   "metadata": {},
   "source": [
    "**Zadanie z gwiazdką**\n",
    "\n",
    "Sprawdź, czy liczba 548648671 jest liczbą pierwszą."
   ]
  },
  {
   "cell_type": "code",
   "execution_count": 61,
   "id": "ac96d9d8-20d4-4cbc-819f-0dd4cd6170e0",
   "metadata": {},
   "outputs": [
    {
     "name": "stdout",
     "output_type": "stream",
     "text": [
      "To nie jest liczba pierwsza\n",
      "Dzieli się przez 433\n"
     ]
    }
   ],
   "source": [
    "x = 548648671\n",
    "\n",
    "czy_pierwsza = True\n",
    "\n",
    "for i in range(2, x):\n",
    "    if x % i == 0:\n",
    "        print(\"To nie jest liczba pierwsza\")\n",
    "        print(f\"Dzieli się przez {i}\")\n",
    "        czy_pierwsza = False\n",
    "        break\n",
    "\n",
    "if czy_pierwsza:\n",
    "    print(\"To jest liczba pierwsza\")"
   ]
  },
  {
   "cell_type": "markdown",
   "id": "9b71350f-05c9-48b3-8a57-15b274d38e24",
   "metadata": {},
   "source": [
    "**Liczba doskonała**\n",
    "\n",
    "Wyznacz wszystkie liczby doskonałe mniejsze od 10000.\n",
    "\n",
    "> liczba doskonała - liczba naturalna, która jest sumą wszystkich swych dzielników właściwych (to znaczy od niej mniejszych)"
   ]
  },
  {
   "cell_type": "code",
   "execution_count": 62,
   "id": "5ee74e7b-57b4-4c36-8366-e9dbeb8081c4",
   "metadata": {},
   "outputs": [
    {
     "name": "stdout",
     "output_type": "stream",
     "text": [
      "[6, 28, 496, 8128]\n"
     ]
    }
   ],
   "source": [
    "doskonale = []\n",
    "\n",
    "for liczba in range(2, 10000):\n",
    "    suma = 0\n",
    "    for i in range(1, liczba):\n",
    "        if liczba % i == 0:\n",
    "            suma += i\n",
    "    if suma == liczba:\n",
    "        doskonale.append(liczba)\n",
    "\n",
    "print(doskonale)"
   ]
  },
  {
   "cell_type": "code",
   "execution_count": 63,
   "id": "0d4c156d-8a28-41a2-b1ad-aab72da806da",
   "metadata": {},
   "outputs": [
    {
     "name": "stdout",
     "output_type": "stream",
     "text": [
      "[6, 28, 496, 8128]\n"
     ]
    }
   ],
   "source": [
    "# rozwiązanie z listą dzielników\n",
    "\n",
    "doskonale = []\n",
    "\n",
    "for liczba in range(2, 10000):\n",
    "    dzielniki = []\n",
    "    for i in range(1, liczba):\n",
    "        if liczba % i == 0:\n",
    "            dzielniki.append(i)\n",
    "    if sum(dzielniki) == liczba:\n",
    "        doskonale.append(liczba)\n",
    "\n",
    "print(doskonale)"
   ]
  },
  {
   "cell_type": "code",
   "execution_count": 64,
   "id": "ba8af011-80f7-45eb-881a-265a3ec0ecdf",
   "metadata": {},
   "outputs": [
    {
     "name": "stdout",
     "output_type": "stream",
     "text": [
      "[6, 28, 496, 8128]\n"
     ]
    }
   ],
   "source": [
    "# rozwiązanie z list comprehension\n",
    "\n",
    "doskonale = []\n",
    "\n",
    "for liczba in range(2, 10000):\n",
    "    dzielniki = [i for i in range(1, liczba) if liczba % i == 0]\n",
    "    if sum(dzielniki) == liczba:\n",
    "        doskonale.append(liczba)\n",
    "\n",
    "print(doskonale)"
   ]
  },
  {
   "cell_type": "markdown",
   "id": "2be615a2-215b-4734-9309-40aebe2cebc8",
   "metadata": {},
   "source": [
    "**Dzielenie przez 7**\n",
    "\n",
    "https://www.youtube.com/watch?v=UDQjn_-pDSs"
   ]
  },
  {
   "cell_type": "code",
   "execution_count": null,
   "id": "2c01b391-ff0d-4082-beb4-728b6b80665f",
   "metadata": {},
   "outputs": [],
   "source": []
  },
  {
   "cell_type": "markdown",
   "id": "c49c2a88-2362-45c6-aef1-33fb659a06b0",
   "metadata": {},
   "source": [
    "# Funkcje"
   ]
  },
  {
   "cell_type": "markdown",
   "id": "274be621-85b0-4789-a959-70fc3ffb4f63",
   "metadata": {},
   "source": [
    "## Pierwszy znak\n",
    "\n",
    "Napisz funkcję zwracającą pierwszy znak z podanego argumentu."
   ]
  },
  {
   "cell_type": "code",
   "execution_count": 65,
   "id": "9f6f3a2d-da6d-418b-b292-b8d190a8e107",
   "metadata": {},
   "outputs": [],
   "source": [
    "def pierwszy_znak(x):\n",
    "    return x[0]"
   ]
  },
  {
   "cell_type": "markdown",
   "id": "1a0c05e0-7479-46b1-8119-c98227544612",
   "metadata": {},
   "source": [
    "## Pierwsze znaki\n",
    "\n",
    "Napisz funkcję zwracającą n pierwszych znaków (domyślnie n=1)"
   ]
  },
  {
   "cell_type": "code",
   "execution_count": 66,
   "id": "ea84538d-f4c4-4e8f-ac62-785fc4c3e43a",
   "metadata": {},
   "outputs": [],
   "source": [
    "def pierwsze_znaki(x, n=1):\n",
    "    return x[:n]"
   ]
  },
  {
   "cell_type": "markdown",
   "id": "56755cf8-7e01-46bd-98aa-aa696061279d",
   "metadata": {},
   "source": [
    "## Średnia\n",
    "\n",
    "Napisz funkcję, która będzie przyjmować jako argument listę i policzy jej średnią. Stwórz przykładową listę i sprawdź działanie funkcji."
   ]
  },
  {
   "cell_type": "code",
   "execution_count": 67,
   "id": "0d6273ad-5bbc-4045-bc79-f17ac448968e",
   "metadata": {},
   "outputs": [
    {
     "data": {
      "text/plain": [
       "1.8"
      ]
     },
     "execution_count": 67,
     "metadata": {},
     "output_type": "execute_result"
    }
   ],
   "source": [
    "def srednia(x):\n",
    "    return sum(x) / len(x)\n",
    "\n",
    "lista = [1, 2, 1, 0, 5]\n",
    "srednia(lista)"
   ]
  },
  {
   "cell_type": "markdown",
   "id": "d8c1a6d4-08fc-4b3a-b360-5609f89485a8",
   "metadata": {},
   "source": [
    "## Mediana\n",
    "\n",
    "Napisz funkcję, która będzie przyjmować jako argument listę i policzy jej średnią. Stwórz przykładową listę i sprawdź działanie funkcji."
   ]
  },
  {
   "cell_type": "code",
   "execution_count": 68,
   "id": "a74ef212-7a6f-417c-a3af-a1eed64e610a",
   "metadata": {},
   "outputs": [
    {
     "data": {
      "text/plain": [
       "1.5"
      ]
     },
     "execution_count": 68,
     "metadata": {},
     "output_type": "execute_result"
    }
   ],
   "source": [
    "def mediana(x):\n",
    "    x = sorted(x)\n",
    "    if len(x) % 2 == 1:\n",
    "        i = len(x) / 2   # dzielenie liczby elementów na 2\n",
    "        i = int(i)  # rzutowanie na int\n",
    "        # oczywiście, można napisać to tak: indeks = int(len(x) / 2)\n",
    "        return x[i]\n",
    "    elif len(x) % 2 == 0:\n",
    "        i1 = int(len(x)/2 - 1)\n",
    "        i2 = int(len(x)/2)\n",
    "        return (x[i1] + x[i2]) / 2\n",
    "    \n",
    "    \n",
    "lista = [1, 2, 1, 0, 5, 3]\n",
    "mediana(lista)"
   ]
  },
  {
   "cell_type": "markdown",
   "id": "d9306a5e-eef5-42bd-b885-3e05925195e5",
   "metadata": {},
   "source": [
    "## Suma liczb naturalnych\n",
    "\n",
    "Napisz funkcję zwracającą sumę n pierwszych liczb naturalnych."
   ]
  },
  {
   "cell_type": "code",
   "execution_count": 69,
   "id": "500d3109-63a3-4f51-9792-7a385a332c77",
   "metadata": {},
   "outputs": [
    {
     "data": {
      "text/plain": [
       "171"
      ]
     },
     "execution_count": 69,
     "metadata": {},
     "output_type": "execute_result"
    }
   ],
   "source": [
    "def sum_first_n(n):\n",
    "    return sum(range(n))\n",
    "\n",
    "sum_first_n(19)"
   ]
  },
  {
   "cell_type": "markdown",
   "id": "54f2c7f4-8985-42c6-8339-7c174df45d2d",
   "metadata": {},
   "source": [
    "## Czy doskonała\n",
    "\n",
    "Napisz funkcję, która będzie sprawdzać, czy podana liczba jest liczbą doskonałą.\n",
    "\n",
    "> liczba doskonała - liczba naturalna, która jest sumą wszystkich swych dzielników właściwych (to znaczy od niej mniejszych)"
   ]
  },
  {
   "cell_type": "code",
   "execution_count": 70,
   "id": "59587a1f-45ec-4866-89cf-09e99775c672",
   "metadata": {},
   "outputs": [],
   "source": [
    "# rozwiązanie z list comprehension\n",
    "def czy_doskonala(x):\n",
    "    dzielniki = [i for i in range(1, x) if x % i == 0]\n",
    "    return x == sum(dzielniki)\n",
    "\n",
    "# rozwiązanie z for i listą\n",
    "def czy_doskonala2(x):\n",
    "    dzielniki = []\n",
    "    for i in range(1, x):\n",
    "        if x % i == 0:\n",
    "            dzielniki.append(i)\n",
    "    return x == sum(dzielniki)\n",
    "\n",
    "# rozwiązanie z for i zmienną pomocniczą\n",
    "def czy_doskonala3(x):\n",
    "    suma = 0\n",
    "    for i in range(1, x):\n",
    "        if x % i == 0:\n",
    "            suma += i\n",
    "    return x == suma"
   ]
  },
  {
   "cell_type": "markdown",
   "id": "239a74b1-2ade-4bb4-85f1-7485a1990669",
   "metadata": {},
   "source": [
    "## Ile dni w roku\n",
    "\n",
    "Napisz funkcję, która przyjmować będzie rok a zwracać liczbę dni w tym roku.\n",
    "\n",
    "**Kiedy jest rok przestępny?**\n",
    "\n",
    "* jest podzielny przez 4 i niepodzielny przez 100 lub\n",
    "* jest podzielny przez 400"
   ]
  },
  {
   "cell_type": "code",
   "execution_count": 71,
   "id": "66d6b3e6-df5f-4ff6-86fc-0bbcc3bd4c42",
   "metadata": {},
   "outputs": [],
   "source": [
    "def dni_w_roku(x):\n",
    "    if (x % 4 == 0 and x % 100 != 0) or (x % 400 == 0):\n",
    "        return 366\n",
    "    else:\n",
    "        return 365"
   ]
  },
  {
   "cell_type": "markdown",
   "id": "ee824d93-6ae8-485b-8234-225fc659e8ea",
   "metadata": {},
   "source": [
    "## Unikatowe wartości\n",
    "\n",
    "Napisz funkcję, która będzie przyjmować w argumencie listę a zwracać będzie krotkę z unikatowymi elementami danej listy."
   ]
  },
  {
   "cell_type": "code",
   "execution_count": 72,
   "id": "bf9affcc-8a47-4d01-8d4b-e5475f73d3b6",
   "metadata": {},
   "outputs": [],
   "source": [
    "def unikatowe_wartosci(x):\n",
    "    return tuple(set(x))"
   ]
  },
  {
   "cell_type": "markdown",
   "id": "20e7ae37-39b7-4e8d-afce-a29cfad22354",
   "metadata": {},
   "source": [
    "## Papier, kamień, nożyce\n",
    "\n",
    "Napisz funkcję, która będzie roztrzygać, kto jest zwycięzcą pojedynku w papier kamień, nożyce."
   ]
  },
  {
   "cell_type": "code",
   "execution_count": 73,
   "id": "b3e7f4f9-b6d9-45b2-97c3-b51e2a7943df",
   "metadata": {},
   "outputs": [],
   "source": [
    "def pkn(gracz1, gracz2):\n",
    "    mozliwosci = ['p', 'k', 'n']\n",
    "    if not ( gracz1 in mozliwosci and gracz2 in mozliwosci ):\n",
    "        print('Złe dane wejściowe!')\n",
    "    elif gracz1 == gracz2:\n",
    "        print('Remis!')\n",
    "    elif (gracz1, gracz2) in (('p', 'k'), ('k', 'n'), ('n', 'p')):\n",
    "        print('Zwycięstwo gracza1!')\n",
    "    else:\n",
    "        print('Zwycięstwo gracza2!')"
   ]
  },
  {
   "cell_type": "code",
   "execution_count": 74,
   "id": "eaa7e748-046d-4ce2-b898-b2f54acda65a",
   "metadata": {},
   "outputs": [
    {
     "name": "stdin",
     "output_type": "stream",
     "text": [
      "Gracz1:  p\n",
      "Gracz2:  k\n"
     ]
    },
    {
     "name": "stdout",
     "output_type": "stream",
     "text": [
      "Zwycięstwo gracza1!\n"
     ]
    },
    {
     "name": "stdin",
     "output_type": "stream",
     "text": [
      "Czy chcesz zagrać ponownie? [t/n] t\n",
      "Gracz1:  k\n",
      "Gracz2:  k\n"
     ]
    },
    {
     "name": "stdout",
     "output_type": "stream",
     "text": [
      "Remis!\n"
     ]
    },
    {
     "name": "stdin",
     "output_type": "stream",
     "text": [
      "Czy chcesz zagrać ponownie? [t/n] n\n"
     ]
    }
   ],
   "source": [
    "while True:\n",
    "    \n",
    "    gracz1 = input(\"Gracz1: \")\n",
    "    gracz2 = input(\"Gracz2: \")\n",
    "\n",
    "    pkn(gracz1, gracz2)\n",
    "    \n",
    "    if input('Czy chcesz zagrać ponownie? [t/n]') != 't':\n",
    "        break"
   ]
  },
  {
   "cell_type": "markdown",
   "id": "79cc680f-b9cb-4c08-9ba9-8d07f2311f02",
   "metadata": {},
   "source": [
    "## Zliczanie powtórzeń\n",
    "\n",
    "Napisz funkcję, która będzie przyjmować listę i będzie zwracać słownik, gdzie kluczami będą elementy listy, a wartościami będzie liczba powtórzeń elementu w liście."
   ]
  },
  {
   "cell_type": "code",
   "execution_count": 75,
   "id": "6e2a30a4-2e85-4478-8e60-a1e65bddf529",
   "metadata": {},
   "outputs": [],
   "source": [
    "# rozwiązanie 1\n",
    "def list_to_dict(lista):\n",
    "    slownik = {}\n",
    "    for i in lista:\n",
    "        if i not in slownik:\n",
    "            slownik[i] = 1\n",
    "        else:\n",
    "            slownik[i] += 1\n",
    "    return slownik\n",
    "\n",
    "# rozwiązanie 2\n",
    "def ile_powtorzen_dict(lista):\n",
    "    slownik = dict()\n",
    "    for w in set(lista):\n",
    "        slownik[w] = lista.count(w)\n",
    "    return slownik\n",
    "\n",
    "\n",
    "# instrukcję `if` w rozwiązaniu1 można zastąpić poniższą linijką\n",
    "#     slownik[i] = slownik.get(i, 0) + 1\n"
   ]
  },
  {
   "cell_type": "markdown",
   "id": "723a9926-f757-495e-82ae-c398b85f2332",
   "metadata": {},
   "source": [
    "## Zliczanie typów\n",
    "\n",
    "Napisz funkcję, która będzie przyjmować listę i będzie zwracać słownik, gdzie kluczami będą typy elementów listy, a wartościami będzie liczba powtórzeń tych typów w liście."
   ]
  },
  {
   "cell_type": "code",
   "execution_count": 76,
   "id": "7019a2dc-34e7-44f3-b818-99df95c95691",
   "metadata": {},
   "outputs": [
    {
     "name": "stdout",
     "output_type": "stream",
     "text": [
      "{<class 'str'>: 2, <class 'int'>: 2, <class 'float'>: 1}\n",
      "{'float': 1, 'int': 2, 'str': 2}\n"
     ]
    }
   ],
   "source": [
    "lista = ['a', 5, 3.5, 'b', 0]\n",
    "\n",
    "# rozwiązanie 1\n",
    "def list_to_dict(lista):\n",
    "    slownik = {}\n",
    "    typy = [type(el) for el in lista] \n",
    "    for i in typy:\n",
    "        if i not in slownik:\n",
    "            slownik[i] = 1\n",
    "        else:\n",
    "            slownik[i] += 1\n",
    "    return slownik\n",
    "\n",
    "# rozwiązanie 2\n",
    "def ile_powtorzen_dict(lista):\n",
    "    slownik = dict()\n",
    "    typy = [type(el).__name__ for el in lista]\n",
    "    for w in set(typy):\n",
    "        slownik[w] = typy.count(w)\n",
    "    return slownik\n",
    "\n",
    "print(list_to_dict(lista))\n",
    "print(ile_powtorzen_dict(lista))    "
   ]
  },
  {
   "cell_type": "markdown",
   "id": "7774ba44-1d98-4533-9fba-0a846573c216",
   "metadata": {},
   "source": [
    "## Macierz jednostkowa\n",
    "\n",
    "Napisz funkcję która zwróci macierz (w tym wypadku listę, w której będą listy odzwierciedlające wiersze macierzy) jednostkową o podanym wymiarze.\n",
    "\n",
    "Na przyklad:\n",
    "\n",
    "Wywołanie `macierz_jednostkowa(3)` powinna zwrócić taki wynik:\n",
    "\n",
    "```python\n",
    "[[1, 0, 0], [0, 1, 0], [0, 0, 1]]\n",
    "```"
   ]
  },
  {
   "cell_type": "code",
   "execution_count": null,
   "id": "12240e7a-5b61-479a-b179-b838038bb326",
   "metadata": {},
   "outputs": [],
   "source": []
  },
  {
   "cell_type": "markdown",
   "id": "81e8897b-aa41-4ce8-a157-6aa7587670cd",
   "metadata": {},
   "source": [
    "## Usuń parzyste\n",
    "\n",
    "Napisz funkcję, któraprzyjmie jako parametr listę liczb, a zwróci listę z usuniętymi liczbami parzystymi."
   ]
  },
  {
   "cell_type": "code",
   "execution_count": null,
   "id": "fd82c8df-becf-4ad3-a09a-36b1cfa28c6f",
   "metadata": {},
   "outputs": [],
   "source": []
  },
  {
   "cell_type": "markdown",
   "id": "e1ff3f4e-8260-41c9-98c9-b227e8ddd29d",
   "metadata": {},
   "source": [
    "## Podsumowanie\n",
    "\n",
    "Nalezy napisać funkcje, ktora będzie zwracać z listy int-ow:\n",
    "\n",
    "* dlugosc listy\n",
    "* sume jej wartosci\n",
    "* najwyzsza wartosc\n",
    "* pierwszy i ostatni element"
   ]
  },
  {
   "cell_type": "code",
   "execution_count": 77,
   "id": "f76c8c2c-5f03-4577-91c1-f9492eb9d49e",
   "metadata": {},
   "outputs": [
    {
     "data": {
      "text/plain": [
       "(3, 10, 5, 3, 2)"
      ]
     },
     "execution_count": 77,
     "metadata": {},
     "output_type": "execute_result"
    }
   ],
   "source": [
    "def podsumowanie(x):\n",
    "    return (len(x), sum(x), max(x), x[0], x[-1])\n",
    "\n",
    "lista = [3, 5, 2]\n",
    "podsumowanie(lista)"
   ]
  },
  {
   "cell_type": "markdown",
   "id": "2b17b90c-0fc4-466c-b9f7-e6b63ac303d1",
   "metadata": {},
   "source": [
    "## EVEN ODD\n",
    "\n",
    "Napisz funkcję o nazwie show_numbers, która przyjmuje parametr o nazwie limit. Powinien wydrukować wszystkie liczby od 0 do limitu z etykietą, aby zidentyfikować liczby parzyste i nieparzyste. Na przykład, jeśli limit wynosi 3, powinien wydrukować:\n",
    "<br> 0 EVEN\n",
    "<br> 1 ODD \n",
    "<br> 2 EVEN \n",
    "<br> 3 ODD"
   ]
  },
  {
   "cell_type": "code",
   "execution_count": null,
   "id": "78ece656-e715-48a5-9493-e5f610181d08",
   "metadata": {},
   "outputs": [],
   "source": []
  },
  {
   "cell_type": "markdown",
   "id": "0ef76fbd-33af-4503-bc52-79f06baf57c9",
   "metadata": {},
   "source": [
    "## Słownik kwadratów\n",
    "\n",
    "Napisz funkcję, która ma przyjąć paramatr limit i ma drukować słownik, w którym klucze są liczbami, a wartości są kwadratami tych kluczy."
   ]
  },
  {
   "cell_type": "code",
   "execution_count": null,
   "id": "44d98a7d-f1a7-4bd3-8ebd-3cbd72f4cd95",
   "metadata": {},
   "outputs": [],
   "source": []
  },
  {
   "cell_type": "markdown",
   "id": "02aded00-a85d-41be-ae1c-cd922f6adfd0",
   "metadata": {},
   "source": [
    "## Tabliczka mnożenia"
   ]
  },
  {
   "cell_type": "markdown",
   "id": "a4eba5d9-e2eb-4c43-b71e-598094af6355",
   "metadata": {},
   "source": [
    "Napisz pętlę, która wyświetli, po podaniu liczby, tabliczkę mnożenia.\n",
    "<br> Przykładowo:\n",
    "<br> \n",
    "<br>`tab_mnozenia(6)`\n",
    "<br>6x1 = 6\n",
    "<br>6x2 = 12\n",
    "<br>6x3 = 18\n",
    "<br>6x4 = 24\n",
    "<br>6x5 = 30\n",
    "<br>6x6 = 36\n",
    "<br>6x7 = 42\n",
    "<br>6x8 = 48\n",
    "<br>6x9 = 54\n",
    "<br>6x10 = 60"
   ]
  },
  {
   "cell_type": "code",
   "execution_count": null,
   "id": "c088e9a9-e704-4c09-85b9-2a1cc44fcd2d",
   "metadata": {},
   "outputs": [],
   "source": []
  },
  {
   "cell_type": "markdown",
   "id": "bb206ed3-aabe-4925-b4ee-6564dddfb4d4",
   "metadata": {},
   "source": [
    "# Ćwiczenia"
   ]
  },
  {
   "cell_type": "markdown",
   "id": "6c92cf60-e286-450e-a369-9e1eda900852",
   "metadata": {},
   "source": [
    "Proszę za pomocą pętli i instrukcji if wyświetlić następujący ciąg:\n",
    "<br> 1\n",
    "<br> 2\n",
    "<br> 3\n",
    "<br> 4\n",
    "<br> Znalazłem 5! \n",
    "<br> 6\n",
    "<br> 7"
   ]
  },
  {
   "cell_type": "code",
   "execution_count": null,
   "id": "0c76400d-7cd3-4702-bdff-a8740f7f1d4c",
   "metadata": {},
   "outputs": [],
   "source": []
  },
  {
   "cell_type": "markdown",
   "id": "e5295590-4280-45a4-bf41-c3b03a9996cc",
   "metadata": {},
   "source": [
    "Za pomoca petli wydrukuj nastepujacy wzorzec:\n",
    "\n",
    "```\n",
    "1\n",
    "22\n",
    "333\n",
    "4444\n",
    "55555\n",
    "666666\n",
    "7777777\n",
    "88888888\n",
    "999999999\n",
    "```"
   ]
  },
  {
   "cell_type": "code",
   "execution_count": null,
   "id": "72624683-ac3c-4e04-9cc7-fd37ddbb7d14",
   "metadata": {},
   "outputs": [],
   "source": []
  },
  {
   "cell_type": "markdown",
   "id": "840a6831-1ee5-470f-b019-a8644c6dcbfb",
   "metadata": {},
   "source": [
    "treepersqkm to słownik pokazujący liczbę drzew na metr kwadratowy w wybranych krajach. Napisz instrukcje if, która zwraca listę nazw krajów z ponad 20 000 drzew na kilometr kwadratowy."
   ]
  },
  {
   "cell_type": "code",
   "execution_count": 78,
   "id": "eacfe576-bb55-481f-8790-bcaaf8a5bfdd",
   "metadata": {},
   "outputs": [],
   "source": [
    "treepersqkm = {\n",
    "    \"Finland\": 90652, \"Taiwan\": 69593,\n",
    "    \"Japan\": 49894, \"Russia\": 41396,\n",
    "    \"Brazil\": 39542, \"Canada\": 36388,\n",
    "    \"Bulgaria\": 24987, \"France\": 24436,\n",
    "    \"Greece\": 24323, \"United States\": 23513,\n",
    "    \"Turkey\": 11126, \"India\": 11109,\n",
    "    \"Denmark\": 6129, \"Syria\": 534,\n",
    "    \"Saudi Arabia\": 1\n",
    "}"
   ]
  },
  {
   "cell_type": "code",
   "execution_count": null,
   "id": "9c01e16d-9206-4249-9d59-ad12e089e524",
   "metadata": {},
   "outputs": [],
   "source": []
  },
  {
   "cell_type": "code",
   "execution_count": 79,
   "id": "78372721-bc44-41c9-a5f9-99167e05c911",
   "metadata": {},
   "outputs": [],
   "source": [
    "import random # biblioteka dająca opcje losowania wartości"
   ]
  },
  {
   "cell_type": "code",
   "execution_count": 80,
   "id": "c362a288-f52b-4904-b335-adf179c418e2",
   "metadata": {},
   "outputs": [
    {
     "data": {
      "text/plain": [
       "0.352583306564321"
      ]
     },
     "execution_count": 80,
     "metadata": {},
     "output_type": "execute_result"
    }
   ],
   "source": [
    "random.random() # losowa wartość z przedziału 0 do 1"
   ]
  },
  {
   "cell_type": "code",
   "execution_count": 81,
   "id": "e2d16135-2595-4445-a02e-aff1ea9848ba",
   "metadata": {},
   "outputs": [
    {
     "data": {
      "text/plain": [
       "67.4180262910351"
      ]
     },
     "execution_count": 81,
     "metadata": {},
     "output_type": "execute_result"
    }
   ],
   "source": [
    "random.uniform(56, 81) # losowa wartość z podanego zakresu  "
   ]
  },
  {
   "cell_type": "code",
   "execution_count": 82,
   "id": "b449eb03-2b71-498e-b966-2e61df207ce8",
   "metadata": {},
   "outputs": [
    {
     "data": {
      "text/plain": [
       "6"
      ]
     },
     "execution_count": 82,
     "metadata": {},
     "output_type": "execute_result"
    }
   ],
   "source": [
    "random.randint(5, 8) # losowa wartość całkowita z zakresu"
   ]
  },
  {
   "cell_type": "code",
   "execution_count": 83,
   "id": "83b56e9e-4623-4754-93f6-74939eea5faa",
   "metadata": {},
   "outputs": [
    {
     "data": {
      "text/plain": [
       "\u001b[0;31mSignature:\u001b[0m \u001b[0mrandom\u001b[0m\u001b[0;34m.\u001b[0m\u001b[0mrandint\u001b[0m\u001b[0;34m(\u001b[0m\u001b[0ma\u001b[0m\u001b[0;34m,\u001b[0m \u001b[0mb\u001b[0m\u001b[0;34m)\u001b[0m\u001b[0;34m\u001b[0m\u001b[0;34m\u001b[0m\u001b[0m\n",
       "\u001b[0;31mDocstring:\u001b[0m\n",
       "Return random integer in range [a, b], including both end points.\n",
       "        \n",
       "\u001b[0;31mFile:\u001b[0m      ~/opt/anaconda3/lib/python3.9/random.py\n",
       "\u001b[0;31mType:\u001b[0m      method\n"
      ]
     },
     "metadata": {},
     "output_type": "display_data"
    }
   ],
   "source": [
    "?random.randint"
   ]
  },
  {
   "cell_type": "markdown",
   "id": "d044921d-adc2-48ab-b625-bd59d4446433",
   "metadata": {},
   "source": [
    "## Zgadnij liczbę\n",
    "\n",
    "Napisz program w którym użytkownik będzie musiał odgadnąć wylosowaną liczbę z podanego zakresu. Użytkownik powinien dostać informacje czy podana przez niego liczba jest większa, mniejsza czy równa wylosowanej. Użytkownik powinien próbować tak długo, aż zgadnie. Na końcu powinien też zobacz liczbę swoich prób.\n",
    "\n",
    "przydatne funkcje: `input`, `int`, `random.randint`"
   ]
  },
  {
   "cell_type": "code",
   "execution_count": 87,
   "id": "8c4b0dcb-2955-4320-9d81-cba6e699c333",
   "metadata": {},
   "outputs": [
    {
     "name": "stdin",
     "output_type": "stream",
     "text": [
      "Podaj dolną granicę: 3\n",
      "Podaj górną granicę: 5\n",
      "Podaj liczbę: 4\n"
     ]
    },
    {
     "name": "stdout",
     "output_type": "stream",
     "text": [
      "Zgadłeś\n",
      "Liczba prób: 1\n"
     ]
    }
   ],
   "source": [
    "down = int(input('Podaj dolną granicę:'))\n",
    "up = int(input('Podaj górną granicę:'))\n",
    "\n",
    "liczba = random.randint(down, up)\n",
    "\n",
    "licznik = 0\n",
    "\n",
    "while True:\n",
    "    licznik += 1\n",
    "    x = int(input('Podaj liczbę:'))\n",
    "    if x == liczba:\n",
    "        print('Zgadłeś')\n",
    "        print(f'Liczba prób: {licznik}')\n",
    "        break\n",
    "    elif x > liczba:\n",
    "        print('Za dużo!')\n",
    "    elif x < liczba:\n",
    "        print('Za mało!')"
   ]
  },
  {
   "cell_type": "code",
   "execution_count": 85,
   "id": "1df038bc-910a-493f-8290-f064be0f7ce0",
   "metadata": {},
   "outputs": [
    {
     "data": {
      "text/plain": [
       "\u001b[0;31mSignature:\u001b[0m \u001b[0mrandom\u001b[0m\u001b[0;34m.\u001b[0m\u001b[0mchoice\u001b[0m\u001b[0;34m(\u001b[0m\u001b[0mseq\u001b[0m\u001b[0;34m)\u001b[0m\u001b[0;34m\u001b[0m\u001b[0;34m\u001b[0m\u001b[0m\n",
       "\u001b[0;31mDocstring:\u001b[0m Choose a random element from a non-empty sequence.\n",
       "\u001b[0;31mFile:\u001b[0m      ~/opt/anaconda3/lib/python3.9/random.py\n",
       "\u001b[0;31mType:\u001b[0m      method\n"
      ]
     },
     "metadata": {},
     "output_type": "display_data"
    }
   ],
   "source": [
    "?random.choice"
   ]
  },
  {
   "cell_type": "markdown",
   "id": "6ddf5adc-4a48-4792-b4d9-d7f48b7ac175",
   "metadata": {},
   "source": [
    "## Wisielec\n",
    "\n",
    "Napisz funkcję, która będzie imitować grę w wisielca."
   ]
  },
  {
   "cell_type": "code",
   "execution_count": null,
   "id": "4c9bc2c2-3ef2-4575-9048-b52b297fde81",
   "metadata": {},
   "outputs": [],
   "source": []
  }
 ],
 "metadata": {
  "kernelspec": {
   "display_name": "Python 3 (ipykernel)",
   "language": "python",
   "name": "python3"
  },
  "language_info": {
   "codemirror_mode": {
    "name": "ipython",
    "version": 3
   },
   "file_extension": ".py",
   "mimetype": "text/x-python",
   "name": "python",
   "nbconvert_exporter": "python",
   "pygments_lexer": "ipython3",
   "version": "3.9.12"
  },
  "toc-autonumbering": true
 },
 "nbformat": 4,
 "nbformat_minor": 5
}
