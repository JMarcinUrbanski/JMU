{
 "cells": [
  {
   "cell_type": "markdown",
   "id": "9ce9b320-b7a1-417e-8625-248293a11894",
   "metadata": {},
   "source": [
    "# Funkcje"
   ]
  },
  {
   "cell_type": "markdown",
   "id": "8436507a-57e0-4314-b2db-c8908e173536",
   "metadata": {},
   "source": [
    "**Funkcja** to wydzielony fragment kodu, który można wielokrotnie używać w różnych miejscach programu.\n",
    "\n",
    "```python\n",
    "def dodawanie(a, b):\n",
    "    return a + b\n",
    "```\n",
    "\n",
    "```python\n",
    ">>> dodawanie(3, 5)\n",
    "8\n",
    "```"
   ]
  },
  {
   "cell_type": "markdown",
   "id": "a25bc6f1-6cb7-4d0e-804c-555f96d9e845",
   "metadata": {},
   "source": [
    "## Definiowanie funkcji\n",
    "\n",
    "Definiowanie funkcji rozpoczyna słowo kluczowe `def`, po którym określa się nazwę funkcję oraz jej parametry. Tak przygotowany nagłówek funkcji kończy się dwukropkiem `:`. Poniżej nagłówka definiuje się ciało funkcji, czyli operacje, które funkcja ma wykonać.\n",
    "\n",
    "```python\n",
    "def nazwa_funkcji(param1, param2, itd):\n",
    "    # instrukcja1\n",
    "    # instrukcja2\n",
    "    # itd.\n",
    "```\n",
    "\n",
    "`pass` - instukcja pusta\n",
    "\n",
    "```python\n",
    "def funkcja(): # ta funkcja \"nic nie robi\"\n",
    "    pass \n",
    "```"
   ]
  },
  {
   "cell_type": "code",
   "execution_count": 1,
   "id": "d1f95481-5d56-4e27-9806-12b6673df7cd",
   "metadata": {},
   "outputs": [
    {
     "name": "stdout",
     "output_type": "stream",
     "text": [
      "Hello, Shrek!\n"
     ]
    }
   ],
   "source": [
    "def say_hello(name):\n",
    "    print(f'Hello, {name}!')\n",
    "    \n",
    "say_hello('Shrek')"
   ]
  },
  {
   "cell_type": "markdown",
   "id": "33e5f9e6-a256-42c1-a640-4e02c80a7f7d",
   "metadata": {},
   "source": [
    "### Wartość zwracana\n",
    "\n",
    "W Pythonie każda funkcja zwraca jakąś wartość. Domyślnie zwracana jest wartość `None`.\n",
    "\n",
    "Do zadeklarowania wartości służy instrukcja `return`. Po wykonaniu tej instrukcji funkcja kończy swoje działanie."
   ]
  },
  {
   "cell_type": "code",
   "execution_count": 2,
   "id": "89378e01-e71d-4da0-9fd8-fb916c650499",
   "metadata": {},
   "outputs": [
    {
     "name": "stdout",
     "output_type": "stream",
     "text": [
      "Hello, Fiona!\n"
     ]
    }
   ],
   "source": [
    "x = say_hello('Fiona')"
   ]
  },
  {
   "cell_type": "code",
   "execution_count": 3,
   "id": "801285a6-fb2b-48c1-ac07-070005eeb671",
   "metadata": {},
   "outputs": [
    {
     "name": "stdout",
     "output_type": "stream",
     "text": [
      "None\n"
     ]
    }
   ],
   "source": [
    "print(x)"
   ]
  },
  {
   "cell_type": "code",
   "execution_count": 5,
   "id": "227a8775-4679-4b49-821f-4176f3148c04",
   "metadata": {},
   "outputs": [],
   "source": [
    "def add5(x):\n",
    "    return x + 5"
   ]
  },
  {
   "cell_type": "code",
   "execution_count": 6,
   "id": "042bd2db-1f69-4930-a842-e680d9d38dd9",
   "metadata": {},
   "outputs": [
    {
     "data": {
      "text/plain": [
       "7"
      ]
     },
     "execution_count": 6,
     "metadata": {},
     "output_type": "execute_result"
    }
   ],
   "source": [
    "add5(2)"
   ]
  },
  {
   "cell_type": "code",
   "execution_count": 7,
   "id": "a0436c84-085c-4f8e-ba8c-068007d4c808",
   "metadata": {},
   "outputs": [
    {
     "data": {
      "text/plain": [
       "8"
      ]
     },
     "execution_count": 7,
     "metadata": {},
     "output_type": "execute_result"
    }
   ],
   "source": [
    "x = add5(3)\n",
    "x"
   ]
  },
  {
   "cell_type": "code",
   "execution_count": 8,
   "id": "a7523797-b4d5-449e-a86a-9eb3453d9eeb",
   "metadata": {},
   "outputs": [],
   "source": [
    "def add5(x):\n",
    "    print('To się wykona')\n",
    "    return x + 5\n",
    "    print('To się nie wykona')"
   ]
  },
  {
   "cell_type": "code",
   "execution_count": 9,
   "id": "a2585869-da13-436e-a713-898097e9736e",
   "metadata": {},
   "outputs": [
    {
     "name": "stdout",
     "output_type": "stream",
     "text": [
      "To się wykona\n"
     ]
    },
    {
     "data": {
      "text/plain": [
       "8"
      ]
     },
     "execution_count": 9,
     "metadata": {},
     "output_type": "execute_result"
    }
   ],
   "source": [
    "add5(3)"
   ]
  },
  {
   "cell_type": "markdown",
   "id": "f7cdee73-0b54-417f-9904-466ed2aa233d",
   "metadata": {},
   "source": [
    "### Wyrażenia lambda"
   ]
  },
  {
   "cell_type": "markdown",
   "id": "b0aca15a-fd93-48fc-b9b9-f29049d13d33",
   "metadata": {},
   "source": [
    "Wyrażenie `lambda` można interpretować jako funkcję zapisaną w jednej linijce, której nie musimy przypisywać do zmiennej (ale możemy). Najczęstszym zastosowaniem jest użycie wyrażenia lambda jako parametru w wywołaniu funkcji.\n",
    "\n",
    "```python\n",
    "lambda argumenty: instrukcja_generująca_wynik\n",
    "```"
   ]
  },
  {
   "cell_type": "code",
   "execution_count": 10,
   "id": "8df34412-3a04-4ee8-a5f9-fa9701ae3958",
   "metadata": {},
   "outputs": [
    {
     "data": {
      "text/plain": [
       "9"
      ]
     },
     "execution_count": 10,
     "metadata": {},
     "output_type": "execute_result"
    }
   ],
   "source": [
    "kwadrat = lambda x: x ** 2\n",
    "\n",
    "kwadrat(3)"
   ]
  },
  {
   "cell_type": "code",
   "execution_count": 11,
   "id": "aa8ecaca-d813-4ad7-89ff-6d521967e47d",
   "metadata": {},
   "outputs": [],
   "source": [
    "l = [3 , -5, -2, 6]"
   ]
  },
  {
   "cell_type": "code",
   "execution_count": 12,
   "id": "03b36eb3-bcb8-46be-bd8d-aeda3cbc16ee",
   "metadata": {},
   "outputs": [
    {
     "data": {
      "text/plain": [
       "[125, 0.00032, 0.04, 15625]"
      ]
     },
     "execution_count": 12,
     "metadata": {},
     "output_type": "execute_result"
    }
   ],
   "source": [
    "list(map(lambda x: 5 ** x, l))"
   ]
  },
  {
   "cell_type": "markdown",
   "id": "e493f9da-6d2f-4998-9d8a-3229e0ac5591",
   "metadata": {},
   "source": [
    "## Parametry i argumenty"
   ]
  },
  {
   "cell_type": "markdown",
   "id": "bbc673ea-f98a-4910-85b6-d0c84a8d5279",
   "metadata": {},
   "source": [
    "### Przekazywanie argumentów"
   ]
  },
  {
   "cell_type": "markdown",
   "id": "1b2ea360-393f-49c2-8bd0-dcee19dd365d",
   "metadata": {},
   "source": [
    "> UWAGA!\n",
    ">\n",
    "> Przekazanie obiektu jako argumentu do funkcji powoduje skopiowanie referencji na niego."
   ]
  },
  {
   "cell_type": "code",
   "execution_count": 13,
   "id": "818b1735-b331-476d-b21c-88c1694221eb",
   "metadata": {},
   "outputs": [],
   "source": [
    "def add(a, b):\n",
    "    return a+b"
   ]
  },
  {
   "cell_type": "markdown",
   "id": "935f3274-5dbf-418e-bd50-1c3bc4105e64",
   "metadata": {},
   "source": [
    "```python\n",
    ">>> add(1, 2)\n",
    "3\n",
    ">>> add(1, b=2)\n",
    "3\n",
    ">>> add(a=1, b=2)\n",
    "3\n",
    ">>> add(b=2, a=1)\n",
    "3\n",
    "```"
   ]
  },
  {
   "cell_type": "code",
   "execution_count": 14,
   "id": "9e761252-33dd-4f88-b2e6-b7202778d2c8",
   "metadata": {},
   "outputs": [
    {
     "ename": "SyntaxError",
     "evalue": "positional argument follows keyword argument (3771920860.py, line 1)",
     "output_type": "error",
     "traceback": [
      "\u001b[0;36m  File \u001b[0;32m\"/var/folders/4s/1nnc16hs1kl0jwsrl3c8jcnm0000gn/T/ipykernel_59040/3771920860.py\"\u001b[0;36m, line \u001b[0;32m1\u001b[0m\n\u001b[0;31m    add(b=2, 1)\u001b[0m\n\u001b[0m              ^\u001b[0m\n\u001b[0;31mSyntaxError\u001b[0m\u001b[0;31m:\u001b[0m positional argument follows keyword argument\n"
     ]
    }
   ],
   "source": [
    "add(b=2, 1)"
   ]
  },
  {
   "cell_type": "code",
   "execution_count": 15,
   "id": "e1eba36a-2e92-4417-a868-a2bde23fa50a",
   "metadata": {},
   "outputs": [
    {
     "ename": "TypeError",
     "evalue": "add() got multiple values for argument 'a'",
     "output_type": "error",
     "traceback": [
      "\u001b[0;31m---------------------------------------------------------------------------\u001b[0m",
      "\u001b[0;31mTypeError\u001b[0m                                 Traceback (most recent call last)",
      "\u001b[0;32m/var/folders/4s/1nnc16hs1kl0jwsrl3c8jcnm0000gn/T/ipykernel_59040/2961155732.py\u001b[0m in \u001b[0;36m<cell line: 1>\u001b[0;34m()\u001b[0m\n\u001b[0;32m----> 1\u001b[0;31m \u001b[0madd\u001b[0m\u001b[0;34m(\u001b[0m\u001b[0;36m2\u001b[0m\u001b[0;34m,\u001b[0m \u001b[0ma\u001b[0m\u001b[0;34m=\u001b[0m\u001b[0;36m1\u001b[0m\u001b[0;34m)\u001b[0m\u001b[0;34m\u001b[0m\u001b[0;34m\u001b[0m\u001b[0m\n\u001b[0m",
      "\u001b[0;31mTypeError\u001b[0m: add() got multiple values for argument 'a'"
     ]
    }
   ],
   "source": [
    "add(2, a=1)"
   ]
  },
  {
   "cell_type": "markdown",
   "id": "265b2993-a688-4141-9095-ba701c1826f1",
   "metadata": {},
   "source": [
    "* argumenty typu `klucz=wartość` mogą pojawić się jedynie na końcu listy argumentów\n",
    "\n",
    "* argumenty dopasowane pozycyjnie są rozpatrywane jako pierwsze, od lewej do prawej, w kolejności zgodnej z ich występowaniem na liście argumentów funkcji."
   ]
  },
  {
   "cell_type": "markdown",
   "id": "52167ff9-04bb-44d6-a065-2945eed7b849",
   "metadata": {},
   "source": [
    "### Parametry z argumentami domyślnymi"
   ]
  },
  {
   "cell_type": "code",
   "execution_count": 16,
   "id": "d5c36d80-7d89-424b-8f8c-29ffa9879440",
   "metadata": {},
   "outputs": [],
   "source": [
    "def pierwiastek(x, st=2):\n",
    "    return x ** (1/st)"
   ]
  },
  {
   "cell_type": "code",
   "execution_count": 17,
   "id": "84bbe6df-60b4-4e83-ad89-081b5d9b3663",
   "metadata": {},
   "outputs": [
    {
     "data": {
      "text/plain": [
       "1.4142135623730951"
      ]
     },
     "execution_count": 17,
     "metadata": {},
     "output_type": "execute_result"
    }
   ],
   "source": [
    "pierwiastek(2)"
   ]
  },
  {
   "cell_type": "code",
   "execution_count": 18,
   "id": "1ed15c63-a929-4e09-90e0-07c0bf69ad6c",
   "metadata": {},
   "outputs": [
    {
     "data": {
      "text/plain": [
       "1.2599210498948732"
      ]
     },
     "execution_count": 18,
     "metadata": {},
     "output_type": "execute_result"
    }
   ],
   "source": [
    "pierwiastek(2, 3)"
   ]
  },
  {
   "cell_type": "markdown",
   "id": "86ece18e-86a8-4ef8-be46-d124e2f7c451",
   "metadata": {},
   "source": [
    "## Zasięg zmiennych"
   ]
  },
  {
   "cell_type": "markdown",
   "id": "f5e0dbe9-05d8-45a8-b2ee-c827454a510d",
   "metadata": {},
   "source": [
    "Zmienne stworzone w funkcji mają zasięg lokalny, tzn są dostępne tylko podczas wywołania funkcji.\n",
    "\n",
    "> PRZYPOMNIENIE!\n",
    ">\n",
    "> Przekazanie obiektu jako argumentu do funkcji powoduje skopiowanie referencji na niego."
   ]
  },
  {
   "cell_type": "code",
   "execution_count": 19,
   "id": "145a5783-d83f-41b4-8461-1bf85d71a585",
   "metadata": {},
   "outputs": [],
   "source": [
    "def sayHello():\n",
    "    m = 'Hello'\n",
    "    print(m)"
   ]
  },
  {
   "cell_type": "code",
   "execution_count": 20,
   "id": "aa10a1bd-77e1-4163-9a4a-9fa85c239df7",
   "metadata": {},
   "outputs": [
    {
     "name": "stdout",
     "output_type": "stream",
     "text": [
      "Hello\n"
     ]
    }
   ],
   "source": [
    "sayHello()"
   ]
  },
  {
   "cell_type": "code",
   "execution_count": 21,
   "id": "51eb2dff-fb74-49f7-b475-558898756763",
   "metadata": {},
   "outputs": [
    {
     "ename": "NameError",
     "evalue": "name 'm' is not defined",
     "output_type": "error",
     "traceback": [
      "\u001b[0;31m---------------------------------------------------------------------------\u001b[0m",
      "\u001b[0;31mNameError\u001b[0m                                 Traceback (most recent call last)",
      "\u001b[0;32m/var/folders/4s/1nnc16hs1kl0jwsrl3c8jcnm0000gn/T/ipykernel_59040/1497821502.py\u001b[0m in \u001b[0;36m<cell line: 1>\u001b[0;34m()\u001b[0m\n\u001b[0;32m----> 1\u001b[0;31m \u001b[0mm\u001b[0m\u001b[0;34m\u001b[0m\u001b[0;34m\u001b[0m\u001b[0m\n\u001b[0m",
      "\u001b[0;31mNameError\u001b[0m: name 'm' is not defined"
     ]
    }
   ],
   "source": [
    "m"
   ]
  },
  {
   "cell_type": "code",
   "execution_count": 22,
   "id": "9151f939-c10a-4292-88eb-2e0912ef06b6",
   "metadata": {},
   "outputs": [],
   "source": [
    "def sayHello2():\n",
    "    print(m)"
   ]
  },
  {
   "cell_type": "code",
   "execution_count": 23,
   "id": "f25d45df-a6f3-417c-85a8-6b1f89d7f29e",
   "metadata": {},
   "outputs": [
    {
     "ename": "NameError",
     "evalue": "name 'm' is not defined",
     "output_type": "error",
     "traceback": [
      "\u001b[0;31m---------------------------------------------------------------------------\u001b[0m",
      "\u001b[0;31mNameError\u001b[0m                                 Traceback (most recent call last)",
      "\u001b[0;32m/var/folders/4s/1nnc16hs1kl0jwsrl3c8jcnm0000gn/T/ipykernel_59040/3731339800.py\u001b[0m in \u001b[0;36m<cell line: 1>\u001b[0;34m()\u001b[0m\n\u001b[0;32m----> 1\u001b[0;31m \u001b[0msayHello2\u001b[0m\u001b[0;34m(\u001b[0m\u001b[0;34m)\u001b[0m\u001b[0;34m\u001b[0m\u001b[0;34m\u001b[0m\u001b[0m\n\u001b[0m",
      "\u001b[0;32m/var/folders/4s/1nnc16hs1kl0jwsrl3c8jcnm0000gn/T/ipykernel_59040/3391627278.py\u001b[0m in \u001b[0;36msayHello2\u001b[0;34m()\u001b[0m\n\u001b[1;32m      1\u001b[0m \u001b[0;32mdef\u001b[0m \u001b[0msayHello2\u001b[0m\u001b[0;34m(\u001b[0m\u001b[0;34m)\u001b[0m\u001b[0;34m:\u001b[0m\u001b[0;34m\u001b[0m\u001b[0;34m\u001b[0m\u001b[0m\n\u001b[0;32m----> 2\u001b[0;31m     \u001b[0mprint\u001b[0m\u001b[0;34m(\u001b[0m\u001b[0mm\u001b[0m\u001b[0;34m)\u001b[0m\u001b[0;34m\u001b[0m\u001b[0;34m\u001b[0m\u001b[0m\n\u001b[0m",
      "\u001b[0;31mNameError\u001b[0m: name 'm' is not defined"
     ]
    }
   ],
   "source": [
    "sayHello2()"
   ]
  },
  {
   "cell_type": "code",
   "execution_count": 24,
   "id": "324a9c06-c09c-42f9-8516-afb5cc609671",
   "metadata": {},
   "outputs": [
    {
     "name": "stdout",
     "output_type": "stream",
     "text": [
      "Hello2\n"
     ]
    }
   ],
   "source": [
    "m = 'Hello2'\n",
    "sayHello2()"
   ]
  },
  {
   "cell_type": "code",
   "execution_count": 25,
   "id": "08096656-08f4-486d-8ded-b73def7e709b",
   "metadata": {},
   "outputs": [
    {
     "name": "stdout",
     "output_type": "stream",
     "text": [
      "Hello\n"
     ]
    }
   ],
   "source": [
    "sayHello()"
   ]
  },
  {
   "cell_type": "code",
   "execution_count": 26,
   "id": "b19a74b7-067e-4672-aa49-3e76e2f353c2",
   "metadata": {},
   "outputs": [],
   "source": [
    "l = [2, 3, 5]"
   ]
  },
  {
   "cell_type": "code",
   "execution_count": 27,
   "id": "035bead7-3727-4365-b559-5a2a2abf8b05",
   "metadata": {},
   "outputs": [],
   "source": [
    "def doklej_element(lista, element):\n",
    "    lista.append(element)\n",
    "    return lista"
   ]
  },
  {
   "cell_type": "code",
   "execution_count": 28,
   "id": "8b72281f-0606-48f5-b6bf-54428661a21e",
   "metadata": {},
   "outputs": [
    {
     "data": {
      "text/plain": [
       "[2, 3, 5, 1]"
      ]
     },
     "execution_count": 28,
     "metadata": {},
     "output_type": "execute_result"
    }
   ],
   "source": [
    "doklej_element(l, 1)"
   ]
  },
  {
   "cell_type": "code",
   "execution_count": 29,
   "id": "6f4c1da1-9d4c-4d50-921d-283fa58af4e6",
   "metadata": {},
   "outputs": [
    {
     "data": {
      "text/plain": [
       "[2, 3, 5, 1]"
      ]
     },
     "execution_count": 29,
     "metadata": {},
     "output_type": "execute_result"
    }
   ],
   "source": [
    "l"
   ]
  },
  {
   "cell_type": "code",
   "execution_count": 30,
   "id": "0b8b126c-cc95-4c7e-afd3-6c25711b3167",
   "metadata": {},
   "outputs": [],
   "source": [
    "l = [2, 3, 5]\n",
    "\n",
    "def doklej_element2(lista, element):\n",
    "    lista = lista.copy()\n",
    "    lista.append(element)\n",
    "    return lista"
   ]
  },
  {
   "cell_type": "code",
   "execution_count": 31,
   "id": "ac337bb5-d1fa-4b64-bb55-db6331588c59",
   "metadata": {},
   "outputs": [
    {
     "data": {
      "text/plain": [
       "[2, 3, 5, 1]"
      ]
     },
     "execution_count": 31,
     "metadata": {},
     "output_type": "execute_result"
    }
   ],
   "source": [
    "doklej_element2(l, 1)"
   ]
  },
  {
   "cell_type": "code",
   "execution_count": 32,
   "id": "23baf151-f4aa-41d2-ad2c-a0067acd8f47",
   "metadata": {},
   "outputs": [
    {
     "data": {
      "text/plain": [
       "[2, 3, 5]"
      ]
     },
     "execution_count": 32,
     "metadata": {},
     "output_type": "execute_result"
    }
   ],
   "source": [
    "l"
   ]
  },
  {
   "cell_type": "code",
   "execution_count": 33,
   "id": "fae97422-04d9-4ef7-89e2-57e4662efbc6",
   "metadata": {},
   "outputs": [
    {
     "data": {
      "text/plain": [
       "[2, 3, 5, 1]"
      ]
     },
     "execution_count": 33,
     "metadata": {},
     "output_type": "execute_result"
    }
   ],
   "source": [
    "doklej_element(l.copy(), 1)"
   ]
  },
  {
   "cell_type": "code",
   "execution_count": 34,
   "id": "06f78fc3-c74c-4138-94ff-f69fcd4f1a59",
   "metadata": {},
   "outputs": [
    {
     "data": {
      "text/plain": [
       "[2, 3, 5]"
      ]
     },
     "execution_count": 34,
     "metadata": {},
     "output_type": "execute_result"
    }
   ],
   "source": [
    "l"
   ]
  }
 ],
 "metadata": {
  "kernelspec": {
   "display_name": "Python 3 (ipykernel)",
   "language": "python",
   "name": "python3"
  },
  "language_info": {
   "codemirror_mode": {
    "name": "ipython",
    "version": 3
   },
   "file_extension": ".py",
   "mimetype": "text/x-python",
   "name": "python",
   "nbconvert_exporter": "python",
   "pygments_lexer": "ipython3",
   "version": "3.9.13"
  },
  "toc-autonumbering": true
 },
 "nbformat": 4,
 "nbformat_minor": 5
}
