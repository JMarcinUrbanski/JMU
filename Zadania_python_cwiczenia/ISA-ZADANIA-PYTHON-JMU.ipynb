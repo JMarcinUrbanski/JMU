{
 "cells": [
  {
   "cell_type": "markdown",
   "id": "40e3ced1-c88c-4fe9-8b01-72bfe20a9dff",
   "metadata": {},
   "source": [
    "# ZADANIE DOMOWE - Day__3_python_instrukcje_petle/ - 22.03.2025"
   ]
  },
  {
   "cell_type": "markdown",
   "id": "f738da3e-6e46-478d-8f3b-b42cc6d9c5fe",
   "metadata": {},
   "source": [
    "### Zadanie 1 - OK\n",
    "Napisz program, który z listy liczb wyciągnie tylko liczby parzyste i obliczy ich sumę.\n",
    "```python\n",
    "numbers = [10, 15, 8, 23, 42, 7, 18, 5]\n",
    "```"
   ]
  },
  {
   "cell_type": "code",
   "execution_count": 107,
   "id": "7076fa5c-5282-4d48-b7fc-5ec2c4b8234f",
   "metadata": {},
   "outputs": [],
   "source": [
    "numbers = [10, 15, 8, 23, 42, 7, 18, 5]"
   ]
  },
  {
   "cell_type": "code",
   "execution_count": 108,
   "id": "3547f25b-bcd3-44d7-8ecc-87b42eabb319",
   "metadata": {},
   "outputs": [
    {
     "name": "stdout",
     "output_type": "stream",
     "text": [
      "[10, 8, 42, 18]\n"
     ]
    }
   ],
   "source": [
    "even_num = []\n",
    "\n",
    "for n in numbers:\n",
    "    if n % 2 == 0:\n",
    "        even_num.append(n) \n",
    "print(even_num)"
   ]
  },
  {
   "cell_type": "markdown",
   "id": "95e32f99-b2f1-456d-a500-1c894db66696",
   "metadata": {},
   "source": [
    "### Zadanie 2 - ?????????????????????????\n",
    "\n",
    "Sprawdź, czy lista jest posortowana rosnąco. Napisz program, który sprawdzi, czy lista liczb jest posortowana rosnąco.\n",
    "```python\n",
    "numbers = [2, 4, 7, 9, 11, 15]\n",
    "```"
   ]
  },
  {
   "cell_type": "code",
   "execution_count": 110,
   "id": "79d94e08-cd1e-4c28-a193-47edc190cd6b",
   "metadata": {},
   "outputs": [],
   "source": [
    "numbers = [2, 4, 7, 9, 11, 15]"
   ]
  },
  {
   "cell_type": "code",
   "execution_count": null,
   "id": "bac8adf3-6f5d-4ba6-a0cb-e344388b9f8c",
   "metadata": {},
   "outputs": [],
   "source": []
  },
  {
   "cell_type": "markdown",
   "id": "16a03086-9223-475b-b58b-0103be55ec4f",
   "metadata": {},
   "source": [
    "### Zadanie 3 - OK \n",
    "\n",
    "Zliczanie wystąpień słów w liście. Dla podanej listy słów zlicz, ile razy każde słowo występuje.\n",
    "\n",
    "```python\n",
    "words = [\"kot\", \"pies\", \"kot\", \"ptak\", \"pies\", \"pies\", \"kot\"]\n",
    "```\n",
    "\n",
    "Oczekiwany wynik:\n",
    "```yaml\n",
    "kot: 3\n",
    "pies: 3\n",
    "ptak: 1\n",
    "```"
   ]
  },
  {
   "cell_type": "code",
   "execution_count": 112,
   "id": "afdfd308-3b07-4832-9d32-2726c55c6698",
   "metadata": {},
   "outputs": [
    {
     "name": "stdout",
     "output_type": "stream",
     "text": [
      "kot: 3 \n",
      "pies: 3 \n",
      "ptak: 1\n"
     ]
    }
   ],
   "source": [
    "words = [\"kot\", \"pies\", \"kot\", \"ptak\", \"pies\", \"pies\", \"kot\"]\n",
    "count_kot=0\n",
    "count_pies=0\n",
    "count_ptak=0\n",
    "\n",
    "set(words)\n",
    "\n",
    "for animal in words:\n",
    "    if animal == 'kot':\n",
    "        count_kot += 1\n",
    "    elif animal == 'pies':\n",
    "        count_pies += 1\n",
    "    elif animal == 'ptak':\n",
    "        count_ptak += 1 \n",
    "    else:\n",
    "        print('error')\n",
    "print(f'kot: {count_kot} \\npies: {count_pies} \\nptak: {count_ptak}')\n",
    "    \n"
   ]
  },
  {
   "cell_type": "markdown",
   "id": "bbfa8f58-314d-45ef-8dfc-41e2777174cf",
   "metadata": {},
   "source": [
    "### Zadanie 4 - OK\n",
    "Odwracanie liczby (pętla while). Napisz program, który odwróci podaną przez użytkownika liczbę całkowitą.\n",
    "\n",
    "```yaml\n",
    "Podaj liczbę: 1234\n",
    "Odwrócona liczba: 4321\n",
    "```"
   ]
  },
  {
   "cell_type": "code",
   "execution_count": 114,
   "id": "920cb112-cab4-46e5-b552-790dc52007d6",
   "metadata": {},
   "outputs": [
    {
     "name": "stdin",
     "output_type": "stream",
     "text": [
      "Podaj liczbe:  1234\n"
     ]
    },
    {
     "name": "stdout",
     "output_type": "stream",
     "text": [
      "Odwrócona liczba  :  ['4', '3', '2', '1']\n"
     ]
    }
   ],
   "source": [
    "liczba = list(input('Podaj liczbe: '))\n",
    "l=0\n",
    "reverse_list=[]\n",
    "\n",
    "while l <= len(liczba)+2:\n",
    "    reverse_list.append(liczba.pop())\n",
    "    l+=1\n",
    "\n",
    "print('Odwrócona liczba  : ',(reverse_list))"
   ]
  },
  {
   "cell_type": "code",
   "execution_count": 115,
   "id": "00a1d935-21d1-4c90-9521-e9986768a527",
   "metadata": {},
   "outputs": [
    {
     "name": "stdin",
     "output_type": "stream",
     "text": [
      "Podaj liczbe:  1244\n"
     ]
    },
    {
     "name": "stdout",
     "output_type": "stream",
     "text": [
      "Odwrócona iczba: 4421 \n"
     ]
    }
   ],
   "source": [
    "liczba = input('Podaj liczbe: ')\n",
    "reverse=''\n",
    "count = 0\n",
    "while count > -len(liczba):\n",
    "    reverse += liczba[count-1]\n",
    "    count -= 1\n",
    "\n",
    "print(f'Odwrócona iczba: {reverse} ')"
   ]
  },
  {
   "cell_type": "code",
   "execution_count": 116,
   "id": "f6451c10-246d-4c56-8e1a-e3daf30ffece",
   "metadata": {},
   "outputs": [
    {
     "ename": "SyntaxError",
     "evalue": "unmatched ')' (2156609820.py, line 2)",
     "output_type": "error",
     "traceback": [
      "\u001b[0;36m  Cell \u001b[0;32mIn[116], line 2\u001b[0;36m\u001b[0m\n\u001b[0;31m    print(list(r)))\u001b[0m\n\u001b[0m                  ^\u001b[0m\n\u001b[0;31mSyntaxError\u001b[0m\u001b[0;31m:\u001b[0m unmatched ')'\n"
     ]
    }
   ],
   "source": [
    "r=range(1,5)\n",
    "print(list(r)))\n",
    "\n",
    "\n",
    "print(str(list(r).pop(2)))\n"
   ]
  },
  {
   "cell_type": "code",
   "execution_count": null,
   "id": "f9dd260a-d869-4d67-9c77-82cdb2044527",
   "metadata": {},
   "outputs": [],
   "source": [
    "liczba='1234'\n",
    "print(type(-len(liczba)))"
   ]
  },
  {
   "cell_type": "markdown",
   "id": "3dae7ae0-0224-42ef-9c06-a5fe305273d8",
   "metadata": {},
   "source": [
    "### Zadanie 5 - OK \n",
    "Zgadnij liczbę (pętla while). Napisz prostą grę, w której program losuje liczbę od 1 do 10, a użytkownik zgaduje aż trafi. \n",
    "\n",
    "Podpowiedź: wygeneruj losowa liczbę z przedziału 1-10 która musisz zgadnać za pomoca funkcji random.randint()\n",
    "\n",
    "przykład użycia:\n",
    "```yaml\n",
    "Zgadnij liczbę (1-10): 5\n",
    "Za mało!\n",
    "Zgadnij liczbę (1-10): 7\n",
    "Brawo! Zgadłeś!\n",
    "```"
   ]
  },
  {
   "cell_type": "code",
   "execution_count": null,
   "id": "75129a45-d773-41e5-9805-bfa348d1b416",
   "metadata": {},
   "outputs": [
    {
     "name": "stdin",
     "output_type": "stream",
     "text": [
      "Zgadnij liczbę (1-10):  4\n"
     ]
    },
    {
     "name": "stdout",
     "output_type": "stream",
     "text": [
      "Za dużo!\n"
     ]
    },
    {
     "name": "stdin",
     "output_type": "stream",
     "text": [
      "Zgadnij liczbę (1-10):  5\n"
     ]
    },
    {
     "name": "stdout",
     "output_type": "stream",
     "text": [
      "Za dużo!\n"
     ]
    }
   ],
   "source": [
    "import random \n",
    "r=random.randint(1,10)\n",
    "count=0\n",
    "\n",
    "while count<10:\n",
    "    inp = int(input('Zgadnij liczbę (1-10): '))\n",
    "    if r != inp and r > inp:\n",
    "        print('Za mało!')     \n",
    "    elif r != inp and r < inp:\n",
    "        print('Za dużo!')\n",
    "    else:\n",
    "        r == inp\n",
    "        print(f'Brawo! Szukana liczba to {r}')\n",
    "        break\n",
    "    count+=1"
   ]
  },
  {
   "cell_type": "code",
   "execution_count": 28,
   "id": "70e1380f-d82d-458b-bd2f-bd2ec9f81e23",
   "metadata": {},
   "outputs": [
    {
     "name": "stdout",
     "output_type": "stream",
     "text": [
      "8\n"
     ]
    }
   ],
   "source": [
    "import random\n",
    "print(random.randint(1,10))"
   ]
  },
  {
   "cell_type": "markdown",
   "id": "09ba4c9d-9676-4951-bfdb-8ccd3ea49b45",
   "metadata": {},
   "source": [
    "### Zadanie 6   - OK \n",
    "\n",
    "Sprawdź, czy podany tekst to palindrom. Poproś użytkownika o wpisanie słowa lub zdania i sprawdź, czy jest palindromem (czytane od tyłu daje to samo). Ignoruj spacje i wielkość liter.\n",
    "\n",
    "przykład:\n",
    "```yaml\n",
    "Podaj tekst: Kajak\n",
    "Wynik: To palindrom\n",
    "```\n",
    "\n"
   ]
  },
  {
   "cell_type": "code",
   "execution_count": null,
   "id": "ead85c1a-315b-48ff-84a8-512ca5419753",
   "metadata": {},
   "outputs": [],
   "source": [
    "\n",
    "\n"
   ]
  },
  {
   "cell_type": "code",
   "execution_count": 68,
   "id": "33e1f07d-8daf-4c19-be88-73f20cf985fa",
   "metadata": {},
   "outputs": [
    {
     "name": "stdin",
     "output_type": "stream",
     "text": [
      "Podaj tekst:  kajak\n"
     ]
    },
    {
     "name": "stdout",
     "output_type": "stream",
     "text": [
      "To palindrom\n"
     ]
    }
   ],
   "source": [
    "tekst = input('Podaj tekst: ')\n",
    "reverse=''\n",
    "count = 0\n",
    "\n",
    "while count > -len(tekst):\n",
    "    reverse += tekst[count-1]\n",
    "    count -= 1\n",
    "if reverse == tekst:\n",
    "    print('To palindrom')\n",
    "else:\n",
    "    print('To NIE JEST palindrom')\n"
   ]
  },
  {
   "cell_type": "code",
   "execution_count": null,
   "id": "0f40df1a-b6d2-44e7-9380-1b2e931e0530",
   "metadata": {},
   "outputs": [],
   "source": []
  },
  {
   "cell_type": "markdown",
   "id": "53f5c6cf-b65c-4ea4-9f4f-85f5e40643b9",
   "metadata": {},
   "source": [
    "# Zadanie 7 (troszkę trudniejsze)\n",
    "Zlicz samogłoski i spółgłoski. Napisz program, który zliczy liczbę samogłosek i spółgłosek w podanym przez użytkownika zdaniu. Pomijaj znaki inne niż litery.\n",
    "```yaml\n",
    "Podaj zdanie: Ala ma kota.\n",
    "Samogłoski: 5\n",
    "Spółgłoski: 4\n",
    "```"
   ]
  },
  {
   "cell_type": "code",
   "execution_count": null,
   "id": "4dd49885-be61-4cb6-8d6e-6cdd2116d1b4",
   "metadata": {},
   "outputs": [],
   "source": []
  },
  {
   "cell_type": "code",
   "execution_count": null,
   "id": "19932048-c9dc-4184-9f00-97ac3c10e328",
   "metadata": {},
   "outputs": [],
   "source": []
  },
  {
   "cell_type": "code",
   "execution_count": null,
   "id": "0e64fb7c-fab5-4cf0-9b47-b68da5f9f966",
   "metadata": {},
   "outputs": [],
   "source": []
  },
  {
   "cell_type": "code",
   "execution_count": null,
   "id": "5dcfad68-2192-4d8e-84d0-d7f25adde0af",
   "metadata": {},
   "outputs": [],
   "source": []
  },
  {
   "cell_type": "code",
   "execution_count": null,
   "id": "d6dac3ef-0b49-483a-bb76-4ea353e96ad2",
   "metadata": {},
   "outputs": [],
   "source": []
  },
  {
   "cell_type": "code",
   "execution_count": null,
   "id": "aebf2d40-4c0f-4aba-b786-677b841c7a76",
   "metadata": {},
   "outputs": [],
   "source": []
  },
  {
   "cell_type": "code",
   "execution_count": null,
   "id": "b826a6e7-53a1-47a7-a242-47c5492577e6",
   "metadata": {},
   "outputs": [],
   "source": []
  },
  {
   "cell_type": "code",
   "execution_count": null,
   "id": "245ef91b-d59e-4b93-898e-9090f7554193",
   "metadata": {},
   "outputs": [],
   "source": []
  },
  {
   "cell_type": "code",
   "execution_count": null,
   "id": "a067f7d4-5381-4eb3-b630-8f7f1a047af9",
   "metadata": {},
   "outputs": [],
   "source": []
  }
 ],
 "metadata": {
  "kernelspec": {
   "display_name": "Python [conda env:base] *",
   "language": "python",
   "name": "conda-base-py"
  },
  "language_info": {
   "codemirror_mode": {
    "name": "ipython",
    "version": 3
   },
   "file_extension": ".py",
   "mimetype": "text/x-python",
   "name": "python",
   "nbconvert_exporter": "python",
   "pygments_lexer": "ipython3",
   "version": "3.12.7"
  }
 },
 "nbformat": 4,
 "nbformat_minor": 5
}
