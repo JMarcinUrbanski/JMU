{
 "cells": [
  {
   "cell_type": "markdown",
   "metadata": {},
   "source": [
    "#### Zadanie 1\n",
    "\n",
    "Stwórz słownik w którym będą dane z poniższej krotki pod kluczami `imie`, `nazwisko`, `wiek`"
   ]
  },
  {
   "cell_type": "code",
   "execution_count": 59,
   "metadata": {},
   "outputs": [
    {
     "name": "stdout",
     "output_type": "stream",
     "text": [
      "{'imie': 'Adam', 'nazwisko': 'Nowak', 'wiek': [35]}\n"
     ]
    }
   ],
   "source": [
    "dane = (\"Adam\", \"Nowak\", 35)\n",
    "\n",
    "D={}\n",
    "D['imie']='Adam'\n",
    "D['nazwisko']='Nowak'\n",
    "D['wiek']=[35]\n",
    "\n",
    "print(D)"
   ]
  },
  {
   "cell_type": "markdown",
   "metadata": {},
   "source": [
    "#### Zadanie 2\n",
    "\n",
    "Dodaj do słownika wartość \"programista\" pod kluczem `zawód`"
   ]
  },
  {
   "cell_type": "code",
   "execution_count": 101,
   "metadata": {},
   "outputs": [
    {
     "name": "stdout",
     "output_type": "stream",
     "text": [
      "50\n",
      "[0, 10, 20, 30, 40, 60]\n"
     ]
    }
   ],
   "source": [
    "D['zawod']=['programista','prawnik','lekarz']\n",
    "\n",
    "list=[00,10,20,30,40,50,60]\n",
    "\n",
    "print(list.pop(5))\n",
    "\n",
    "print(list)"
   ]
  },
  {
   "cell_type": "code",
   "execution_count": 135,
   "metadata": {},
   "outputs": [
    {
     "name": "stdout",
     "output_type": "stream",
     "text": [
      "<class 'list'>\n"
     ]
    }
   ],
   "source": [
    "\n",
    "D['zawod']=['programosta','lekarz']\n",
    "print(type(D['wiek']))"
   ]
  },
  {
   "cell_type": "markdown",
   "metadata": {},
   "source": [
    "#### Zadanie 3\n",
    "\n",
    "Iterując przez listę słowników, wypisz wszystkie imiona"
   ]
  },
  {
   "cell_type": "code",
   "execution_count": 9,
   "metadata": {},
   "outputs": [],
   "source": [
    "rekordy = [\n",
    "    {\"imie\": \"Adam\", \"nazwisko\": \"Nowak\", \"wiek\": 35},\n",
    "    {\"imie\": \"Anna\", \"nazwisko\": \"Nowak\", \"wiek\": 29},\n",
    "    {\"imie\": \"Artur\", \"nazwisko\": \"Nowakowski\", \"wiek\": 39},\n",
    "    {\"imie\": \"Alojzy\", \"nazwisko\": \"Kowalski\", \"wiek\": 19}\n",
    "]"
   ]
  },
  {
   "cell_type": "code",
   "execution_count": 151,
   "metadata": {},
   "outputs": [
    {
     "name": "stdout",
     "output_type": "stream",
     "text": [
      "Adam\n",
      "Anna\n",
      "Artur\n",
      "Alojzy\n"
     ]
    }
   ],
   "source": [
    "for i in rekordy:\n",
    "    print(i[\"imie\"])"
   ]
  },
  {
   "cell_type": "markdown",
   "metadata": {},
   "source": [
    "#### Zadanie 4\n",
    "\n",
    "Iterując przez listę słowników wypisz dane tych osób, które mają więcej niż 30 lat"
   ]
  },
  {
   "cell_type": "code",
   "execution_count": null,
   "metadata": {},
   "outputs": [],
   "source": [
    "rekordy = [\n",
    "    {\"imie\": \"Adam\", \"nazwisko\": \"Nowak\", \"wiek\": 35},\n",
    "    {\"imie\": \"Anna\", \"nazwisko\": \"Nowak\", \"wiek\": 29},\n",
    "    {\"imie\": \"Artur\", \"nazwisko\": \"Nowakowski\", \"wiek\": 39},\n",
    "    {\"imie\": \"Alojzy\", \"nazwisko\": \"Kowalski\", \"wiek\": 19}\n",
    "]"
   ]
  },
  {
   "cell_type": "code",
   "execution_count": 147,
   "metadata": {},
   "outputs": [
    {
     "name": "stdout",
     "output_type": "stream",
     "text": [
      "{'imie': 'Adam', 'nazwisko': 'Nowak', 'wiek': 35}\n",
      "{'imie': 'Artur', 'nazwisko': 'Nowakowski', 'wiek': 39}\n"
     ]
    }
   ],
   "source": [
    "for wiek in rekordy:\n",
    "    if wiek.get('wiek') > 30:\n",
    "        print(wiek)"
   ]
  },
  {
   "cell_type": "code",
   "execution_count": 149,
   "metadata": {},
   "outputs": [
    {
     "name": "stdout",
     "output_type": "stream",
     "text": [
      "{'imie': 'Adam', 'nazwisko': 'Nowak', 'wiek': 35}\n",
      "{'imie': 'Artur', 'nazwisko': 'Nowakowski', 'wiek': 39}\n"
     ]
    }
   ],
   "source": [
    "for w in rekordy:\n",
    "    if w['wiek']>30:\n",
    "        print(w)"
   ]
  },
  {
   "cell_type": "markdown",
   "metadata": {},
   "source": [
    "#### Zadanie 5\n",
    "\n",
    "Napisz funkcję, która przyjmie słownik i wypisze wszystkie elementy w formie `<klucz> : <wartość>`\n",
    "\n",
    "Np. dla `{\"id\": 1, \"marka\": \"Audi\"}`\n",
    "\n",
    "```\n",
    "id : 1\n",
    "marka : Audi\n",
    "```"
   ]
  },
  {
   "cell_type": "code",
   "execution_count": 243,
   "metadata": {},
   "outputs": [
    {
     "name": "stdout",
     "output_type": "stream",
     "text": [
      "id : 1\n",
      "marka : Audi\n",
      "------------------\n",
      "id : 1\n",
      "marka : Audi\n"
     ]
    }
   ],
   "source": [
    "auta={\"id\": 1, \"marka\": \"Audi\"}\n",
    "\n",
    "\n",
    "for k in auta:\n",
    "    print(f'{k} : {auta[k]}')\n",
    "\n",
    "print('------------------')\n",
    "\n",
    "for klucz,wartosc in auta.items():\n",
    "    print(f'{klucz} : {wartosc}')\n"
   ]
  },
  {
   "cell_type": "markdown",
   "metadata": {},
   "source": [
    "#### Zadanie 6\n",
    "\n",
    "Dopisz do każdego słownika z listy klucz `zawód` z odpowiednią wartością (zgodnie z kolejnością)"
   ]
  },
  {
   "cell_type": "code",
   "execution_count": 253,
   "metadata": {},
   "outputs": [
    {
     "name": "stdout",
     "output_type": "stream",
     "text": [
      "{'imie': 'Adam', 'nazwisko': 'Nowak', 'wiek': 35, 'zawod': 'programista java'}\n",
      "{'imie': 'Anna', 'nazwisko': 'Nowak', 'wiek': 29, 'zawod': 'Programistka PHP'}\n",
      "{'imie': 'Artur', 'nazwisko': 'Nowakowski', 'wiek': 39, 'zawod': 'Programista Python'}\n",
      "{'imie': 'Alojzy', 'nazwisko': 'Kowalski', 'wiek': 19, 'zawod': 'CEO startupu'}\n",
      "-----------------------\n",
      "[{'imie': 'Adam', 'nazwisko': 'Nowak', 'wiek': 35, 'zawod': 'Programista Java'}, {'imie': 'Anna', 'nazwisko': 'Nowak', 'wiek': 29, 'zawod': 'Programistka PHP'}, {'imie': 'Artur', 'nazwisko': 'Nowakowski', 'wiek': 39, 'zawod': 'Programista Python'}, {'imie': 'Alojzy', 'nazwisko': 'Kowalski', 'wiek': 19, 'zawod': 'CEO startupu'}]\n",
      "----------------\n",
      "{'imie': 'Adam', 'nazwisko': 'Nowak', 'wiek': 35, 'zawod': 'Programista Java', 'zawód': 'Programista Java'}\n",
      "{'imie': 'Anna', 'nazwisko': 'Nowak', 'wiek': 29, 'zawod': 'Programistka PHP', 'zawód': 'Programistka PHP'}\n",
      "{'imie': 'Artur', 'nazwisko': 'Nowakowski', 'wiek': 39, 'zawod': 'Programista Python', 'zawód': 'Programista Python'}\n",
      "{'imie': 'Alojzy', 'nazwisko': 'Kowalski', 'wiek': 19, 'zawod': 'CEO startupu', 'zawód': 'CEO startupu'}\n"
     ]
    }
   ],
   "source": [
    "rekordy = [\n",
    "    {\"imie\": \"Adam\", \"nazwisko\": \"Nowak\", \"wiek\": 35},\n",
    "    {\"imie\": \"Anna\", \"nazwisko\": \"Nowak\", \"wiek\": 29},\n",
    "    {\"imie\": \"Artur\", \"nazwisko\": \"Nowakowski\", \"wiek\": 39},\n",
    "    {\"imie\": \"Alojzy\", \"nazwisko\": \"Kowalski\", \"wiek\": 19}\n",
    "]\n",
    "zawody = [\"Programista Java\", \"Programistka PHP\", \"Programista Python\", \"CEO startupu\"]\n",
    "\n",
    "rekordy[0]['zawod']='programista java'\n",
    "rekordy[1]['zawod']='Programistka PHP'\n",
    "rekordy[2]['zawod']='Programista Python'\n",
    "rekordy[3]['zawod']='CEO startupu'\n",
    "\n",
    "for osoby in rekordy:\n",
    "    print(osoby)\n",
    "\n",
    "\n",
    "print('-----------------------')\n",
    "\n",
    "\n",
    "for i in range(len(rekordy)):\n",
    "    osoba=rekordy[i]\n",
    "    osoba['zawod']=zawody[i]\n",
    "print(rekordy)\n",
    "\n",
    "\n",
    "print('----------------')\n",
    "\n",
    "for osoba, zawod in zip(rekordy, zawody):\n",
    "    osoba[\"zawód\"] = zawod\n",
    "\n",
    "for el in rekordy:\n",
    "    print(el)\n",
    "\n"
   ]
  },
  {
   "cell_type": "markdown",
   "metadata": {},
   "source": [
    "#### Zadanie 7\n",
    "\n",
    "Na podstawie listy słowników stwórz drugą listę, w której słowniki będą zawierały wyłącznie klucze `imie` i `nazwisko`"
   ]
  },
  {
   "cell_type": "code",
   "execution_count": 329,
   "metadata": {},
   "outputs": [],
   "source": [
    "rekordy = [\n",
    "    {\"imie\": \"Adam\", \"nazwisko\": \"Nowak\", \"wiek\": 35},\n",
    "    {\"imie\": \"Anna\", \"nazwisko\": \"Nowak\", \"wiek\": 29},\n",
    "    {\"imie\": \"Artur\", \"nazwisko\": \"Nowakowski\", \"wiek\": 39},\n",
    "    {\"imie\": \"Alojzy\", \"nazwisko\": \"Kowalski\", \"wiek\": 19}\n",
    "]"
   ]
  },
  {
   "cell_type": "code",
   "execution_count": 343,
   "metadata": {},
   "outputs": [
    {
     "name": "stdout",
     "output_type": "stream",
     "text": [
      "===========\n",
      "[{'imie': 'Adam', 'nazwisko': 'Nowak'}, {'imie': 'Anna', 'nazwisko': 'Nowak'}, {'imie': 'Artur', 'nazwisko': 'Nowakowski'}, {'imie': 'Alojzy', 'nazwisko': 'Kowalski'}]\n"
     ]
    }
   ],
   "source": [
    "rekordy2=[]\n",
    "rekordy3=[]\n",
    "\n",
    "#for e in rekordy:\n",
    " #   e.popitem()\n",
    "  #  rekordy2.append(e)\n",
    "\n",
    "#print(rekordy2)\n",
    "\n",
    "print('===========')\n",
    "\n",
    "\n",
    "for osoba in rekordy:\n",
    "    okrojona_osoba = {\"imie\": osoba[\"imie\"], \"nazwisko\": osoba[\"nazwisko\"]}\n",
    "    rekordy3.append(okrojona_osoba)\n",
    "\n",
    "print(rekordy3)\n"
   ]
  }
 ],
 "metadata": {
  "kernelspec": {
   "display_name": "Python [conda env:base] *",
   "language": "python",
   "name": "conda-base-py"
  },
  "language_info": {
   "codemirror_mode": {
    "name": "ipython",
    "version": 3
   },
   "file_extension": ".py",
   "mimetype": "text/x-python",
   "name": "python",
   "nbconvert_exporter": "python",
   "pygments_lexer": "ipython3",
   "version": "3.12.7"
  }
 },
 "nbformat": 4,
 "nbformat_minor": 4
}
