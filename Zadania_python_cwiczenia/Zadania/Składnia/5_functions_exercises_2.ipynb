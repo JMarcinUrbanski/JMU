{
 "cells": [
  {
   "cell_type": "markdown",
   "metadata": {},
   "source": [
    "#### Zadanie 1\n",
    "\n",
    "Napisz funkcję `wypisz_powitanie`, która jako argument przyjmie imie i wypisze (wypisze, nie zwróci) tekst: \"Miło Cię widzieć `imie`!\"\n",
    "\n",
    "Zadbaj o wielką literę!\n",
    "\n",
    "Np. dla `imie=\"marian\"`\n",
    "\n",
    "```\n",
    "\"Miło Cię widzieć Marian!\"\n",
    "```"
   ]
  },
  {
   "cell_type": "code",
   "execution_count": 26,
   "metadata": {},
   "outputs": [
    {
     "name": "stdout",
     "output_type": "stream",
     "text": [
      "Miło Cię widzieć Marian!\n"
     ]
    }
   ],
   "source": [
    "imie=\"Marian\"\n",
    "\n",
    "def wypisz_powitanie(imie):\n",
    "    print(f'Miło Cię widzieć {imie}!')\n",
    "\n",
    "\n",
    "wypisz_powitanie(imie)"
   ]
  },
  {
   "cell_type": "markdown",
   "metadata": {},
   "source": [
    "#### Zadanie 2\n",
    "\n",
    "Ulepsz funkcję `wypisz_powitanie` dodając zmienną opcjonalną `nieformalnie`, z domyślną wartością `False`\n",
    "\n",
    "Funkcja wywołana z opcją `nieformalnie=True` powinna wypisać \"Siemasz `imie`!\"\n",
    "\n",
    "Np. dla `imie=\"marian\"` i `nieformalnie=False`\n",
    "\n",
    "```\n",
    "\"Miło Cię widzieć Marian!\"\n",
    "```\n",
    "\n",
    "Np. dla `imie=\"marian\"` i `nieformalnie=True`\n",
    "\n",
    "```\n",
    "\"Siemasz Marian!\"\n",
    "```"
   ]
  },
  {
   "cell_type": "code",
   "execution_count": 21,
   "metadata": {},
   "outputs": [
    {
     "name": "stdout",
     "output_type": "stream",
     "text": [
      "Siema Marcin!\n"
     ]
    }
   ],
   "source": [
    "imie='Marcin'\n",
    "\n",
    "def wypisz_powitanie2(imie,nieformalnie=True or False):\n",
    "    if nieformalnie == True:\n",
    "        print(f'Siema {imie}!')\n",
    "    else:\n",
    "        print(f'Miło Cię widzieć {imie}!')\n",
    "    \n",
    "\n",
    "wypisz_powitanie2(imie, True)"
   ]
  },
  {
   "cell_type": "markdown",
   "metadata": {},
   "source": [
    "#### Zadanie 3\n",
    "\n",
    "Napisz funkcję wyliczająca i zwracającą objętość stożka\n",
    "\n",
    "Wykonaj funkcję dla wszystkich par wartości r i h z listy `stozki`"
   ]
  },
  {
   "cell_type": "code",
   "execution_count": 25,
   "metadata": {},
   "outputs": [
    {
     "name": "stdout",
     "output_type": "stream",
     "text": [
      "<class 'int'>\n"
     ]
    }
   ],
   "source": [
    "stozki = [\n",
    "    (10, 5),\n",
    "    (15, 5),\n",
    "    (5, 10),\n",
    "    (5, 15)\n",
    "]\n",
    "# V = 1/3 pi r^2 h \n"
   ]
  },
  {
   "cell_type": "code",
   "execution_count": 9,
   "metadata": {},
   "outputs": [
    {
     "name": "stdout",
     "output_type": "stream",
     "text": [
      "3.141592653589793\n"
     ]
    }
   ],
   "source": [
    "import math\n",
    "\n",
    "print(math.pi)"
   ]
  },
  {
   "cell_type": "code",
   "execution_count": 59,
   "metadata": {},
   "outputs": [],
   "source": [
    "\n",
    "def volume(dane):\n",
    "    volume=[]\n",
    "    for o in stozki:\n",
    "        volume.append(round(1/3 * math.pi * o[0]**2 * o[1],2))\n",
    "    return volume"
   ]
  },
  {
   "cell_type": "code",
   "execution_count": 61,
   "metadata": {},
   "outputs": [
    {
     "name": "stdout",
     "output_type": "stream",
     "text": [
      "[523.6, 1178.1, 261.8, 392.7]\n"
     ]
    }
   ],
   "source": [
    "print(volume(stozki))"
   ]
  },
  {
   "cell_type": "markdown",
   "metadata": {},
   "source": [
    "#### Zadanie 4  - ??????????????????????????????????????????????nie zrozumiale napisane zadanie \n",
    "\n",
    "Napisz funkcję sprawdzającą, czy podana liczba jest w wymaganym zakresie. Niech domyślny zakres wynosi (0, 100)\n",
    "\n",
    "Niech zwraca `True` albo `False`\n",
    "\n",
    "Liczbę pobierz od użytkownika, a następnie sprawdź dla zakresów z listy:"
   ]
  },
  {
   "cell_type": "code",
   "execution_count": 95,
   "metadata": {},
   "outputs": [
    {
     "name": "stdin",
     "output_type": "stream",
     "text": [
      "1 40\n"
     ]
    },
    {
     "name": "stdout",
     "output_type": "stream",
     "text": [
      "wpisana lizczba wynosi 40 i należy do zbior range(0, 150) na liscie zakresy\n"
     ]
    }
   ],
   "source": [
    "zakresy = [range(0, 10), range(0, 150), range(30, 50)]\n",
    "\n",
    "def zakres(wpis=int(input('1'))):\n",
    "    for z in zakresy:\n",
    "        if wpis >= z[0] and wpis <= z[-1]:\n",
    "            return (f'wpisana lizczba wynosi {wpis} i należy do zbior {z} na liscie zakresy')\n",
    "            \n",
    "    return False\n",
    "\n",
    "\n",
    "print(zakres())"
   ]
  },
  {
   "cell_type": "code",
   "execution_count": 99,
   "metadata": {},
   "outputs": [
    {
     "name": "stdin",
     "output_type": "stream",
     "text": [
      "Podaj liczbę:  3\n"
     ]
    },
    {
     "name": "stdout",
     "output_type": "stream",
     "text": [
      "True\n",
      "True\n",
      "False\n"
     ]
    }
   ],
   "source": [
    "zakresy = [range(0, 10), range(0, 150), range(30, 50)]\n",
    "\n",
    "\n",
    "def czy_w_zakresie(x, zakres=range(0, 101)):\n",
    "    return x in zakres\n",
    "\n",
    "\n",
    "liczba = int(input(\"Podaj liczbę: \"))\n",
    "for z in zakresy:\n",
    "    print(czy_w_zakresie(liczba, zakres=z))"
   ]
  },
  {
   "cell_type": "markdown",
   "metadata": {},
   "source": [
    "#### Zadanie 5\n",
    "\n",
    "Napisz funkcję zwracającą ocenę jako typ string, na podstawie wyniku w postaci wartości liczbowej (0 .. 100)\n",
    "\n",
    "'bardzo dobry' od 90, 'dobry+' od 80, 'dobry' od 70, 'dostateczny+' od 60, 'dostateczny' od 50, 'niedostateczny' dla mniej niż 50\n",
    "\n",
    "Wypisz wartości dla wyników z listy"
   ]
  },
  {
   "cell_type": "code",
   "execution_count": 170,
   "metadata": {},
   "outputs": [],
   "source": [
    "wyniki = [100, 65, 76, 43, 10, 90, 94]\n",
    "wyniki2 = [100, 6, 7, 4, 1, 0, 9, 100]\n",
    "wynik3 = [90]"
   ]
  },
  {
   "cell_type": "code",
   "execution_count": 182,
   "metadata": {},
   "outputs": [
    {
     "name": "stdout",
     "output_type": "stream",
     "text": [
      "bardzo dobry\n",
      "[90]\n"
     ]
    }
   ],
   "source": [
    "def ocenajmu(dane):\n",
    "    for w in dane:\n",
    "        if w >= 90:\n",
    "             print('bardzo dobry')\n",
    "        elif w >= 80:\n",
    "            print('dobry+')\n",
    "        elif w >= 70:\n",
    "            print('dobry')\n",
    "        elif w >= 60:\n",
    "            print('dostateczny+')\n",
    "        elif w >= 50:\n",
    "            print('dostateczny')\n",
    "        elif w < 50 and w >= 0:\n",
    "            print('niedostateczny')\n",
    "  \n",
    "    return dane\n",
    "\n",
    "print(ocenajmu(wynik3))"
   ]
  },
  {
   "cell_type": "code",
   "execution_count": 184,
   "metadata": {},
   "outputs": [
    {
     "name": "stdout",
     "output_type": "stream",
     "text": [
      "bardzo dobry\n",
      "dostateczny+\n",
      "dobry\n",
      "niedostateczny\n",
      "niedostateczny\n",
      "dobry+\n",
      "bardzo dobry\n"
     ]
    }
   ],
   "source": [
    "wyniki = [65, 76, 43, 10, 90, 94]\n",
    "\n",
    "\n",
    "def ocena(wynik):\n",
    "    if int(wynik) > 90:\n",
    "        return \"bardzo dobry\"\n",
    "    elif int(wynik) > 80:\n",
    "        return \"dobry+\"\n",
    "    elif int(wynik) > 70:\n",
    "        return \"dobry\"\n",
    "    elif int(wynik) > 60:\n",
    "        return \"dostateczny+\"\n",
    "    elif int(wynik) > 50:\n",
    "        return \"dostateczny\"\n",
    "    else:\n",
    "        return \"niedostateczny\"\n",
    "print(ocena(91))\n",
    "\n",
    "for w in wyniki:\n",
    "    print(ocena(w))"
   ]
  },
  {
   "cell_type": "markdown",
   "metadata": {},
   "source": [
    "#### Zadanie 6\n",
    "\n",
    "Lista `kursanci` zwiera imiona kursantów, a `sprawdzian` ich wyniki ze sprawdzianu\n",
    "\n",
    "Stwórz nową listę, której elementy będą tuplami z dwoma elementami - imieniem i słowną oceną\n",
    "\n",
    "Ocenę uzyskaj przy pomocy swojej funkcji z zadania 5\n",
    "\n",
    "Np. dla `imiona = [\"Anna\", \"Bartosz\"]` i `sprawdzian = [85, 45]`\n",
    "\n",
    "```\n",
    "[(\"Anna\", \"dobry+\"),\n",
    " (\"Bartosz\", \"niedostateczny\")]\n",
    "```"
   ]
  },
  {
   "cell_type": "code",
   "execution_count": 280,
   "metadata": {},
   "outputs": [],
   "source": [
    "kursanci = [\"Anna\", \"Jurek\", \"Beata\", \"Jarek\", \"Patrycja\", \"Arkadiusz\"]\n",
    "sprawdzian = [35, 78, 92, 45, 55, 80]"
   ]
  },
  {
   "cell_type": "code",
   "execution_count": 294,
   "metadata": {},
   "outputs": [
    {
     "name": "stdout",
     "output_type": "stream",
     "text": [
      "[('Anna', 'niedostateczny'), ('Jurek', 'dobry'), ('Beata', 'bardzo dobry'), ('Jarek', 'niedostateczny'), ('Patrycja', 'dostateczny'), ('Arkadiusz', 'dobry')]\n"
     ]
    }
   ],
   "source": [
    "raport = []\n",
    "for i in range(len(kursanci)):\n",
    "    raport.append((kursanci[i], ocena(sprawdzian[i])))\n",
    "\n",
    "print(raport)"
   ]
  },
  {
   "cell_type": "code",
   "execution_count": 296,
   "metadata": {},
   "outputs": [
    {
     "name": "stdout",
     "output_type": "stream",
     "text": [
      "[('Anna', 35), ('Jurek', 78), ('Beata', 92), ('Jarek', 45), ('Patrycja', 55), ('Arkadiusz', 80)]\n"
     ]
    }
   ],
   "source": [
    "dziennik=[]\n",
    "\n",
    "for i in range(len(kursanci)):\n",
    "    dziennik.append((kursanci[i], sprawdzian[i]))\n",
    "\n",
    "\n",
    "print(dziennik)"
   ]
  },
  {
   "cell_type": "markdown",
   "metadata": {},
   "source": [
    "#### Zadanie 7\n",
    "\n",
    "Napisz funkcję `all_unique`, która przyjmie listę dowolnych elementów i zwróci wartość `True` jeżeli lista nie zawiera duplikatów lub `False` w przeciwnym wypadku\n",
    "\n",
    "Np. dla listy `[1, 3, \"a\"]` wynik będzie `True`\n",
    "\n",
    "a dla listy `[1, 3, \"a\", 1]` wynik będzie `False`\n",
    "\n",
    "Przetestuj dla poniższych list"
   ]
  },
  {
   "cell_type": "code",
   "execution_count": 324,
   "metadata": {},
   "outputs": [],
   "source": [
    "lista_a = [23, 45, 67, 67, \"qw\", \"er\", \"ty\", \"qw\"]\n",
    "lista_b = [23, 23, 45, 67, \"qw\", \"er\", \"ty\"]\n",
    "lista_c = [23, 45, 67, \"qw\", \"er\", \"ty\"]"
   ]
  },
  {
   "cell_type": "code",
   "execution_count": 344,
   "metadata": {},
   "outputs": [
    {
     "name": "stdout",
     "output_type": "stream",
     "text": [
      "6\n",
      "8\n",
      "6\n",
      "6\n"
     ]
    }
   ],
   "source": [
    "print(len(set(lista_a)))\n",
    "print(len(lista_a))\n",
    "\n",
    "print(len(set(lista_c)))\n",
    "print(len(lista_c))"
   ]
  },
  {
   "cell_type": "code",
   "execution_count": 350,
   "metadata": {},
   "outputs": [
    {
     "name": "stdout",
     "output_type": "stream",
     "text": [
      "False\n",
      "False\n",
      "True\n"
     ]
    }
   ],
   "source": [
    "\n",
    "def all_unique(lista):\n",
    "    if len(set(lista)) < len(lista):\n",
    "        return False\n",
    "    else: \n",
    "        return True\n",
    "\n",
    "\n",
    "print(all_unique(lista_a))\n",
    "print(all_unique(lista_b))\n",
    "print(all_unique(lista_c))"
   ]
  },
  {
   "cell_type": "markdown",
   "metadata": {},
   "source": [
    "#### Zadanie 8\n",
    "\n",
    "Napisz funkcję `cenzura`, która podmieni wszystkie wystąpienia danego słowa w tekście na \"###\"\n",
    "\n",
    "Tzn. funkcja powinna przyjmować jako argumenty: `tekst`, `slowo` i zwrócić nowy tekst ze slowem zamienionym na trzy kratki\n",
    "\n",
    "Np. dla tekstu `\"Lorem ipsum.\"` i slowa `\"ipsum\"`\n",
    "\n",
    "Nowy tekst to `\"Lorem ###.\"`"
   ]
  },
  {
   "cell_type": "code",
   "execution_count": null,
   "metadata": {},
   "outputs": [],
   "source": []
  },
  {
   "cell_type": "markdown",
   "metadata": {},
   "source": [
    "#### Zadanie 9\n",
    "\n",
    "Ulepsz funkcję `cenzura`, tak aby liczba wstawionych kratek odpowiadała długości argumentu `slowo`\n",
    "\n",
    "Np. dla tekstu `\"Lorem ipsum.\"` i slowa `\"ipsum\"`\n",
    "\n",
    "Nowy tekst to `\"Lorem #####.\"`"
   ]
  },
  {
   "cell_type": "code",
   "execution_count": null,
   "metadata": {},
   "outputs": [],
   "source": []
  },
  {
   "cell_type": "markdown",
   "metadata": {},
   "source": [
    "#### Zadanie 10\n",
    "\n",
    "Dodaj kolejne ulepszenie funkcji `cenzura`\n",
    "\n",
    "Niech znak który zastępuje słowo będzie opcjonalnym argumentem funkcji z domyślną wartością `#`\n",
    "\n",
    "Np. dla tekstu `\"Lorem ipsum.\"` i slowa `\"ipsum\"` i bez podawania znaku\n",
    "\n",
    "Nowy tekst to `\"Lorem #####.\"`\n",
    "\n",
    "Np. dla tekstu `\"Lorem ipsum.\"` i slowa `\"ipsum\"` i z podaniem, że znak to `\"$\"`\n",
    "\n",
    "Nowy tekst to `\"Lorem $$$$$.\"`"
   ]
  },
  {
   "cell_type": "code",
   "execution_count": null,
   "metadata": {},
   "outputs": [],
   "source": []
  },
  {
   "cell_type": "markdown",
   "metadata": {},
   "source": [
    "#### Zadanie 11\n",
    "\n",
    "Dodaj kolejne ulepszenie funkcji `cenzura`\n",
    "\n",
    "Niech będzie możliwość podania listy słów które mają zostać zastąpione\n",
    "\n",
    "Tzn. funkcja powinna przyjmować jako argumenty: `tekst`, `lista_slow`, (i opcjonalny `znak`) i zwrócić nowy tekst ze wszystkimi słowami z listy odpowiednio zamienionymi\n",
    "\n",
    "Np. dla tekstu `\"lorem ipsum dolor sit amet\"` i `lista_slow=[\"lorem\", \"sit\"]`\n",
    "\n",
    "Nowy tekst to `\"##### ipsum dolor ### amet\"`"
   ]
  },
  {
   "cell_type": "code",
   "execution_count": null,
   "metadata": {},
   "outputs": [],
   "source": []
  },
  {
   "cell_type": "markdown",
   "metadata": {},
   "source": [
    "#### Zadanie 12\n",
    "\n",
    "Napisz funkcję `replace_many`, która podmieni wszystkie wystąpienia słów przekazanych jako lista\n",
    "\n",
    "Tzn. funkcja powinna przyjmować jako argumenty: `tekst`, `lista_starych`, `lista_nowych`, i zwrócić nowy tekst z dokonanymi podmianami\n",
    "\n",
    "Np. dla tekstu `\"Ala ma kota.\"`, list `stare=[\"Ala\", \"kota\"]` i `nowe=[\"Edyta\", \"psa\"]`\n",
    "\n",
    "Nowy tekst to : `\"Edyta ma psa.\"`"
   ]
  },
  {
   "cell_type": "code",
   "execution_count": null,
   "metadata": {},
   "outputs": [],
   "source": []
  },
  {
   "cell_type": "markdown",
   "metadata": {},
   "source": [
    "#### Zadanie 13\n",
    "\n",
    "Ulepsz funkcję `replace_many` dodając sprawdzenie, czy listy są równej długości\n",
    "\n",
    "Jeżeli nie, wypisz komunikat i zwróć wartość `None`\n"
   ]
  },
  {
   "cell_type": "code",
   "execution_count": null,
   "metadata": {},
   "outputs": [],
   "source": []
  }
 ],
 "metadata": {
  "kernelspec": {
   "display_name": "Python [conda env:base] *",
   "language": "python",
   "name": "conda-base-py"
  },
  "language_info": {
   "codemirror_mode": {
    "name": "ipython",
    "version": 3
   },
   "file_extension": ".py",
   "mimetype": "text/x-python",
   "name": "python",
   "nbconvert_exporter": "python",
   "pygments_lexer": "ipython3",
   "version": "3.12.7"
  }
 },
 "nbformat": 4,
 "nbformat_minor": 4
}
