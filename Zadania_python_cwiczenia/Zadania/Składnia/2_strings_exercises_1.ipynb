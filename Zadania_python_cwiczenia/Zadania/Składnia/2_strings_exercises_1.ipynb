{
 "cells": [
  {
   "cell_type": "code",
   "execution_count": null,
   "metadata": {},
   "outputs": [],
   "source": [
    "tekst = \"Ala ma kota w butach\"\n",
    "tajna_wiadomosc = \"piyStAhcoand ejmeys tt esżu p;e)r!!\""
   ]
  },
  {
   "cell_type": "markdown",
   "metadata": {},
   "source": [
    "#### Zadanie 1\n",
    "\n",
    "Ze zmiennej `tekst` pobierz piąty znak (\"m\") wykorzystując indeksowanie"
   ]
  },
  {
   "cell_type": "code",
   "execution_count": null,
   "metadata": {},
   "outputs": [],
   "source": []
  },
  {
   "cell_type": "markdown",
   "metadata": {},
   "source": [
    "#### Zadanie 2\n",
    "\n",
    "Ze zmiennej `tekst` pobierz pierwsze 3 znaki (\"Ala\") wykorzystując slicing"
   ]
  },
  {
   "cell_type": "code",
   "execution_count": null,
   "metadata": {},
   "outputs": [],
   "source": []
  },
  {
   "cell_type": "markdown",
   "metadata": {},
   "source": [
    "#### Zadanie 3\n",
    "\n",
    "Ze zmiennej `tekst` pobierz od 8 do 10 znaku (\"kot\") wykorzystując slicing"
   ]
  },
  {
   "cell_type": "code",
   "execution_count": null,
   "metadata": {},
   "outputs": [],
   "source": []
  },
  {
   "cell_type": "markdown",
   "metadata": {},
   "source": [
    "#### Zadanie 4\n",
    "\n",
    "Odczytaj tajną wiadomość pobierając co drugi znak ze zmiennej `tajna_wiadomosc`\n",
    "\n",
    "Wykorzystaj slicing (podaj krok)"
   ]
  },
  {
   "cell_type": "code",
   "execution_count": null,
   "metadata": {},
   "outputs": [],
   "source": []
  },
  {
   "cell_type": "markdown",
   "metadata": {},
   "source": [
    "#### Zadanie 5\n",
    "\n",
    "To nie jedyna ukryta wiadomość!\n",
    "\n",
    "Odczytaj co drugi znak, ale od drugiego znaku\n",
    "\n",
    "Wykorzystaj slicing (podaj krok i start)"
   ]
  },
  {
   "cell_type": "code",
   "execution_count": null,
   "metadata": {},
   "outputs": [],
   "source": []
  },
  {
   "cell_type": "markdown",
   "metadata": {},
   "source": [
    "#### Zadanie 6\n",
    "\n",
    "Przypisz zmiennej `inny_tekst` następującą wartość: \"lorem ipsum\"\n",
    "\n",
    "Dodaj do niej dalszy ciąg: \"dolor sit amet\"\n",
    "\n",
    "Tak aby otrzymać \"lorem ipsum dolor sit amet\""
   ]
  },
  {
   "cell_type": "code",
   "execution_count": null,
   "metadata": {},
   "outputs": [],
   "source": []
  },
  {
   "cell_type": "markdown",
   "metadata": {},
   "source": [
    "#### Zadanie 7\n",
    "\n",
    "Wykorzystując slicing na zmiennej `inny_tekst`\n",
    "\n",
    "Utwórz zmienną `fragment_1`, która będzie zawierała \"ipsum\""
   ]
  },
  {
   "cell_type": "code",
   "execution_count": null,
   "metadata": {},
   "outputs": [],
   "source": []
  },
  {
   "cell_type": "markdown",
   "metadata": {},
   "source": [
    "#### Zadanie 8\n",
    "\n",
    "Wykorzystując slicing na zmiennej `inny_tekst` i łączenie stringów\n",
    "\n",
    "Utwórz zmienną `fragment_2`, która będzie zawierała \"lorem amet\""
   ]
  },
  {
   "cell_type": "code",
   "execution_count": null,
   "metadata": {},
   "outputs": [],
   "source": []
  },
  {
   "cell_type": "markdown",
   "metadata": {},
   "source": [
    "#### Zadanie 9\n",
    "\n",
    "Wykorzystując slicing na zmiennych `inny_tekst` i `fragment_1` utwórz zmienną `bledny_tekst`, która będzie zawierała\n",
    "\n",
    "\"lorem muspi dolor sit amet\""
   ]
  },
  {
   "cell_type": "code",
   "execution_count": null,
   "metadata": {},
   "outputs": [],
   "source": []
  },
  {
   "cell_type": "markdown",
   "metadata": {},
   "source": [
    "#### Zadanie 10\n",
    "\n",
    "Wykorzystując escape character `\\` wypisz jedną komendą tekst:\n",
    "\n",
    "\"You're dead, evil AI!\" - said John, \"format C:\\!\""
   ]
  },
  {
   "cell_type": "code",
   "execution_count": null,
   "metadata": {},
   "outputs": [],
   "source": []
  }
 ],
 "metadata": {
  "kernelspec": {
   "display_name": "Python 3",
   "language": "python",
   "name": "python3"
  },
  "language_info": {
   "codemirror_mode": {
    "name": "ipython",
    "version": 3
   },
   "file_extension": ".py",
   "mimetype": "text/x-python",
   "name": "python",
   "nbconvert_exporter": "python",
   "pygments_lexer": "ipython3",
   "version": "3.8.8"
  }
 },
 "nbformat": 4,
 "nbformat_minor": 4
}
