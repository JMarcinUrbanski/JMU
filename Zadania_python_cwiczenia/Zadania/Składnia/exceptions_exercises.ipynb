{
 "cells": [
  {
   "cell_type": "markdown",
   "metadata": {},
   "source": [
    "#### Zadanie 1\n",
    "\n",
    "Sprawdź jaki wyjatek jest podniesiony, gdy probujemy dokonać konwersji `int()` na tekście `\"abc\"`\n",
    "\n",
    "Wykorzystaj te więdzę realizując poniższe polecenia.\n",
    "\n",
    "Pobierz liczbę od użytkownika do zmiennej `user_value`\n",
    "\n",
    "Dokonaj konwersji na `int()` w bezpieczny sposób - jeżeli użytkownik nie podał liczby, wypisz komunikat\n",
    "\n",
    "Wykorzystaj obsługę wyjątków"
   ]
  },
  {
   "cell_type": "code",
   "execution_count": null,
   "metadata": {},
   "outputs": [],
   "source": []
  },
  {
   "cell_type": "markdown",
   "metadata": {},
   "source": [
    "#### Zadanie 2\n",
    "\n",
    "Sprawdź jaki wyjątek występuje, gdy próbujemy otworzyć nieistniejący plik.\n",
    "\n",
    "Wykorzystaj te więdzę realizując poniższe polecenia.\n",
    "\n",
    "Poproś użytkownika o podanie nazwy pliku który mamy otworzyć\n",
    "\n",
    "Spróbuj to zrobić i wypisać całą zawartość. Jeżeli plik nie istnieje wypisz komunikat\n",
    "\n",
    "1. Wykorzystaj obsługę wyjątków\n",
    "2. **BONUS** wykonaj zadanie w wariancie \"ask for permission\" - przed otworzeniem sprawdź czy plik istnieje, wykorzystując odpowiednią metodę z biblioteki `os`"
   ]
  },
  {
   "cell_type": "code",
   "execution_count": null,
   "metadata": {},
   "outputs": [],
   "source": []
  },
  {
   "cell_type": "markdown",
   "metadata": {},
   "source": [
    "#### Zadanie 3\n",
    "\n",
    "Sprawdź jaki wyjątek występuje, gdy próbujemy odczytać nieistniejący klucz słownika.\n",
    "\n",
    "Wykorzystaj te więdzę realizując poniższe polecenia.\n",
    "\n",
    "Wczytaj zawartość pliku `dane.json`\n",
    "\n",
    "Spróbuj odczytać zawartość atrybutu `\"miejsca\"`. Jeżeli go nie ma, wypisz komunikat.\n",
    "\n",
    "Wykorzystaj obsługę wyjątków"
   ]
  },
  {
   "cell_type": "code",
   "execution_count": null,
   "metadata": {},
   "outputs": [],
   "source": []
  },
  {
   "cell_type": "markdown",
   "metadata": {},
   "source": [
    "#### Zadanie 4\n",
    "\n",
    "Sprawdź jaki wyjątek występuje, gdy próbujemy odczytać nieistniejący element listy (tj. zbyt duży indeks)\n",
    "\n",
    "Wykorzystaj te więdzę realizując poniższe polecenia.\n",
    "\n",
    "Poproś użytkownika o podanie liczby od 0 do 2, a następnie wypisz odpowiedni tekst z listy zdefiniowanej poniżej.\n",
    "\n",
    "Wykorzystaj obsługę wyjątków do poradzenia sobie z podaniem liczby większej niż 2."
   ]
  },
  {
   "cell_type": "code",
   "execution_count": null,
   "metadata": {},
   "outputs": [],
   "source": [
    "info = [\n",
    "    \"try tworzy blok kodu który interpreter spróbuje wykonać\",\n",
    "    \"except pozwala przechwycić i obsłużyć występujący wyjątek\",\n",
    "    \"finally wykonuje się zawsze, nawet, gdy nie było wyjątku\"\n",
    "]"
   ]
  },
  {
   "cell_type": "code",
   "execution_count": null,
   "metadata": {},
   "outputs": [],
   "source": []
  }
 ],
 "metadata": {
  "kernelspec": {
   "display_name": "Python 3",
   "language": "python",
   "name": "python3"
  },
  "language_info": {
   "codemirror_mode": {
    "name": "ipython",
    "version": 3
   },
   "file_extension": ".py",
   "mimetype": "text/x-python",
   "name": "python",
   "nbconvert_exporter": "python",
   "pygments_lexer": "ipython3",
   "version": "3.7.6"
  }
 },
 "nbformat": 4,
 "nbformat_minor": 4
}
