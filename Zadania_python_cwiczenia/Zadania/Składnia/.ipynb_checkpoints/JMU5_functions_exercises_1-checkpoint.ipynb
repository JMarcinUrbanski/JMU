{
 "cells": [
  {
   "cell_type": "code",
   "execution_count": 1,
   "metadata": {},
   "outputs": [
    {
     "name": "stdout",
     "output_type": "stream",
     "text": [
      "/Users/marcinurbanski/Desktop/Zadania_python_cwiczenia/Zadania/Składnia\n"
     ]
    }
   ],
   "source": [
    "import os\n",
    "print(os.getcwd())\n"
   ]
  },
  {
   "cell_type": "markdown",
   "metadata": {},
   "source": [
    "#### Zadanie 1\n",
    "\n",
    "Zdefiniuj funkcję `separator`, która zwróci string \"-----#####-----\"\n",
    "\n",
    "(Zwróci, a nie wypisze)"
   ]
  },
  {
   "cell_type": "code",
   "execution_count": 11,
   "metadata": {},
   "outputs": [],
   "source": [
    "def separator():\n",
    "    return \"-----#####-----\"\n",
    "\n"
   ]
  },
  {
   "cell_type": "markdown",
   "metadata": {},
   "source": [
    "#### Zadanie 2\n",
    "\n",
    "Wypisz liczby od 1 do 10 (włącznie) oddzielone separatorem (każdy element w nowej linii). Separator pobierz ze swojej funkcji.\n",
    "\n",
    "```\n",
    "1\n",
    "-----#####-----\n",
    "2\n",
    "-----#####-----\n",
    "...\n",
    "```"
   ]
  },
  {
   "cell_type": "code",
   "execution_count": 17,
   "metadata": {},
   "outputs": [
    {
     "name": "stdout",
     "output_type": "stream",
     "text": [
      "1 \n",
      " -----#####----- \n",
      "\n",
      "2 \n",
      " -----#####----- \n",
      "\n",
      "3 \n",
      " -----#####----- \n",
      "\n",
      "4 \n",
      " -----#####----- \n",
      "\n",
      "5 \n",
      " -----#####----- \n",
      "\n",
      "6 \n",
      " -----#####----- \n",
      "\n",
      "7 \n",
      " -----#####----- \n",
      "\n",
      "8 \n",
      " -----#####----- \n",
      "\n",
      "9 \n",
      " -----#####----- \n",
      "\n",
      "10 \n",
      " -----#####----- \n",
      "\n"
     ]
    }
   ],
   "source": [
    "#for n in list(range(1,11)):\n",
    " #   print(n)\n",
    " #   print(separator())\n",
    "\n",
    "for n in list(range(1,11)):\n",
    "    print(n,\"\\n\",separator(),\"\\n\")"
   ]
  },
  {
   "cell_type": "markdown",
   "metadata": {},
   "source": [
    "#### Zadanie 3\n",
    "\n",
    "Zdefinuj funkcję `do_kwadratu`, która przyjmie liczbę i zwróci jej wartość podniesioną do drugiej potęgi"
   ]
  },
  {
   "cell_type": "code",
   "execution_count": 27,
   "metadata": {},
   "outputs": [
    {
     "name": "stdout",
     "output_type": "stream",
     "text": [
      "4\n"
     ]
    }
   ],
   "source": [
    "def do_kwadratu(liczba):\n",
    "    return liczba**2\n",
    "\n",
    "print(do_kwadratu(2))"
   ]
  },
  {
   "cell_type": "code",
   "execution_count": 31,
   "metadata": {},
   "outputs": [
    {
     "name": "stdout",
     "output_type": "stream",
     "text": [
      "16\n"
     ]
    }
   ],
   "source": [
    "print(do_kwadratu(4))"
   ]
  },
  {
   "cell_type": "markdown",
   "metadata": {},
   "source": [
    "#### Zadanie 4\n",
    "\n",
    "Wypisz wyniki działania funkcji `do_kwadratu` na liczbach z listy"
   ]
  },
  {
   "cell_type": "code",
   "execution_count": 64,
   "metadata": {},
   "outputs": [
    {
     "name": "stdout",
     "output_type": "stream",
     "text": [
      "1\n",
      "4\n",
      "9\n",
      "16\n",
      "25\n"
     ]
    }
   ],
   "source": [
    "liczby = list(range(1, 6))\n",
    "\n",
    "for liczba in liczby:\n",
    "    print(do_kwadratu(liczba))\n",
    "    "
   ]
  },
  {
   "cell_type": "markdown",
   "metadata": {},
   "source": [
    "#### Zadanie 5\n",
    "\n",
    "Zdefinuj funkcje `pole_trojkata`, która przyjmie wartość podstawy i wysokość trójkąta i zwróci jego pole.\n",
    "\n",
    "Wykorzystaj funkcję pole_trojkata dla wartości `a` i `h`"
   ]
  },
  {
   "cell_type": "code",
   "execution_count": 78,
   "metadata": {},
   "outputs": [
    {
     "name": "stdout",
     "output_type": "stream",
     "text": [
      "50.0\n"
     ]
    }
   ],
   "source": [
    "a = 10\n",
    "h = 10\n",
    "\n",
    "def pole_trojkata(podstawa,wysokosc):\n",
    "    return podstawa*wysokosc/2\n",
    "\n",
    "print(pole_trojkata(a,h))"
   ]
  },
  {
   "cell_type": "markdown",
   "metadata": {},
   "source": [
    "#### Zadanie 6\n",
    "\n",
    "Wy korzystaj funkcję pole_trojkata dla danych w postaci pary (podstawa, wysokość)"
   ]
  },
  {
   "cell_type": "code",
   "execution_count": 82,
   "metadata": {},
   "outputs": [
    {
     "name": "stdout",
     "output_type": "stream",
     "text": [
      "55.0\n"
     ]
    }
   ],
   "source": [
    "dane = (11, 10)\n",
    "\n",
    "print(pole_trojkata(dane[0],dane[1]))"
   ]
  },
  {
   "cell_type": "markdown",
   "metadata": {},
   "source": [
    "#### Zadanie 7\n",
    "\n",
    "Ulepsz funkcję `pole_trojkata` dodając sprawdzenie, czy podane liczby są większe od zera\n",
    "\n",
    "Jeżeli nie, wypisz komunikat i zwróć `None`\n",
    "\n",
    "Przetestuj na różnych wariantach"
   ]
  },
  {
   "cell_type": "code",
   "execution_count": 106,
   "metadata": {},
   "outputs": [
    {
     "name": "stdout",
     "output_type": "stream",
     "text": [
      "None\n",
      "None\n",
      "10.5\n",
      "0\n"
     ]
    }
   ],
   "source": [
    "def pole_trojkata(podstawa,wysokosc):\n",
    "    if podstawa < 0 or wysokosc <0:\n",
    "        return 'None'\n",
    "    return podstawa*wysokosc/2\n",
    "\n",
    "print(pole_trojkata(-1,-21))\n",
    "print(pole_trojkata(-1,21))\n",
    "print(pole_trojkata(1,21))\n",
    "print(int(pole_trojkata(0,21)))"
   ]
  },
  {
   "cell_type": "markdown",
   "metadata": {},
   "source": [
    "#### Zadanie 8\n",
    "\n",
    "Ulepsz funkcje `pole_trojkata` raz jeszcze:\n",
    "\n",
    "Dodaj opcjonalny argument `verbose` o domyślnej wartości `False`.\n",
    "\n",
    "Użyj go do sprawdzenia, czy w przypadku liczb mniejszych od zera wypisać komunikat, czy nie.\n",
    "\n",
    "Uwaga - jeżeli mniejsze od zera, dalej zwróć `None`, ale bez wypisywania komunikatu."
   ]
  },
  {
   "cell_type": "code",
   "execution_count": 110,
   "metadata": {},
   "outputs": [],
   "source": [
    "def pole_trojkata3(podstawa, wysokosc, verbose=False):\n",
    "    if podstawa < 0 or wysokosc <0:\n",
    "        return verbose\n",
    "    return podstawa*wysokosc/2\n",
    "    \n",
    "    "
   ]
  },
  {
   "cell_type": "code",
   "execution_count": 114,
   "metadata": {},
   "outputs": [
    {
     "name": "stdout",
     "output_type": "stream",
     "text": [
      "<class 'bool'>\n"
     ]
    }
   ],
   "source": [
    "print(type(pole_trojkata3(-1,2)))"
   ]
  }
 ],
 "metadata": {
  "kernelspec": {
   "display_name": "Python [conda env:base] *",
   "language": "python",
   "name": "conda-base-py"
  },
  "language_info": {
   "codemirror_mode": {
    "name": "ipython",
    "version": 3
   },
   "file_extension": ".py",
   "mimetype": "text/x-python",
   "name": "python",
   "nbconvert_exporter": "python",
   "pygments_lexer": "ipython3",
   "version": "3.12.7"
  }
 },
 "nbformat": 4,
 "nbformat_minor": 4
}
