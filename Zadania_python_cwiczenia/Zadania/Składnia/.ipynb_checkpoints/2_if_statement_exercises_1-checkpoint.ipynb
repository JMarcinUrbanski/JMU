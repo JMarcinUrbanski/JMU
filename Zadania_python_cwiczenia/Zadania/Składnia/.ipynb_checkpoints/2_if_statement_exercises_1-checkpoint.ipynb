{
 "cells": [
  {
   "cell_type": "markdown",
   "metadata": {},
   "source": [
    "#### Zadanie 1\n",
    "\n",
    "Napisz kod, który sprawdzi, czy zmienna `number` ma wartość większą niż 3\n",
    "\n",
    "Jeżeli tak, wypisz \"TAK!\", jeżeli nie, wypisz \"NIE!\""
   ]
  },
  {
   "cell_type": "code",
   "execution_count": 59,
   "metadata": {},
   "outputs": [],
   "source": [
    "number = 2"
   ]
  },
  {
   "cell_type": "code",
   "execution_count": 9,
   "metadata": {},
   "outputs": [
    {
     "name": "stdout",
     "output_type": "stream",
     "text": [
      "tak\n"
     ]
    }
   ],
   "source": [
    "if number > 3:\n",
    "    print('tak')\n",
    "else:\n",
    "    print('nie')"
   ]
  },
  {
   "cell_type": "markdown",
   "metadata": {},
   "source": [
    "#### Zadanie 2\n",
    "\n",
    "Dla tej samej zmiennej `number`, sprawdź, czy ma wartość mniejszą lub równą 3\n",
    "\n",
    "Wypisz analogiczne komunikaty"
   ]
  },
  {
   "cell_type": "code",
   "execution_count": 33,
   "metadata": {},
   "outputs": [
    {
     "name": "stdout",
     "output_type": "stream",
     "text": [
      "nie\n",
      "nie\n"
     ]
    }
   ],
   "source": [
    "if number <= 3:\n",
    "    print('tak')\n",
    "else:\n",
    "    print('nie')\n",
    "\n",
    "if number < 3 or number == 3 :\n",
    "    print('tak')\n",
    "else:\n",
    "    print('nie')"
   ]
  },
  {
   "cell_type": "markdown",
   "metadata": {},
   "source": [
    "#### Zadanie 3\n",
    "\n",
    "Dla tej samej zmiennej `number`, sprawdź, czy należy do zakresu od 0 do 11 włącznie\n",
    "\n",
    "Wypisz analogiczne komunikaty"
   ]
  },
  {
   "cell_type": "code",
   "execution_count": 61,
   "metadata": {},
   "outputs": [
    {
     "name": "stdout",
     "output_type": "stream",
     "text": [
      "tak\n"
     ]
    }
   ],
   "source": [
    "\n",
    "if number >= 0 and number <=11:\n",
    "    print('tak')\n",
    "else:\n",
    "    print('nie')"
   ]
  },
  {
   "cell_type": "markdown",
   "metadata": {},
   "source": [
    "#### Zadanie 4\n",
    "\n",
    "Dla tej samej zmiennej `number`, sprawdź, czy jest mniejsza od 0 lub większa od 3\n",
    "\n",
    "Wypisz analogiczne komunikaty"
   ]
  },
  {
   "cell_type": "code",
   "execution_count": 57,
   "metadata": {},
   "outputs": [
    {
     "name": "stdout",
     "output_type": "stream",
     "text": [
      "nie\n"
     ]
    }
   ],
   "source": [
    "if number < 0 or number > 3 :\n",
    "    print('tak')\n",
    "else:\n",
    "    print('nie')"
   ]
  },
  {
   "cell_type": "markdown",
   "metadata": {},
   "source": [
    "#### Zadanie 5\n",
    "\n",
    "Napisz kod, który sprawdzi wartość zmiennej `number` i wypisze odpowiedni komunikat:\n",
    "\n",
    "\"Większa niż lub równa 5!\" jeżeli jest większe niż lub równe 5\n",
    "\n",
    "\"Pomiędzy 2, a 5!\" jeżeli należy do zakresu od 2 do 5 (przedział otwarty)\n",
    "\n",
    "\"Mniejsza niż lub równa 2!\" jeżeli jest mniejsze niż lub równe 2"
   ]
  },
  {
   "cell_type": "code",
   "execution_count": 75,
   "metadata": {},
   "outputs": [
    {
     "name": "stdout",
     "output_type": "stream",
     "text": [
      "Mniejsza niż lub równa 2!\n"
     ]
    }
   ],
   "source": [
    "number = 1\n",
    "\n",
    "if number >= 5 :\n",
    "    print(\"Większa niż lub równa 5!\")\n",
    "elif number > 2 and number < 5:\n",
    "    print(\"Pomiędzy 2, a 5!\")\n",
    "elif number <= 2:\n",
    "    print(\"Mniejsza niż lub równa 2!\")"
   ]
  },
  {
   "cell_type": "markdown",
   "metadata": {},
   "source": [
    "#### Zadanie 6\n",
    "\n",
    "Sprawdź, czy zmienna `wynik` ma wartość większą niż 50\n",
    "\n",
    "Jeżeli tak, podnieś ją do drugiej potęgi (rezultat zapisz w tej samej zmiennej)\n",
    "\n",
    "Jeżeli nie, dodaj do niej 1975 (rezultat zapisz w tej samej zmiennej)\n",
    "\n",
    "Następnie, sprawdź, czy po operacjach jej wartość jest większa niż 2000\n",
    "\n",
    "Jezeli tak, wypisz \"Większa niż 2000!\"\n",
    "\n",
    "Jeżeli nie, wypisz \"Mniejsza lub równa 2000!\"\n",
    "\n",
    "Przetestuj dla różnych wartości zmiennej `wynik`"
   ]
  },
  {
   "cell_type": "code",
   "execution_count": 115,
   "metadata": {},
   "outputs": [
    {
     "name": "stdout",
     "output_type": "stream",
     "text": [
      "Mniejsza lub równa 2000!\n",
      "2000\n"
     ]
    }
   ],
   "source": [
    "wynik = 25\n",
    "\n",
    "if wynik > 50 :\n",
    "    wynik=wynik**2\n",
    "else:\n",
    "    wynik+=1975\n",
    "if wynik > 2000:\n",
    "    print(\"Większa niż 2000!\")\n",
    "else:\n",
    "    print(\"Mniejsza lub równa 2000!\")\n",
    "print(wynik)"
   ]
  },
  {
   "cell_type": "markdown",
   "metadata": {},
   "source": [
    "#### Zadanie 7\n",
    "\n",
    "Nowe hasło podane przez użytkownika zawiera się w zmiennej `haslo`\n",
    "\n",
    "Napisz kod, który sprawdza, czy haslo zawiera w sobie znak \"@\""
   ]
  },
  {
   "cell_type": "code",
   "execution_count": 133,
   "metadata": {},
   "outputs": [
    {
     "name": "stdout",
     "output_type": "stream",
     "text": [
      "zawiera\n",
      "10\n"
     ]
    }
   ],
   "source": [
    "haslo = \"QWerTY%$#!@\"\n",
    "\n",
    "if haslo.find(\"@\") < 0:\n",
    "    print('nie zawiera')\n",
    "else: \n",
    "    print('zawiera')\n",
    "\n",
    "print(haslo.find(\"@\"))"
   ]
  },
  {
   "cell_type": "markdown",
   "metadata": {},
   "source": [
    "#### Zadanie 8\n",
    "\n",
    "Napisz kod sprawdzajacy, czy zmienna `tekst` ma więcej niż 15 znaków i zawiera fragment \"Adam\""
   ]
  },
  {
   "cell_type": "code",
   "execution_count": 145,
   "metadata": {},
   "outputs": [
    {
     "name": "stdout",
     "output_type": "stream",
     "text": [
      "zawiera i jest dłuzszy niz 15 znaków\n",
      "55\n",
      "15\n"
     ]
    }
   ],
   "source": [
    "tekst = \"Ala ma kota, a Adam ma psa, hi hi hi, ha ha ha - Własne\"\n",
    "\n",
    "if tekst.find('Adam') >= 0 and len(tekst) > 15:\n",
    "    print('zawiera i jest dłuzszy niz 15 znaków')\n",
    "else:\n",
    "    print('nie zawiera i nie jest')\n",
    "\n",
    "\n",
    "print(len(tekst))\n",
    "print(tekst.find(\"Adam\"))"
   ]
  },
  {
   "cell_type": "markdown",
   "metadata": {},
   "source": [
    "#### Zadanie 9\n",
    "\n",
    "Skomplikujmy zadanie 8\n",
    "\n",
    "Jeżeli spełniony jest tylko warunek: tekst ma więcej niż 15 znaków, wypisz \"Cóż za epopeja!\"\n",
    "\n",
    "Jeżeli spełniony jest tylko warunek: zawiera fragment \"Adam\", wypisz \"Wspaniała postać!\"\n",
    "\n",
    "Jeżeli spełnione są oba, wypisz (jako jedyny komunikat!) \"Mój ulubiony wiersz, gratulacje Panie Własne!\""
   ]
  },
  {
   "cell_type": "code",
   "execution_count": 161,
   "metadata": {},
   "outputs": [
    {
     "name": "stdout",
     "output_type": "stream",
     "text": [
      "Cóż za epopeja!\n"
     ]
    }
   ],
   "source": [
    "tekst = \"Al  ma psa, hi hi hi, ha ha ha - Włazsne\"\n",
    "\n",
    "\n",
    "if tekst.find('Adam') < 0  and len(tekst) > 15:\n",
    "    print(\"Cóż za epopeja!\")\n",
    "elif tekst.find('Adam') >= 0  and len(tekst) < 15:\n",
    "    print(\"Wspaniała postać!\")\n",
    "elif tekst.find('Adam') >= 0  and len(tekst) > 15:\n",
    "    print(\"Mój ulubiony wiersz, gratulacje Panie Własne!\")\n"
   ]
  }
 ],
 "metadata": {
  "kernelspec": {
   "display_name": "Python [conda env:base] *",
   "language": "python",
   "name": "conda-base-py"
  },
  "language_info": {
   "codemirror_mode": {
    "name": "ipython",
    "version": 3
   },
   "file_extension": ".py",
   "mimetype": "text/x-python",
   "name": "python",
   "nbconvert_exporter": "python",
   "pygments_lexer": "ipython3",
   "version": "3.12.7"
  }
 },
 "nbformat": 4,
 "nbformat_minor": 4
}
