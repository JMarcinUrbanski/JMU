{
 "cells": [
  {
   "cell_type": "markdown",
   "metadata": {
    "toc": true
   },
   "source": [
    "<h1>Table of Contents<span class=\"tocSkip\"></span></h1>\n",
    "<div class=\"toc\"><ul class=\"toc-item\"><li><span><a href=\"#Zadanie-1---while\" data-toc-modified-id=\"Zadanie-1---while-1\">Zadanie 1 - while</a></span></li><li><span><a href=\"#Zadanie-2---while\" data-toc-modified-id=\"Zadanie-2---while-2\">Zadanie 2 - while</a></span></li><li><span><a href=\"#Zadanie-3---for\" data-toc-modified-id=\"Zadanie-3---for-3\">Zadanie 3 - for</a></span></li><li><span><a href=\"#Zadanie-4---for\" data-toc-modified-id=\"Zadanie-4---for-4\">Zadanie 4 - for</a></span></li></ul></div>"
   ]
  },
  {
   "cell_type": "markdown",
   "metadata": {},
   "source": [
    "#### Zadanie 1 - while\n",
    "\n",
    "Wyliczaj i wypisuj kolejne potęgi liczby 2 (od pierwszej)\n",
    "\n",
    "Przerwij, gdy wyliczona wartość jest większa niż 3000 (nie wypisuj jej już)\n",
    "\n",
    "Zrób to na dwa sposoby: (a) bez break, (b) z break"
   ]
  },
  {
   "cell_type": "code",
   "execution_count": null,
   "metadata": {},
   "outputs": [],
   "source": []
  },
  {
   "cell_type": "markdown",
   "metadata": {},
   "source": [
    "#### Zadanie 2 - while\n",
    "\n",
    "Pobieraj w kółko tekst od użytkownika\n",
    "\n",
    "Wypisz to co wpisał, ale wielkimi literami\n",
    "\n",
    "Przerwij, gdy wpisze \"quit\" lub \"q\"\n",
    "\n",
    "Zrób to na dwa sposoby: (a) bez break, (b) z break"
   ]
  },
  {
   "cell_type": "code",
   "execution_count": null,
   "metadata": {},
   "outputs": [],
   "source": []
  },
  {
   "cell_type": "markdown",
   "metadata": {},
   "source": [
    "#### Zadanie 3 - for\n",
    "\n",
    "Przejdź przez zmienną `tekst` znak po znaku\n",
    "\n",
    "Za każdym razem gdy natrafisz na spację, wypisz \"Spacja!\""
   ]
  },
  {
   "cell_type": "code",
   "execution_count": null,
   "metadata": {},
   "outputs": [],
   "source": [
    "tekst = \"Lorem ipsum dolor sit amet, consectetur adipiscing elit.\""
   ]
  },
  {
   "cell_type": "markdown",
   "metadata": {},
   "source": [
    "#### Zadanie 4 - for\n",
    "\n",
    "Dla liczb z zakresu od 1 do 15 (włącznie)\n",
    "\n",
    "Wypisz ich wartość do drugiej potęgi"
   ]
  },
  {
   "cell_type": "code",
   "execution_count": null,
   "metadata": {},
   "outputs": [],
   "source": []
  }
 ],
 "metadata": {
  "kernelspec": {
   "display_name": "Python 3",
   "language": "python",
   "name": "python3"
  },
  "language_info": {
   "codemirror_mode": {
    "name": "ipython",
    "version": 3
   },
   "file_extension": ".py",
   "mimetype": "text/x-python",
   "name": "python",
   "nbconvert_exporter": "python",
   "pygments_lexer": "ipython3",
   "version": "3.8.8"
  },
  "toc": {
   "base_numbering": 1,
   "nav_menu": {},
   "number_sections": false,
   "sideBar": false,
   "skip_h1_title": false,
   "title_cell": "Table of Contents",
   "title_sidebar": "Contents",
   "toc_cell": true,
   "toc_position": {},
   "toc_section_display": true,
   "toc_window_display": false
  }
 },
 "nbformat": 4,
 "nbformat_minor": 4
}
