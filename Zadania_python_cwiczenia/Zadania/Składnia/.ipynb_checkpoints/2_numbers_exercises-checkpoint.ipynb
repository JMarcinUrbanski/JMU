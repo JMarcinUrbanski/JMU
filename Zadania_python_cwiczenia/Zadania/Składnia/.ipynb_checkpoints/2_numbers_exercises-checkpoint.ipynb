{
 "cells": [
  {
   "cell_type": "markdown",
   "metadata": {},
   "source": [
    "#### Zadanie 1\n",
    "\n",
    "Trójkąt ma podstawę równą 10 i wysokość równą 8.\n",
    "\n",
    "Zapisz te wartości odpowiednio do zmiennych `a` i `h`"
   ]
  },
  {
   "cell_type": "code",
   "execution_count": 4,
   "metadata": {},
   "outputs": [
    {
     "name": "stdout",
     "output_type": "stream",
     "text": [
      "1\n"
     ]
    }
   ],
   "source": [
    "print(x)"
   ]
  },
  {
   "cell_type": "code",
   "execution_count": null,
   "metadata": {},
   "outputs": [],
   "source": []
  },
  {
   "cell_type": "markdown",
   "metadata": {},
   "source": [
    "#### Zadanie 2\n",
    "\n",
    "Drugi trójkąt ma podstawę o 4 dłuższą\n",
    "\n",
    "Wylicz jej wartość (użyj zmiennej `a`) i przypisz wynik do zmiennej `a_2`"
   ]
  },
  {
   "cell_type": "code",
   "execution_count": null,
   "metadata": {},
   "outputs": [],
   "source": []
  },
  {
   "cell_type": "markdown",
   "metadata": {},
   "source": [
    "#### Zadanie 3\n",
    "\n",
    "Policz pole drugiego trójkąta i wynik zapisz do zmiennej `pole_2`"
   ]
  },
  {
   "cell_type": "code",
   "execution_count": null,
   "metadata": {},
   "outputs": [],
   "source": []
  },
  {
   "cell_type": "markdown",
   "metadata": {},
   "source": [
    "#### Zadanie 4\n",
    "\n",
    "Pierwsza kwota wynosi 14,23 zł, druga 10,50 zł\n",
    "\n",
    "Zapisz je jako zmienne typu float - `kwota_1` i `kwota_2`\n",
    "\n",
    "Dodaj je do siebie i zapisz wynik do zmiennej `suma`"
   ]
  },
  {
   "cell_type": "code",
   "execution_count": null,
   "metadata": {},
   "outputs": [],
   "source": []
  },
  {
   "cell_type": "markdown",
   "metadata": {},
   "source": [
    "#### Zadanie 5\n",
    "\n",
    "Boki prostkąta zapisane są w poniższych zmiennych. Korzystając z twierdzenia Pitagorasa wylicz jego przekątną.\n",
    "\n",
    "(pierwiastek drugiego stopnia to inaczej potęga 1/2)"
   ]
  },
  {
   "cell_type": "code",
   "execution_count": null,
   "metadata": {},
   "outputs": [],
   "source": [
    "a = 8\n",
    "b = 13"
   ]
  },
  {
   "cell_type": "markdown",
   "metadata": {},
   "source": [
    "#### Zadanie 5\n",
    "\n",
    "Wylicz odległość pomiędzy poniższymi punktami."
   ]
  },
  {
   "cell_type": "code",
   "execution_count": null,
   "metadata": {},
   "outputs": [],
   "source": [
    "A_x = 30\n",
    "A_y = 150\n",
    "B_x = 120\n",
    "B_y = 100"
   ]
  },
  {
   "cell_type": "markdown",
   "metadata": {},
   "source": [
    "#### Zadanie 6\n",
    "\n",
    "Wykorzystywanie float do liczenia pieniędzy nie jest dobrym pomysłem. Spróbujmy użyć zawsze precyzyjnych liczb całkowitych.\n",
    "\n",
    "Wykorzystaj poniższe zmienne, żeby policzyć sumę kwot. Wypisz wynik jako tekst `xx,yy zł`"
   ]
  },
  {
   "cell_type": "code",
   "execution_count": 1,
   "metadata": {},
   "outputs": [],
   "source": [
    "zlotowki_1 = 14\n",
    "grosze_1 = 23\n",
    "zlotowki_2 = 10\n",
    "grosze_2 = 50"
   ]
  },
  {
   "cell_type": "code",
   "execution_count": 9,
   "metadata": {},
   "outputs": [
    {
     "name": "stdout",
     "output_type": "stream",
     "text": [
      "24,73 zł\n"
     ]
    }
   ],
   "source": [
    "suma_z=zlotowki_1+zlotowki_2\n",
    "suma_g=grosze_1+grosze_2\n",
    "print(f'{suma_z},{suma_g} zł')"
   ]
  },
  {
   "cell_type": "markdown",
   "metadata": {},
   "source": [
    "#### Zadanie 7\n",
    "\n",
    "Wykonaj powyższe ćwiczenie (5, z liczbami całkowitymi), ale dla kwot 26,78 zł i 4,50 zł"
   ]
  },
  {
   "cell_type": "code",
   "execution_count": null,
   "metadata": {},
   "outputs": [],
   "source": []
  }
 ],
 "metadata": {
  "kernelspec": {
   "display_name": "Python [conda env:base] *",
   "language": "python",
   "name": "conda-base-py"
  },
  "language_info": {
   "codemirror_mode": {
    "name": "ipython",
    "version": 3
   },
   "file_extension": ".py",
   "mimetype": "text/x-python",
   "name": "python",
   "nbconvert_exporter": "python",
   "pygments_lexer": "ipython3",
   "version": "3.12.7"
  }
 },
 "nbformat": 4,
 "nbformat_minor": 4
}
