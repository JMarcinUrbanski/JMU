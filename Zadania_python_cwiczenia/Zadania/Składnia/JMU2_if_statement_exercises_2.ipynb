{
 "cells": [
  {
   "cell_type": "markdown",
   "metadata": {},
   "source": [
    "#### Zadanie 1\n",
    "\n",
    "Napisz algorytm, który sprawdzi, czy liczba jest parzysta\n",
    "\n",
    "Pobierz liczbę od użytkownika"
   ]
  },
  {
   "cell_type": "code",
   "execution_count": 5,
   "metadata": {},
   "outputs": [
    {
     "name": "stdin",
     "output_type": "stream",
     "text": [
      "enter the number 12\n"
     ]
    },
    {
     "name": "stdout",
     "output_type": "stream",
     "text": [
      "num is even\n"
     ]
    }
   ],
   "source": [
    "num = int(input('enter the number'))\n",
    "\n",
    "if num % 2 == 0:\n",
    "    print('num is even')\n",
    "else:\n",
    "    print('num is odd')\n",
    "    "
   ]
  },
  {
   "cell_type": "markdown",
   "metadata": {},
   "source": [
    "#### Zadanie 2  \n",
    "\n",
    "Poproś użytkownika o login\n",
    "\n",
    "Sprawdź, czy zgadza się z \"adamnowak\" i wypisz informację\n",
    "\n",
    "(Dla loginów nie ma znaczenia wielkość liter - AdaMNowak też powinno zadziałać)"
   ]
  },
  {
   "cell_type": "code",
   "execution_count": 25,
   "metadata": {},
   "outputs": [
    {
     "name": "stdin",
     "output_type": "stream",
     "text": [
      "enter the login asdadm\n"
     ]
    },
    {
     "name": "stdout",
     "output_type": "stream",
     "text": [
      "incorrect\n",
      "asdadm\n"
     ]
    }
   ],
   "source": [
    "log = input('enter the login').casefold()\n",
    "\n",
    "if log == 'adamnowak':\n",
    "    print('correct')\n",
    "else:\n",
    "    print('incorrect')\n",
    "print(log)"
   ]
  },
  {
   "cell_type": "markdown",
   "metadata": {},
   "source": [
    "#### Zadanie 3\n",
    "\n",
    "Poproś użytkownika \"adamnowak\" o nowe hasło\n",
    "\n",
    "Sprawdź, czy jego login (\"adamnowak\") się w nim zawiera (wielkimi lub małymi literami) i wypisz informację"
   ]
  },
  {
   "cell_type": "code",
   "execution_count": 111,
   "metadata": {},
   "outputs": [
    {
     "name": "stdin",
     "output_type": "stream",
     "text": [
      "enter new log .......... adamNOWAK 220\n"
     ]
    },
    {
     "name": "stdout",
     "output_type": "stream",
     "text": [
      "------------\n",
      "new login contain previous log\n"
     ]
    }
   ],
   "source": [
    "log = \"Adamnowak\"\n",
    "new_log=input('enter new log ..........').casefold()\n",
    "\n",
    "if log.casefold() not in new_log:\n",
    "    print('your new login is totally fresh')\n",
    "else:\n",
    "    print('------------')\n",
    "    print('new login contain previous log')"
   ]
  },
  {
   "cell_type": "markdown",
   "metadata": {},
   "source": [
    "#### Zadanie 4\n",
    "\n",
    "Poproś użytkownika o nowe hasło i sprawdź czy jest bezpieczne, tzn. spełnia wszystkie poniższe warunki:\n",
    "\n",
    "* Ma 8 znaków lub więcej\n",
    "* Nie zawiera roku: 2021, ani miesiąca (obecnego, słownie, czyli \"luty\", niezależnie od wielkości liter)\n",
    "* Zawiera przynajmniej jeden znak specjalny \"#\", \"@\" lub \"&\""
   ]
  },
  {
   "cell_type": "code",
   "execution_count": 89,
   "metadata": {},
   "outputs": [
    {
     "name": "stdin",
     "output_type": "stream",
     "text": [
      "more then 8 , no 2021 or month , has 1 specjal mark #@& marcin@#\n"
     ]
    },
    {
     "name": "stdout",
     "output_type": "stream",
     "text": [
      "login accepted\n"
     ]
    }
   ],
   "source": [
    "login =input('more then 8 , no 2021 or month , has 1 specjal mark #@&')\n",
    "\n",
    "if len(login) < 8 or login.find('2021') >= 0 or login.find(\"luty\") >= 0 or login.find('#')+login.find('@')+login.find('&') <= -3:\n",
    "    print('enter again')\n",
    "else: \n",
    "    print('login accepted')\n",
    "\n"
   ]
  },
  {
   "cell_type": "markdown",
   "metadata": {},
   "source": [
    "#### Zadanie 5\n",
    "\n",
    "Poproś użytkownika o fragment tekstu, a następnie o słowo\n",
    "\n",
    "Określ na której pozycji rozpoczyna się dane słowo w danym tekscie używając metody `find`\n",
    "\n",
    "Wypisz odpowiedni komunikat - jeden w przypadku sukcesu, drugi w przypadku porażki (braku słowa w tekscie)\n",
    "\n",
    "Np.:\n",
    "Dla tekstu \"Ala ma kota\" i słowa \"kot\"\n",
    "\n",
    "\"Słowo \"kot\" znajduje się na 7 pozycji.\"\n",
    "\n",
    "Dla tekstu \"Ala ma kota\" i słowa \"pies\"\n",
    "\n",
    "\"Słowo \"pies\" nie znajduje się w tekscie.\""
   ]
  },
  {
   "cell_type": "code",
   "execution_count": 117,
   "metadata": {},
   "outputs": [
    {
     "name": "stdin",
     "output_type": "stream",
     "text": [
      "type random text ala ma kota\n",
      "type one word form the text kot\n"
     ]
    },
    {
     "name": "stdout",
     "output_type": "stream",
     "text": [
      "słowo kot znajduje się na 7 pozycji.\n"
     ]
    }
   ],
   "source": [
    "text=input('type random text').casefold()\n",
    "word=input('type one word form the text').casefold()\n",
    "\n",
    "if word in text:\n",
    "    print(f'słowo {word} znajduje się na {text.find(word)} pozycji.')\n",
    "else:\n",
    "    print(f'słowo {word} nie znajduje się w tekscie.')"
   ]
  },
  {
   "cell_type": "markdown",
   "metadata": {},
   "source": [
    "#### Zadanie 6 ----???????????????????????????\n",
    "\n",
    "Rozwiń powyższy program dodając do komunikatu wizualizację: wszystkie elementy tekstu które nie są pierwszym wystąpieniem słowa zamień na \"_\"\n",
    "\n",
    "Np.:\n",
    "\n",
    "Dla tekstu \"Ala ma kota\" i słowa \"kot\"\n",
    "\n",
    "\"Słowo \"kot\" znajduje się na 7 pozycji.\"\n",
    "\n",
    "`_______kot_`\n",
    "\n",
    "Dla tekstu \"Ala ma kota\" i słowa \"pies\"\n",
    "\n",
    "\"Słowo \"pies\" nie znajduje się w tekscie.\"\n",
    "\n",
    "`___________`\n",
    "\n",
    "Uwaga! Zależy nam na wizualizacji, a nie wartości - użyj mądrego tworzenia stringa i indeksowania, a nie podmiany wartości."
   ]
  },
  {
   "cell_type": "code",
   "execution_count": null,
   "metadata": {},
   "outputs": [],
   "source": [
    "text=input('type random text').casefold()\n",
    "word=input('type one word form the text').casefold()\n",
    "\n",
    "\n",
    "    \n",
    "if word in text:\n",
    "    text.replace\n",
    "        \n",
    "    print(f'słowo {word} znajduje się na {text.find(word)} pozycji.')\n",
    "else:\n",
    "    print(f'słowo {word} nie znajduje się w tekscie.')"
   ]
  },
  {
   "cell_type": "markdown",
   "metadata": {},
   "source": [
    "#### Zadanie 7\n",
    "\n",
    "Pobierz liczbę od użytkownika\n",
    "\n",
    "Sprawdź czy użytkownik faktycznie podał liczbę (metoda `isdigit` typu string)\n",
    "\n",
    "Jeżeli tak to sprawdź podzielność przez kolejno 3, 5 i 7 (nie jednocześnie)\n",
    "\n",
    "Wypisz rezultat dla każdego sprawdzenia\n",
    "\n",
    "Np. dla liczby 21\n",
    "\n",
    "\"Liczba 21 jest podzielna przez 3!\"\n",
    "\n",
    "\"Liczba 21 jest podzielna przez 7!\""
   ]
  },
  {
   "cell_type": "code",
   "execution_count": 153,
   "metadata": {},
   "outputs": [
    {
     "name": "stdin",
     "output_type": "stream",
     "text": [
      "type number marcin\n"
     ]
    },
    {
     "name": "stdout",
     "output_type": "stream",
     "text": [
      " //marcin// TO NIE JEST LICZBA\n"
     ]
    }
   ],
   "source": [
    "num = input('type number')\n",
    "\n",
    "if num.isdigit()==True:\n",
    "    if float(num)%3==0:\n",
    "        print(f'Liczba {num} jest podzielna przez 3')\n",
    "    elif float(num)%5==0:\n",
    "         print(f'Liczba {num} jest podzielna przez 5')\n",
    "    elif float(num)%7==0:\n",
    "         print(f'Liczba {num} jest podzielna przez 7')\n",
    "    else:\n",
    "        print(f'Liczba {num} nie jest podzielna prze 3, 5 lub 7')\n",
    "else:\n",
    "     print(f' //{num}// TO NIE JEST LICZBA')"
   ]
  },
  {
   "cell_type": "code",
   "execution_count": 161,
   "metadata": {},
   "outputs": [
    {
     "ename": "AttributeError",
     "evalue": "'int' object has no attribute 'isdigit'",
     "output_type": "error",
     "traceback": [
      "\u001b[0;31m---------------------------------------------------------------------------\u001b[0m",
      "\u001b[0;31mAttributeError\u001b[0m                            Traceback (most recent call last)",
      "Cell \u001b[0;32mIn[161], line 3\u001b[0m\n\u001b[1;32m      1\u001b[0m txt \u001b[38;5;241m=\u001b[39m \u001b[38;5;28mint\u001b[39m(\u001b[38;5;124m\"\u001b[39m\u001b[38;5;124m50800\u001b[39m\u001b[38;5;124m\"\u001b[39m)\n\u001b[0;32m----> 3\u001b[0m x \u001b[38;5;241m=\u001b[39m txt\u001b[38;5;241m.\u001b[39misdigit()\n\u001b[1;32m      5\u001b[0m \u001b[38;5;28mprint\u001b[39m(\u001b[38;5;28mtype\u001b[39m(txt))\n\u001b[1;32m      6\u001b[0m \u001b[38;5;28mprint\u001b[39m(\u001b[38;5;28mtype\u001b[39m(x))\n",
      "\u001b[0;31mAttributeError\u001b[0m: 'int' object has no attribute 'isdigit'"
     ]
    }
   ],
   "source": [
    "txt = int(\"50800\")\n",
    "\n",
    "x = txt.isdigit()\n",
    "\n",
    "print(type(txt))\n",
    "print(type(x))"
   ]
  },
  {
   "cell_type": "markdown",
   "metadata": {},
   "source": [
    "#### Zadanie 8\n",
    "\n",
    "Pobierz wynik sprawdzianu od użytkownika\n",
    "\n",
    "Sprawdź czy jest to liczba i czy jest z zakresu 0 do 100\n",
    "\n",
    "Wypisz ocenę na podstawie progu procentowego\n",
    "\n",
    "\"5\" od 90, \"4+\" od 80, \"4\" od 70, \"3+\" od 60, \"3\" od 50, \"2\" dla mniej niż 50"
   ]
  },
  {
   "cell_type": "code",
   "execution_count": 179,
   "metadata": {},
   "outputs": [
    {
     "name": "stdin",
     "output_type": "stream",
     "text": [
      "type grade 1231\n"
     ]
    },
    {
     "name": "stdout",
     "output_type": "stream",
     "text": [
      " //1231// TO NIE JEST LICZBA lub LICZBA NIE JEST Z ZAKRESU 0-100 \n"
     ]
    }
   ],
   "source": [
    "grade=input('type grade')\n",
    "\n",
    "if grade.isdigit() == True and int(grade) >=0 and int(grade) <= 100:\n",
    "    if int(grade) >=90:\n",
    "        print('5')\n",
    "    elif int(grade) >=80 and int(grade)< 90:\n",
    "        print('4+')\n",
    "    elif int(grade) >=70 and int(grade) < 80:\n",
    "        print('4')\n",
    "    elif int(grade) >=60 and int(grade) < 70:\n",
    "        print('3+')\n",
    "    elif int(grade) >=50 and int(grade) < 60:\n",
    "        print('3')\n",
    "    elif int(grade) >= 0 and int(grade) < 50:\n",
    "        print('2')\n",
    "else:\n",
    "     print(f' //{grade}// TO NIE JEST LICZBA lub LICZBA NIE JEST Z ZAKRESU 0-100 ')"
   ]
  },
  {
   "cell_type": "markdown",
   "metadata": {},
   "source": [
    "#### Zadanie 9  ------- ????????????????????????????\n",
    "\n",
    "Sprawdź czy jest wygrana w kółko i krzyżyk\n",
    "\n",
    "Wejście to 9 znaków oznaczających stan planszy w kolejnych wierszach - \"x\", \"o\", lub puste \"-\"\n",
    "\n",
    "Wypisz czy jest wygrana i czyja\n",
    "\n",
    "Sprawdź kilka planszy"
   ]
  },
  {
   "cell_type": "code",
   "execution_count": null,
   "metadata": {},
   "outputs": [],
   "source": [
    "plansza_1 = \"xoo-xo--x\"\n",
    "plansza_2 = \"xooxoo--x\"\n",
    "plansza_3 = \"xooxoooxx\""
   ]
  },
  {
   "cell_type": "code",
   "execution_count": null,
   "metadata": {},
   "outputs": [],
   "source": []
  }
 ],
 "metadata": {
  "kernelspec": {
   "display_name": "Python [conda env:base] *",
   "language": "python",
   "name": "conda-base-py"
  },
  "language_info": {
   "codemirror_mode": {
    "name": "ipython",
    "version": 3
   },
   "file_extension": ".py",
   "mimetype": "text/x-python",
   "name": "python",
   "nbconvert_exporter": "python",
   "pygments_lexer": "ipython3",
   "version": "3.12.7"
  }
 },
 "nbformat": 4,
 "nbformat_minor": 4
}
