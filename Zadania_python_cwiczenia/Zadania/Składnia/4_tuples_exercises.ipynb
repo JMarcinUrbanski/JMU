{
 "cells": [
  {
   "cell_type": "markdown",
   "metadata": {},
   "source": [
    "#### Zadanie 1\n",
    "\n",
    "Stwórz rekord w postaci krotki (imie, nazwisko) z poniższych zmiennych"
   ]
  },
  {
   "cell_type": "code",
   "execution_count": null,
   "metadata": {},
   "outputs": [],
   "source": [
    "name = \"James\"\n",
    "surname = \"Bond\""
   ]
  },
  {
   "cell_type": "markdown",
   "metadata": {},
   "source": [
    "#### Zadanie 2\n",
    "\n",
    "Dodaj do rekordu z zadania 1 kod (tak aby krotka miała trzy elementy)"
   ]
  },
  {
   "cell_type": "code",
   "execution_count": null,
   "metadata": {},
   "outputs": [],
   "source": [
    "code = \"007\""
   ]
  },
  {
   "cell_type": "markdown",
   "metadata": {},
   "source": [
    "#### Zadanie 3\n",
    "\n",
    "Poniżej znajduje się lista prostokątów opisanych jako para `(bok_a, bok_b)`\n",
    "\n",
    "Dla każdego z nich wylicz i wypisz obwód\n",
    "\n",
    "Użyj rozpakowania krotki od razu w pętli `for`"
   ]
  },
  {
   "cell_type": "code",
   "execution_count": null,
   "metadata": {},
   "outputs": [],
   "source": [
    "rects = [\n",
    "    (10, 50),\n",
    "    (10, 9),\n",
    "    (15, 3),\n",
    "    (30, 45)\n",
    "]"
   ]
  },
  {
   "cell_type": "markdown",
   "metadata": {},
   "source": [
    "#### Zadanie 4\n",
    "\n",
    "Dla każego z prostokątów wylicz obwód i pole powierzchni.\n",
    "\n",
    "Stwórz nową listę `wyniki` która będzie zawierała pary `(obwod, pole)` dla każdego z prostokątów."
   ]
  },
  {
   "cell_type": "code",
   "execution_count": null,
   "metadata": {},
   "outputs": [],
   "source": [
    "rects = [\n",
    "    (10, 50),\n",
    "    (10, 9),\n",
    "    (15, 3),\n",
    "    (30, 45)\n",
    "]"
   ]
  },
  {
   "cell_type": "markdown",
   "metadata": {},
   "source": [
    "#### Zadanie 5\n",
    "\n",
    "Na podstawie dwóch list, imion i nazwisk, stwórz listę rekrodów w postaci krotki `(imie, nazwisko)`"
   ]
  },
  {
   "cell_type": "code",
   "execution_count": null,
   "metadata": {},
   "outputs": [],
   "source": [
    "imiona = [\"Adam\", \"Bartosz\", \"Cyryl\"]\n",
    "nazwiska = [\"Nowak\", \"Kowalski\", \"Imetody\"]"
   ]
  },
  {
   "cell_type": "markdown",
   "metadata": {},
   "source": [
    "#### Zadanie 6\n",
    "\n",
    "Spróbuj okiełznać funkcję `zip()` do wykonania zadania 5"
   ]
  },
  {
   "cell_type": "code",
   "execution_count": null,
   "metadata": {},
   "outputs": [],
   "source": []
  }
 ],
 "metadata": {
  "kernelspec": {
   "display_name": "Python 3",
   "language": "python",
   "name": "python3"
  },
  "language_info": {
   "codemirror_mode": {
    "name": "ipython",
    "version": 3
   },
   "file_extension": ".py",
   "mimetype": "text/x-python",
   "name": "python",
   "nbconvert_exporter": "python",
   "pygments_lexer": "ipython3",
   "version": "3.7.6"
  }
 },
 "nbformat": 4,
 "nbformat_minor": 4
}
