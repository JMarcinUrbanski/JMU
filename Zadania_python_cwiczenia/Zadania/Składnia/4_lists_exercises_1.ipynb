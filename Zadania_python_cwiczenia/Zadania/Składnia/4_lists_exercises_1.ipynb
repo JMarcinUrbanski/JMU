{
 "cells": [
  {
   "cell_type": "markdown",
   "metadata": {},
   "source": [
    "#### Zadanie 1\n",
    "\n",
    "Zadeklaruj listę `miasta` która będzie zawierała następujące stringi \"gdańsk\", \"kraków\", \"warszawa\", \"sopot\""
   ]
  },
  {
   "cell_type": "code",
   "execution_count": 6,
   "metadata": {},
   "outputs": [
    {
     "name": "stdout",
     "output_type": "stream",
     "text": [
      "<class 'list'>\n"
     ]
    }
   ],
   "source": [
    "miasta=['gdansk','krakow','warszawa','sopot']\n",
    "print(type(miasta))"
   ]
  },
  {
   "cell_type": "markdown",
   "metadata": {},
   "source": [
    "#### Zadanie 2\n",
    "\n",
    "Dodaj do listy `miasta` nastepujące wartości: \"gdynia\", \"poznań\""
   ]
  },
  {
   "cell_type": "code",
   "execution_count": 8,
   "metadata": {},
   "outputs": [
    {
     "name": "stdout",
     "output_type": "stream",
     "text": [
      "['gdansk', 'krakow', 'warszawa', 'sopot', 'gdynia', 'poznan']\n"
     ]
    }
   ],
   "source": [
    "miasta2=['gdynia','poznan']\n",
    "\n",
    "for m in miasta2:\n",
    "    miasta.append(m)\n",
    "\n",
    "print(miasta)"
   ]
  },
  {
   "cell_type": "markdown",
   "metadata": {},
   "source": [
    "#### Zadanie 3\n",
    "\n",
    "Dodaj do listy `miasta` elementy następującej listy:"
   ]
  },
  {
   "cell_type": "code",
   "execution_count": 82,
   "metadata": {},
   "outputs": [
    {
     "name": "stdout",
     "output_type": "stream",
     "text": [
      "['gdansk', 'krakow', 'warszawa', 'sopot', 'gdynia', 'poznan', 'wrocław', 'łódź']\n"
     ]
    }
   ],
   "source": [
    "inne_miasta = [\"wrocław\", \"łódź\"]\n",
    "\n",
    "miasta.extend(inne_miasta)\n",
    "\n",
    "print(miasta)"
   ]
  },
  {
   "cell_type": "markdown",
   "metadata": {},
   "source": [
    "#### Zadanie 4\n",
    "\n",
    "Wypisz wszystkie miasta z listy `miasta`, ale pisane wielką literą"
   ]
  },
  {
   "cell_type": "code",
   "execution_count": 36,
   "metadata": {},
   "outputs": [
    {
     "name": "stdout",
     "output_type": "stream",
     "text": [
      "Gdansk\n",
      "Krakow\n",
      "Warszawa\n",
      "Sopot\n",
      "Gdynia\n",
      "Poznan\n"
     ]
    }
   ],
   "source": [
    "i=0\n",
    "\n",
    "for c in miasta:\n",
    "    print(miasta[i].capitalize())\n",
    "    i+=1\n"
   ]
  },
  {
   "cell_type": "markdown",
   "metadata": {},
   "source": [
    "#### Zadanie 5\n",
    "\n",
    "Stwórz nową listę w której będą miasta z listy `miasta`, ale pisane wielką literą"
   ]
  },
  {
   "cell_type": "code",
   "execution_count": 42,
   "metadata": {},
   "outputs": [
    {
     "name": "stdout",
     "output_type": "stream",
     "text": [
      "['Gdansk', 'Krakow', 'Warszawa', 'Sopot', 'Gdynia', 'Poznan']\n"
     ]
    }
   ],
   "source": [
    "i=0\n",
    "miasta_c=[]\n",
    "\n",
    "for c in miasta:\n",
    "    miasta_c.append(miasta[i].capitalize())\n",
    "    i+=1 \n",
    "print(miasta_c)"
   ]
  },
  {
   "cell_type": "markdown",
   "metadata": {},
   "source": [
    "#### Zadanie 6\n",
    "\n",
    "Zadeklaruj listę `liczby`, która będzie zawierała liczby od 1 do 10 (włącznie) na podane sposoby\n",
    "\n",
    "a. Podając wartości\n",
    "\n",
    "b. Konstruktorem `list()` i obiektem `range()`"
   ]
  },
  {
   "cell_type": "code",
   "execution_count": 58,
   "metadata": {},
   "outputs": [
    {
     "name": "stdout",
     "output_type": "stream",
     "text": [
      "[1, 2, 3, 4, 5, 6, 7, 8, 9, 10]\n"
     ]
    }
   ],
   "source": [
    "liczby=[1,2,3,4,5,6,7,8,9,10]\n",
    "liczby2=list(range(1,11))\n",
    "\n",
    "print(liczby)"
   ]
  },
  {
   "cell_type": "markdown",
   "metadata": {},
   "source": [
    "#### Zadanie 7\n",
    "\n",
    "Wypisz wszystkie liczby z listy `liczby`, ale powiększone o 10 - tzn. 11, 12 ... 20"
   ]
  },
  {
   "cell_type": "code",
   "execution_count": 64,
   "metadata": {},
   "outputs": [
    {
     "name": "stdout",
     "output_type": "stream",
     "text": [
      "[11, 12, 13, 14, 15, 16, 17, 18, 19, 20]\n"
     ]
    }
   ],
   "source": [
    "i=0\n",
    "for plus in liczby:\n",
    "    liczby[i]+=10\n",
    "    i+=1\n",
    "\n",
    "print(liczby)"
   ]
  },
  {
   "cell_type": "markdown",
   "metadata": {},
   "source": [
    "#### Zadanie 8\n",
    "\n",
    "Stwórz listę `do_kwadratu` w której znajdą się elementy listy `liczby`, ale podniesione do drugiej potęgi"
   ]
  },
  {
   "cell_type": "code",
   "execution_count": 68,
   "metadata": {},
   "outputs": [
    {
     "name": "stdout",
     "output_type": "stream",
     "text": [
      "[121, 144, 169, 196, 225, 256, 289, 324, 361, 400]\n"
     ]
    }
   ],
   "source": [
    "do_kwadratu=[]\n",
    "i=0\n",
    "for kwadrat in liczby:\n",
    "    do_kwadratu.append(liczby[i]**2)\n",
    "    i+=1\n",
    "\n",
    "print(do_kwadratu)"
   ]
  },
  {
   "cell_type": "markdown",
   "metadata": {},
   "source": [
    "#### Zadanie 9\n",
    "\n",
    "Stwórz listę `nieparzyste` w której znajdą się nieparzyste elementy listy `liczby`"
   ]
  },
  {
   "cell_type": "code",
   "execution_count": 74,
   "metadata": {},
   "outputs": [
    {
     "name": "stdout",
     "output_type": "stream",
     "text": [
      "[12, 14, 16, 18, 20]\n"
     ]
    }
   ],
   "source": [
    "nieparzyste=[]\n",
    "i=0\n",
    "for n in liczby:\n",
    "    if n%2==0:\n",
    "        nieparzyste.append(liczby[i])\n",
    "    i+=1\n",
    "\n",
    "print(nieparzyste)"
   ]
  },
  {
   "cell_type": "markdown",
   "metadata": {},
   "source": [
    "#### Zadanie 10\n",
    "\n",
    "Stwórz listę `duzo_liczb`, która będzie zawierała liczby od 0 do 1000 (włącznie)\n",
    "\n",
    "Policz ile z tych liczb jest podzielnych przez 7 i wypisz wynik"
   ]
  },
  {
   "cell_type": "code",
   "execution_count": 80,
   "metadata": {},
   "outputs": [
    {
     "name": "stdout",
     "output_type": "stream",
     "text": [
      "143\n"
     ]
    }
   ],
   "source": [
    "duzo_liczb=list(range(1001))\n",
    "\n",
    "count=0\n",
    "i=0\n",
    "\n",
    "for c in duzo_liczb:\n",
    "    if duzo_liczb[i]%7==0:\n",
    "        count+=1\n",
    "    i+=1\n",
    "\n",
    "print(count)\n"
   ]
  }
 ],
 "metadata": {
  "kernelspec": {
   "display_name": "Python [conda env:base] *",
   "language": "python",
   "name": "conda-base-py"
  },
  "language_info": {
   "codemirror_mode": {
    "name": "ipython",
    "version": 3
   },
   "file_extension": ".py",
   "mimetype": "text/x-python",
   "name": "python",
   "nbconvert_exporter": "python",
   "pygments_lexer": "ipython3",
   "version": "3.12.7"
  }
 },
 "nbformat": 4,
 "nbformat_minor": 4
}
