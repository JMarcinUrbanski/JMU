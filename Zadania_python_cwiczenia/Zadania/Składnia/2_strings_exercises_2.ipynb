{
 "cells": [
  {
   "cell_type": "markdown",
   "metadata": {},
   "source": [
    "#### Zadanie 1\n",
    "\n",
    "Wypisz do konsoli tekst \"Twój wynik to: 5.0!\"\n",
    "\n",
    "Wykorzystaj zmienną `wynik` i formatowanie stringa (f\"\", lub metoda .format())"
   ]
  },
  {
   "cell_type": "code",
   "execution_count": null,
   "metadata": {},
   "outputs": [],
   "source": [
    "wynik = 5.0"
   ]
  },
  {
   "cell_type": "markdown",
   "metadata": {},
   "source": [
    "#### Zadanie 2\n",
    "\n",
    "Wypisz tekst tak jak wyżej, ale zmień formatowanie na 3 miejsca po przecinku\n",
    "\n",
    "\"Twój wynik to: 5.000!\"\n",
    "\n",
    "Wykorzystaj formatowanie miejsc po przecinku (:.3f we właściwym miejscu)"
   ]
  },
  {
   "cell_type": "code",
   "execution_count": null,
   "metadata": {},
   "outputs": [],
   "source": []
  },
  {
   "cell_type": "markdown",
   "metadata": {},
   "source": [
    "#### Zadanie 3\n",
    "\n",
    "Zmień wartość zmiennej `wynik` na 4.15\n",
    "\n",
    "Wypisz tekst z zadania 2 z nową wartością"
   ]
  },
  {
   "cell_type": "code",
   "execution_count": null,
   "metadata": {},
   "outputs": [],
   "source": []
  },
  {
   "cell_type": "markdown",
   "metadata": {},
   "source": [
    "#### Zadanie 4\n",
    "\n",
    "41737 na 88615 programistów używa pythona.\n",
    "\n",
    "Wypisz te wartość procentowo, z dokładnością do 1 miejsca po przecinku."
   ]
  },
  {
   "cell_type": "code",
   "execution_count": null,
   "metadata": {},
   "outputs": [],
   "source": []
  },
  {
   "cell_type": "markdown",
   "metadata": {},
   "source": [
    "#### Zadanie 5\n",
    "\n",
    "Do `imie` i `nazwisko` wpisz... imie i nazwisko, ale małymi literami.\n",
    "\n",
    "Następnie, zapisz do jednej zmiennej `user` imie i nazwisko, oba z wielkiej litery, rozdzielone spacją.\n",
    "\n",
    "Przykładowy wynik: \"Ania Hania\" otrzymany z \"ania\" i \"hania\""
   ]
  },
  {
   "cell_type": "code",
   "execution_count": null,
   "metadata": {},
   "outputs": [],
   "source": []
  },
  {
   "cell_type": "markdown",
   "metadata": {},
   "source": [
    "#### Zadanie 6\n",
    "\n",
    "Napisz program który policzy ile razy Rihanna śpiewa \"work\" we fragmencie swojego utworu\n",
    "\n",
    "Wykorzystaj metodę `count`"
   ]
  },
  {
   "cell_type": "code",
   "execution_count": null,
   "metadata": {},
   "outputs": [],
   "source": [
    "fragment_piosenki = \"\"\"Work, work, work, work, work, work\n",
    "You see me I be work, work, work, work, work, work\n",
    "You see me do me dirt, dirt, dirt, dirt, dirt, dirt\n",
    "There's something 'bout that work, work, work, work, work, work\n",
    "When you a gon' learn, learn, learn, learn, learn, learn\n",
    "Me na care if me tired, tired, tired, tired, tired, tired\"\"\""
   ]
  },
  {
   "cell_type": "markdown",
   "metadata": {},
   "source": [
    "####  Zadanie 7\n",
    "\n",
    "Napisz program, który sprawdzi ile znaków potrzeba, żeby Rihanna zmęczyła się własną piosenką, tzn., na ktorej pozycji znajduje się pierwsze wystąpienie słowa \"tired\" we fragmencie utworu\n",
    "\n",
    "Wykorzystaj metodę `find`"
   ]
  },
  {
   "cell_type": "code",
   "execution_count": null,
   "metadata": {},
   "outputs": [],
   "source": []
  },
  {
   "cell_type": "markdown",
   "metadata": {},
   "source": [
    "#### Zadanie 8\n",
    "\n",
    "Nie wszyscy muszą utożsamiać się z fragmentem piosenki - dostosujmy więc tekst do siebie.\n",
    "\n",
    "Napisz program, który odpowiednio zamieni wszystkie wystąpienia słowów:\n",
    "\n",
    "\"work\" na \"programming\" (Uwzględnij pierwsze wystąpienie z wielkiej litery!),\n",
    "\n",
    "\"dirt\" na \"python\"\n",
    "\n",
    "Wykorzystaj metodę `replace`"
   ]
  },
  {
   "cell_type": "code",
   "execution_count": null,
   "metadata": {},
   "outputs": [],
   "source": []
  },
  {
   "cell_type": "markdown",
   "metadata": {},
   "source": [
    "#### Zadanie 9 z gwiazdką - jeszcze nie omówiliśmy wyrażeń logicznych, ale śmiało spróbuj :)\n",
    "\n",
    "Napisz program który sprawdzi i wypisze wartość boolean, czy podany plik jest obrazkiem.\n",
    "\n",
    "Załóżmy, że obsługujemy następujące formaty: .bmp .png .jpg .jpeg\n",
    "\n",
    "Spróbuj zrealizować zadanie na dwa sposoby:\n",
    "\n",
    "a. slicing\n",
    "\n",
    "b. wykorzystując metodę `endswith`"
   ]
  },
  {
   "cell_type": "code",
   "execution_count": 1,
   "metadata": {},
   "outputs": [],
   "source": [
    "filename_1 = \"obrazek1.jpeg\"\n",
    "filename_2 = \"obrazek1.png\"\n",
    "filename_3 = \"obrazek1.docx\""
   ]
  }
 ],
 "metadata": {
  "kernelspec": {
   "display_name": "Python 3",
   "language": "python",
   "name": "python3"
  },
  "language_info": {
   "codemirror_mode": {
    "name": "ipython",
    "version": 3
   },
   "file_extension": ".py",
   "mimetype": "text/x-python",
   "name": "python",
   "nbconvert_exporter": "python",
   "pygments_lexer": "ipython3",
   "version": "3.8.8"
  }
 },
 "nbformat": 4,
 "nbformat_minor": 4
}
